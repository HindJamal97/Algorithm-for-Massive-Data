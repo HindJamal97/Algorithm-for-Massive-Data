{
  "nbformat": 4,
  "nbformat_minor": 0,
  "metadata": {
    "colab": {
      "provenance": [],
      "authorship_tag": "ABX9TyMMKEtcaILWXihH9ZeuoBCw",
      "include_colab_link": true
    },
    "kernelspec": {
      "name": "python3",
      "display_name": "Python 3"
    },
    "language_info": {
      "name": "python"
    }
  },
  "cells": [
    {
      "cell_type": "markdown",
      "metadata": {
        "id": "view-in-github",
        "colab_type": "text"
      },
      "source": [
        "<a href=\"https://colab.research.google.com/github/HindJamal97/Algorithm-for-Massive-Data/blob/main/A_priori.ipynb\" target=\"_parent\"><img src=\"https://colab.research.google.com/assets/colab-badge.svg\" alt=\"Open In Colab\"/></a>"
      ]
    },
    {
      "cell_type": "code",
      "execution_count": 1,
      "metadata": {
        "id": "qhCvPpslBB3t"
      },
      "outputs": [],
      "source": [
        "#FIRST PART. \n",
        "#Install kaggle and upload + unzip our dataset. "
      ]
    },
    {
      "cell_type": "code",
      "execution_count": 2,
      "metadata": {
        "id": "IjUq0Dk1i6DU"
      },
      "outputs": [],
      "source": [
        "!pip install -q kaggle"
      ]
    },
    {
      "cell_type": "code",
      "execution_count": 3,
      "metadata": {
        "id": "261SxcJf62G9"
      },
      "outputs": [],
      "source": [
        "#After installing kaggle, we need to upload the kaggle.json file with the API token given from out Kaggle account. "
      ]
    },
    {
      "cell_type": "code",
      "execution_count": 4,
      "metadata": {
        "colab": {
          "base_uri": "https://localhost:8080/",
          "height": 90
        },
        "id": "3oQVwzsy6WCG",
        "outputId": "80357ddc-16a6-462f-9ba4-8c1b315d2a28"
      },
      "outputs": [
        {
          "output_type": "display_data",
          "data": {
            "text/plain": [
              "<IPython.core.display.HTML object>"
            ],
            "text/html": [
              "\n",
              "     <input type=\"file\" id=\"files-a4a67872-b0f9-4b5c-acc4-3ecc8bdb23e3\" name=\"files[]\" multiple disabled\n",
              "        style=\"border:none\" />\n",
              "     <output id=\"result-a4a67872-b0f9-4b5c-acc4-3ecc8bdb23e3\">\n",
              "      Upload widget is only available when the cell has been executed in the\n",
              "      current browser session. Please rerun this cell to enable.\n",
              "      </output>\n",
              "      <script>// Copyright 2017 Google LLC\n",
              "//\n",
              "// Licensed under the Apache License, Version 2.0 (the \"License\");\n",
              "// you may not use this file except in compliance with the License.\n",
              "// You may obtain a copy of the License at\n",
              "//\n",
              "//      http://www.apache.org/licenses/LICENSE-2.0\n",
              "//\n",
              "// Unless required by applicable law or agreed to in writing, software\n",
              "// distributed under the License is distributed on an \"AS IS\" BASIS,\n",
              "// WITHOUT WARRANTIES OR CONDITIONS OF ANY KIND, either express or implied.\n",
              "// See the License for the specific language governing permissions and\n",
              "// limitations under the License.\n",
              "\n",
              "/**\n",
              " * @fileoverview Helpers for google.colab Python module.\n",
              " */\n",
              "(function(scope) {\n",
              "function span(text, styleAttributes = {}) {\n",
              "  const element = document.createElement('span');\n",
              "  element.textContent = text;\n",
              "  for (const key of Object.keys(styleAttributes)) {\n",
              "    element.style[key] = styleAttributes[key];\n",
              "  }\n",
              "  return element;\n",
              "}\n",
              "\n",
              "// Max number of bytes which will be uploaded at a time.\n",
              "const MAX_PAYLOAD_SIZE = 100 * 1024;\n",
              "\n",
              "function _uploadFiles(inputId, outputId) {\n",
              "  const steps = uploadFilesStep(inputId, outputId);\n",
              "  const outputElement = document.getElementById(outputId);\n",
              "  // Cache steps on the outputElement to make it available for the next call\n",
              "  // to uploadFilesContinue from Python.\n",
              "  outputElement.steps = steps;\n",
              "\n",
              "  return _uploadFilesContinue(outputId);\n",
              "}\n",
              "\n",
              "// This is roughly an async generator (not supported in the browser yet),\n",
              "// where there are multiple asynchronous steps and the Python side is going\n",
              "// to poll for completion of each step.\n",
              "// This uses a Promise to block the python side on completion of each step,\n",
              "// then passes the result of the previous step as the input to the next step.\n",
              "function _uploadFilesContinue(outputId) {\n",
              "  const outputElement = document.getElementById(outputId);\n",
              "  const steps = outputElement.steps;\n",
              "\n",
              "  const next = steps.next(outputElement.lastPromiseValue);\n",
              "  return Promise.resolve(next.value.promise).then((value) => {\n",
              "    // Cache the last promise value to make it available to the next\n",
              "    // step of the generator.\n",
              "    outputElement.lastPromiseValue = value;\n",
              "    return next.value.response;\n",
              "  });\n",
              "}\n",
              "\n",
              "/**\n",
              " * Generator function which is called between each async step of the upload\n",
              " * process.\n",
              " * @param {string} inputId Element ID of the input file picker element.\n",
              " * @param {string} outputId Element ID of the output display.\n",
              " * @return {!Iterable<!Object>} Iterable of next steps.\n",
              " */\n",
              "function* uploadFilesStep(inputId, outputId) {\n",
              "  const inputElement = document.getElementById(inputId);\n",
              "  inputElement.disabled = false;\n",
              "\n",
              "  const outputElement = document.getElementById(outputId);\n",
              "  outputElement.innerHTML = '';\n",
              "\n",
              "  const pickedPromise = new Promise((resolve) => {\n",
              "    inputElement.addEventListener('change', (e) => {\n",
              "      resolve(e.target.files);\n",
              "    });\n",
              "  });\n",
              "\n",
              "  const cancel = document.createElement('button');\n",
              "  inputElement.parentElement.appendChild(cancel);\n",
              "  cancel.textContent = 'Cancel upload';\n",
              "  const cancelPromise = new Promise((resolve) => {\n",
              "    cancel.onclick = () => {\n",
              "      resolve(null);\n",
              "    };\n",
              "  });\n",
              "\n",
              "  // Wait for the user to pick the files.\n",
              "  const files = yield {\n",
              "    promise: Promise.race([pickedPromise, cancelPromise]),\n",
              "    response: {\n",
              "      action: 'starting',\n",
              "    }\n",
              "  };\n",
              "\n",
              "  cancel.remove();\n",
              "\n",
              "  // Disable the input element since further picks are not allowed.\n",
              "  inputElement.disabled = true;\n",
              "\n",
              "  if (!files) {\n",
              "    return {\n",
              "      response: {\n",
              "        action: 'complete',\n",
              "      }\n",
              "    };\n",
              "  }\n",
              "\n",
              "  for (const file of files) {\n",
              "    const li = document.createElement('li');\n",
              "    li.append(span(file.name, {fontWeight: 'bold'}));\n",
              "    li.append(span(\n",
              "        `(${file.type || 'n/a'}) - ${file.size} bytes, ` +\n",
              "        `last modified: ${\n",
              "            file.lastModifiedDate ? file.lastModifiedDate.toLocaleDateString() :\n",
              "                                    'n/a'} - `));\n",
              "    const percent = span('0% done');\n",
              "    li.appendChild(percent);\n",
              "\n",
              "    outputElement.appendChild(li);\n",
              "\n",
              "    const fileDataPromise = new Promise((resolve) => {\n",
              "      const reader = new FileReader();\n",
              "      reader.onload = (e) => {\n",
              "        resolve(e.target.result);\n",
              "      };\n",
              "      reader.readAsArrayBuffer(file);\n",
              "    });\n",
              "    // Wait for the data to be ready.\n",
              "    let fileData = yield {\n",
              "      promise: fileDataPromise,\n",
              "      response: {\n",
              "        action: 'continue',\n",
              "      }\n",
              "    };\n",
              "\n",
              "    // Use a chunked sending to avoid message size limits. See b/62115660.\n",
              "    let position = 0;\n",
              "    do {\n",
              "      const length = Math.min(fileData.byteLength - position, MAX_PAYLOAD_SIZE);\n",
              "      const chunk = new Uint8Array(fileData, position, length);\n",
              "      position += length;\n",
              "\n",
              "      const base64 = btoa(String.fromCharCode.apply(null, chunk));\n",
              "      yield {\n",
              "        response: {\n",
              "          action: 'append',\n",
              "          file: file.name,\n",
              "          data: base64,\n",
              "        },\n",
              "      };\n",
              "\n",
              "      let percentDone = fileData.byteLength === 0 ?\n",
              "          100 :\n",
              "          Math.round((position / fileData.byteLength) * 100);\n",
              "      percent.textContent = `${percentDone}% done`;\n",
              "\n",
              "    } while (position < fileData.byteLength);\n",
              "  }\n",
              "\n",
              "  // All done.\n",
              "  yield {\n",
              "    response: {\n",
              "      action: 'complete',\n",
              "    }\n",
              "  };\n",
              "}\n",
              "\n",
              "scope.google = scope.google || {};\n",
              "scope.google.colab = scope.google.colab || {};\n",
              "scope.google.colab._files = {\n",
              "  _uploadFiles,\n",
              "  _uploadFilesContinue,\n",
              "};\n",
              "})(self);\n",
              "</script> "
            ]
          },
          "metadata": {}
        },
        {
          "output_type": "stream",
          "name": "stdout",
          "text": [
            "Saving kaggle.json to kaggle.json\n"
          ]
        },
        {
          "output_type": "execute_result",
          "data": {
            "text/plain": [
              "{'kaggle.json': b'{\"username\":\"hindjamal\",\"key\":\"5b2794cdd1f8c072feba270d5a765fa6\"}'}"
            ]
          },
          "metadata": {},
          "execution_count": 4
        }
      ],
      "source": [
        "from google.colab import files\n",
        "files.upload() "
      ]
    },
    {
      "cell_type": "code",
      "execution_count": 5,
      "metadata": {
        "id": "oiM8ez2L6vRF"
      },
      "outputs": [],
      "source": [
        "#Now we need to create a Kaggle folder, copy the kaggle.json to the folder created and finally we need to grant an approppriate permission for the json file to act. "
      ]
    },
    {
      "cell_type": "code",
      "execution_count": 6,
      "metadata": {
        "id": "FJrv8LBk6WIE"
      },
      "outputs": [],
      "source": [
        "! mkdir ~/.kaggle\n",
        "! cp kaggle.json ~/.kaggle/\n",
        "! chmod 600 ~/.kaggle/kaggle.json"
      ]
    },
    {
      "cell_type": "code",
      "execution_count": 7,
      "metadata": {
        "id": "tyXnl3xN7XLM"
      },
      "outputs": [],
      "source": [
        "#To list all the available datasets we have in Kaggle we use the following command"
      ]
    },
    {
      "cell_type": "code",
      "execution_count": 8,
      "metadata": {
        "colab": {
          "base_uri": "https://localhost:8080/"
        },
        "id": "xqsw0Yh46WLH",
        "outputId": "5aca6bcd-d3bd-4741-8c02-cc69daf4013c"
      },
      "outputs": [
        {
          "output_type": "stream",
          "name": "stdout",
          "text": [
            "ref                                                                   title                                                size  lastUpdated          downloadCount  voteCount  usabilityRating  \n",
            "--------------------------------------------------------------------  --------------------------------------------------  -----  -------------------  -------------  ---------  ---------------  \n",
            "arnabchaki/data-science-salaries-2023                                 Data Science Salaries 2023 💸                         25KB  2023-04-13 09:55:16          29685        822  1.0              \n",
            "tawfikelmetwally/automobile-dataset                                   Car information dataset                               6KB  2023-05-28 18:26:48           2841         78  0.9411765        \n",
            "fatihb/coffee-quality-data-cqi                                        Coffee Quality Data (CQI May-2023)                   22KB  2023-05-12 13:06:39           5203        107  1.0              \n",
            "mohithsairamreddy/salary-data                                         Salary_Data                                          17KB  2023-05-18 14:05:19           5002        101  0.88235295       \n",
            "mauryansshivam/netflix-ott-revenue-and-subscribers-csv-file           Netflix OTT Revenue and Subscribers (CSV File)        2KB  2023-05-13 17:40:23           2579         58  1.0              \n",
            "omarsobhy14/mcdonalds-revenue                                         🍟💰From Flipping Burgers to Billions: McDonald's      565B  2023-06-01 23:22:49            614         30  1.0              \n",
            "drahulsingh/list-of-best-selling-ps4-games                            List of best-selling PlayStation 4 video games        2KB  2023-06-11 17:36:59            496         22  1.0              \n",
            "zsinghrahulk/rice-pest-and-diseases                                   Rice - Pest and Diseases                            312KB  2023-06-01 08:57:29            582         28  1.0              \n",
            "iammustafatz/diabetes-prediction-dataset                              Diabetes prediction dataset                         734KB  2023-04-08 06:11:45          15530        229  1.0              \n",
            "vstacknocopyright/fruit-and-vegetable-prices                          Fruit and Vegetable Prices                            1KB  2023-06-02 06:17:43            972         31  0.7647059        \n",
            "bilalwaseer/microsoft-stocks-from-1986-to-2023                        Microsoft Stocks from 1986 to 2023                  120KB  2023-05-16 10:07:28            984         30  1.0              \n",
            "darshanprabhu09/stock-prices-for                                      Stock prices of Amazon , Microsoft , Google, Apple   85KB  2023-05-16 15:17:16           2066         46  1.0              \n",
            "rajkumarpandey02/2023-world-population-by-country                      World Population by Country                         38KB  2023-06-01 06:10:41           1763         36  1.0              \n",
            "danishjmeo/karachi-housing-prices-2023                                Karachi_Housing_Prices_2023                           1MB  2023-06-01 07:08:13            502         28  0.9411765        \n",
            "adityaramachandran27/world-air-quality-index-by-city-and-coordinates  World Air Quality Index by City and Coordinates     372KB  2023-05-07 07:29:26           2010         44  1.0              \n",
            "dansbecker/melbourne-housing-snapshot                                 Melbourne Housing Snapshot                          451KB  2018-06-05 12:52:24         117695       1281  0.7058824        \n",
            "pushpakhinglaspure/oscar-dataset                                      Oscar Academy Award-winning films 1927-2022         161KB  2023-05-21 18:14:44            858         31  1.0              \n",
            "aryansingh0909/weekly-patent-application-granted                      Patent Application Granted Dataset                    6MB  2023-06-01 19:04:40            345         24  1.0              \n",
            "krishnaraj30/salary-prediction-data-simple-linear-regression          Salary Prediction Data - Simple linear regression    734B  2023-06-05 01:05:41            455         23  1.0              \n",
            "utkarshx27/heart-disease-diagnosis-dataset                            Heart Disease Prediction Dataset                      3KB  2023-05-26 09:33:13           1327         35  1.0              \n"
          ]
        }
      ],
      "source": [
        "! kaggle datasets list"
      ]
    },
    {
      "cell_type": "code",
      "execution_count": 9,
      "metadata": {
        "id": "c5sC8pnY6WNB"
      },
      "outputs": [],
      "source": [
        "#Finally, for our aim, we need to upload our dataset, and given that the url is the following one, we can download it as follows: "
      ]
    },
    {
      "cell_type": "code",
      "execution_count": 10,
      "metadata": {
        "colab": {
          "base_uri": "https://localhost:8080/"
        },
        "id": "K2fjw_15i6Ff",
        "outputId": "3b85d2c8-3ed7-42a5-9c4e-3c97fb879212"
      },
      "outputs": [
        {
          "output_type": "stream",
          "name": "stdout",
          "text": [
            "Downloading medal-emnlp.zip to /content\n",
            "100% 6.81G/6.82G [01:17<00:00, 110MB/s]\n",
            "100% 6.82G/6.82G [01:17<00:00, 94.1MB/s]\n"
          ]
        }
      ],
      "source": [
        "!kaggle datasets download -d  xhlulu/medal-emnlp"
      ]
    },
    {
      "cell_type": "code",
      "execution_count": 11,
      "metadata": {
        "id": "iKyr1rrSlY1S"
      },
      "outputs": [],
      "source": [
        "from zipfile import ZipFile\n"
      ]
    },
    {
      "cell_type": "code",
      "execution_count": 12,
      "metadata": {
        "colab": {
          "base_uri": "https://localhost:8080/"
        },
        "id": "UBDLW-u_lY50",
        "outputId": "e5617cac-c9c9-408d-94f9-8986914a5bf8"
      },
      "outputs": [
        {
          "output_type": "stream",
          "name": "stdout",
          "text": [
            "Done\n"
          ]
        }
      ],
      "source": [
        "file_name = \"medal-emnlp.zip\"\n",
        "\n",
        "with ZipFile(file_name, \"r\") as zip:\n",
        "  zip.extractall()\n",
        "  print(\"Done\")"
      ]
    },
    {
      "cell_type": "code",
      "execution_count": 13,
      "metadata": {
        "id": "477Y6R6EBAiF"
      },
      "outputs": [],
      "source": [
        "#SECOND PART. \n",
        "#Install Spark and construct a software that can be used to find frequent itemset (RDD). "
      ]
    },
    {
      "cell_type": "code",
      "execution_count": 14,
      "metadata": {
        "id": "PAj5s_2FmjbV"
      },
      "outputs": [],
      "source": [
        "# install Java8\n",
        "!apt-get install openjdk-8-jdk-headless -qq > /dev/null\n",
        "# download spark3.3.2\n",
        "!wget -q https://dlcdn.apache.org/spark/spark-3.3.2/spark-3.3.2-bin-hadoop3.tgz\n",
        "# unzip it\n",
        "!tar xf spark-3.3.2-bin-hadoop3.tgz"
      ]
    },
    {
      "cell_type": "code",
      "execution_count": 15,
      "metadata": {
        "colab": {
          "base_uri": "https://localhost:8080/"
        },
        "id": "zUtg81YZiGr_",
        "outputId": "aee8064a-f7de-4988-8019-ceeaebd3cd15"
      },
      "outputs": [
        {
          "output_type": "stream",
          "name": "stdout",
          "text": [
            "Looking in indexes: https://pypi.org/simple, https://us-python.pkg.dev/colab-wheels/public/simple/\n",
            "Requirement already satisfied: py4j in /usr/local/lib/python3.10/dist-packages (0.10.9.7)\n"
          ]
        }
      ],
      "source": [
        "!pip install py4j"
      ]
    },
    {
      "cell_type": "code",
      "execution_count": 16,
      "metadata": {
        "colab": {
          "base_uri": "https://localhost:8080/"
        },
        "id": "6f0ABGkliJX1",
        "outputId": "01402b2f-60a8-46c9-f67b-9eeb3c6b28c3"
      },
      "outputs": [
        {
          "output_type": "stream",
          "name": "stdout",
          "text": [
            "openjdk version \"11.0.19\" 2023-04-18\n",
            "OpenJDK Runtime Environment (build 11.0.19+7-post-Ubuntu-0ubuntu120.04.1)\n",
            "OpenJDK 64-Bit Server VM (build 11.0.19+7-post-Ubuntu-0ubuntu120.04.1, mixed mode, sharing)\n"
          ]
        }
      ],
      "source": [
        "!java -version"
      ]
    },
    {
      "cell_type": "code",
      "execution_count": 17,
      "metadata": {
        "id": "Moj4v3oMpZg1"
      },
      "outputs": [],
      "source": [
        "import os\n",
        "os.environ[\"JAVA_HOME\"] = \"/usr/lib/jvm/java-8-openjdk-amd64\"\n",
        "os.environ[\"SPARK_HOME\"] = '/content/spark-3.3.2-bin-hadoop3'"
      ]
    },
    {
      "cell_type": "code",
      "execution_count": 18,
      "metadata": {
        "colab": {
          "base_uri": "https://localhost:8080/",
          "height": 36
        },
        "id": "xVkAg776rzW1",
        "outputId": "3982f081-3ad3-4a88-ef10-41d2536007e0"
      },
      "outputs": [
        {
          "output_type": "execute_result",
          "data": {
            "text/plain": [
              "'/content/spark-3.3.2-bin-hadoop3'"
            ],
            "application/vnd.google.colaboratory.intrinsic+json": {
              "type": "string"
            }
          },
          "metadata": {},
          "execution_count": 18
        }
      ],
      "source": [
        "# Install library for finding Spark\n",
        "!pip install -q findspark\n",
        "# Import the libary\n",
        "import findspark\n",
        "# Initiate findspark\n",
        "findspark.init()\n",
        "# Check the location for Spark\n",
        "findspark.find()"
      ]
    },
    {
      "cell_type": "code",
      "execution_count": 19,
      "metadata": {
        "colab": {
          "base_uri": "https://localhost:8080/"
        },
        "id": "amS9yZD8BNmp",
        "outputId": "0caff3dd-2296-4289-f7e8-da11edfe34c6"
      },
      "outputs": [
        {
          "output_type": "stream",
          "name": "stdout",
          "text": [
            "Looking in indexes: https://pypi.org/simple, https://us-python.pkg.dev/colab-wheels/public/simple/\n",
            "Collecting pyspark\n",
            "  Downloading pyspark-3.4.0.tar.gz (310.8 MB)\n",
            "\u001b[2K     \u001b[90m━━━━━━━━━━━━━━━━━━━━━━━━━━━━━━━━━━━━━━━\u001b[0m \u001b[32m310.8/310.8 MB\u001b[0m \u001b[31m2.0 MB/s\u001b[0m eta \u001b[36m0:00:00\u001b[0m\n",
            "\u001b[?25h  Preparing metadata (setup.py) ... \u001b[?25l\u001b[?25hdone\n",
            "Requirement already satisfied: py4j==0.10.9.7 in /usr/local/lib/python3.10/dist-packages (from pyspark) (0.10.9.7)\n",
            "Building wheels for collected packages: pyspark\n",
            "  Building wheel for pyspark (setup.py) ... \u001b[?25l\u001b[?25hdone\n",
            "  Created wheel for pyspark: filename=pyspark-3.4.0-py2.py3-none-any.whl size=311317130 sha256=70faca69b7db81e0385c54317c29aad7f9c4206b273052e0450a6ddb2e5f97bc\n",
            "  Stored in directory: /root/.cache/pip/wheels/7b/1b/4b/3363a1d04368e7ff0d408e57ff57966fcdf00583774e761327\n",
            "Successfully built pyspark\n",
            "Installing collected packages: pyspark\n",
            "Successfully installed pyspark-3.4.0\n"
          ]
        }
      ],
      "source": [
        "!pip install pyspark\n",
        "import pyspark"
      ]
    },
    {
      "cell_type": "code",
      "execution_count": 20,
      "metadata": {
        "id": "Yx_OxkQ8euBX"
      },
      "outputs": [],
      "source": [
        "from pyspark import SparkConf, SparkContext\n",
        "from pyspark.sql import SparkSession\n",
        "from pyspark.sql import SQLContext   "
      ]
    },
    {
      "cell_type": "code",
      "execution_count": 21,
      "metadata": {
        "id": "3t7vpl1P8Avm"
      },
      "outputs": [],
      "source": [
        "conf = SparkConf()\n",
        "conf = (conf\n",
        "        .setAppName(\"AMD-MeDal\")\n",
        "        .setMaster('local[*]')\n",
        "        .set('spark.executor.memory', '8G')\n",
        "        .set('spark.driver.memory', '45G')\n",
        "        .set('spark.driver.maxResultSize', '0'))\n",
        "sc = SparkContext(conf=conf)"
      ]
    },
    {
      "cell_type": "code",
      "execution_count": 22,
      "metadata": {
        "colab": {
          "base_uri": "https://localhost:8080/"
        },
        "id": "MfgDXRZK8Y1v",
        "outputId": "2b691db3-4196-4fca-e92f-700fea5b92c7"
      },
      "outputs": [
        {
          "output_type": "stream",
          "name": "stderr",
          "text": [
            "/content/spark-3.3.2-bin-hadoop3/python/pyspark/sql/context.py:112: FutureWarning: Deprecated in 3.0.0. Use SparkSession.builder.getOrCreate() instead.\n",
            "  warnings.warn(\n"
          ]
        }
      ],
      "source": [
        "spark = SQLContext(sc)"
      ]
    },
    {
      "cell_type": "code",
      "execution_count": 23,
      "metadata": {
        "colab": {
          "base_uri": "https://localhost:8080/",
          "height": 196
        },
        "id": "dw3kKKgl9L7J",
        "outputId": "047a7f5e-3f49-4954-9187-3ddac9b48136"
      },
      "outputs": [
        {
          "output_type": "execute_result",
          "data": {
            "text/plain": [
              "<SparkContext master=local[*] appName=AMD-MeDal>"
            ],
            "text/html": [
              "\n",
              "        <div>\n",
              "            <p><b>SparkContext</b></p>\n",
              "\n",
              "            <p><a href=\"http://3a257e456d06:4040\">Spark UI</a></p>\n",
              "\n",
              "            <dl>\n",
              "              <dt>Version</dt>\n",
              "                <dd><code>v3.3.2</code></dd>\n",
              "              <dt>Master</dt>\n",
              "                <dd><code>local[*]</code></dd>\n",
              "              <dt>AppName</dt>\n",
              "                <dd><code>AMD-MeDal</code></dd>\n",
              "            </dl>\n",
              "        </div>\n",
              "        "
            ]
          },
          "metadata": {},
          "execution_count": 23
        }
      ],
      "source": [
        "sc"
      ]
    },
    {
      "cell_type": "code",
      "execution_count": 24,
      "metadata": {
        "colab": {
          "base_uri": "https://localhost:8080/"
        },
        "id": "QenMBVitRn8U",
        "outputId": "ba8344e6-fc74-4687-ce70-3e904defe76f"
      },
      "outputs": [
        {
          "output_type": "execute_result",
          "data": {
            "text/plain": [
              "<pyspark.sql.context.SQLContext at 0x7f37704c14e0>"
            ]
          },
          "metadata": {},
          "execution_count": 24
        }
      ],
      "source": [
        "spark"
      ]
    },
    {
      "cell_type": "code",
      "execution_count": 25,
      "metadata": {
        "id": "YDsfNrBW9O5a"
      },
      "outputs": [],
      "source": [
        "#Upload the file"
      ]
    },
    {
      "cell_type": "code",
      "execution_count": 26,
      "metadata": {
        "id": "UKpFllIRJxpF"
      },
      "outputs": [],
      "source": [
        "dataset_path = '/content/full_data.csv'"
      ]
    },
    {
      "cell_type": "code",
      "execution_count": 27,
      "metadata": {
        "colab": {
          "base_uri": "https://localhost:8080/"
        },
        "id": "BF3_ns87FK2F",
        "outputId": "78dbe2f3-c69e-4309-c526-2a5d619e1c4f"
      },
      "outputs": [
        {
          "output_type": "stream",
          "name": "stdout",
          "text": [
            "root\n",
            " |-- TEXT: string (nullable = true)\n",
            " |-- LOCATION: string (nullable = true)\n",
            " |-- LABEL: string (nullable = true)\n",
            "\n"
          ]
        }
      ],
      "source": [
        "df  = spark.read.format('csv') \\\n",
        "                .option('header', True) \\\n",
        "                .option('multiline', True) \\\n",
        "                .option('quote', '\"') \\\n",
        "                .option('escape', '\"') \\\n",
        "                .load(dataset_path)\n",
        "df.printSchema()"
      ]
    },
    {
      "cell_type": "code",
      "execution_count": 28,
      "metadata": {
        "colab": {
          "base_uri": "https://localhost:8080/"
        },
        "id": "rbgDy3a1e7gd",
        "outputId": "4401805c-48f5-4491-f47e-05c9b7db740e"
      },
      "outputs": [
        {
          "output_type": "stream",
          "name": "stdout",
          "text": [
            "+--------------------+--------------------+--------------------+\n",
            "|                TEXT|            LOCATION|               LABEL|\n",
            "+--------------------+--------------------+--------------------+\n",
            "|alphabisabolol ha...|                  56|           substrate|\n",
            "|a report is given...|24|49|68|113|137|172|carcinosarcoma|re...|\n",
            "|the virostatic co...|                  55|           substrate|\n",
            "|rmi rmi and rmi a...|   25|82|127|182|222|compounds|compoun...|\n",
            "|a doubleblind stu...|22|26|28|77|90|14...|oxazepam|placebo|...|\n",
            "|stroma from eithe...|         6|82|84|107|red cells|serum|a...|\n",
            "|the effect of the...|                4|13|major|pentose pho...|\n",
            "|in one experiment...|        32|44|76|135|feeding|feeding|a...|\n",
            "|the presence of a...|7|15|63|137|199|2...|active|study|acti...|\n",
            "|the reaction of g...|     113|203|209|250|stable|assay|bind...|\n",
            "|choline acetyltra...|                  44|             caudate|\n",
            "|increasing concen...|                  81|        displacement|\n",
            "|the properties of...|         5|35|98|257|groups|functional...|\n",
            "|primary amines re...|          95|164|183|arginine|arginine...|\n",
            "|a purification pr...|     9|42|70|100|206|dihydrofolate|spe...|\n",
            "|dihydrofolate red...|71|106|118|130|15...|gel filtration|el...|\n",
            "|ionization effect...|               8|129|transition state|...|\n",
            "|kinetic analyses ...|100|155|161|254|2...|effective|inhibit...|\n",
            "|the nearultraviol...|                 166|        heterologous|\n",
            "|the circular pola...|                 248|polysaccharide an...|\n",
            "+--------------------+--------------------+--------------------+\n",
            "only showing top 20 rows\n",
            "\n"
          ]
        }
      ],
      "source": [
        "df.show()"
      ]
    },
    {
      "cell_type": "code",
      "execution_count": 29,
      "metadata": {
        "colab": {
          "base_uri": "https://localhost:8080/"
        },
        "id": "EeaXynnFTb-r",
        "outputId": "6b7d0d4d-8626-4a76-9f41-2ab4e0e7fa95"
      },
      "outputs": [
        {
          "output_type": "execute_result",
          "data": {
            "text/plain": [
              "[Row(TEXT='alphabisabolol has a primary antipeptic action depending on dosage which is not caused by an alteration of the phvalue the proteolytic activity of pepsin is reduced by percent through addition of bisabolol in the ratio of the antipeptic action of bisabolol only occurs in case of direct contact in case of a previous contact with the ATP the inhibiting effect is lost', LOCATION='56', LABEL='substrate'),\n",
              " Row(TEXT='a report is given on the recent discovery of outstanding immunological properties in ba ncyanoethyleneurea having a low molecular mass m experiments in ds CS bearing wistar rats have shown that ba at a dosage of only about percent ld mg kg and negligible lethality percent results in a REC rate of percent without hyperglycemia and in one test of percent with hyperglycemia under otherwise unchanged conditions the REF substance ifosfamide if a further development of cyclophosphamide applied without hyperglycemia in its most efficient dosage of percent ld mg kg brought about a recovery rate of percent at a lethality of percent contrary to ba min hyperglycemia caused no further improvement of the REC rate however this comparison is characterized by the fact that both substances exhibit two quite different complementary mechanisms of action leucocyte counts made T3 application of the said cancerostatics and dosages have shown a pronounced stimulation with ba and with ifosfamide the known suppression in the posttherapeutic interval usually found with standard cancerostatics in combination with the cited PI test for ba blood pictures then allow conclusions on the immunity status since if can be taken as one of the most efficient cancerostaticsthere is no other chemotherapeutic known up to now that has a more significant effect on the ds carcinosarcoma in rats these findings are of special importance finally the total amount of leucocytes and lymphocytes as well as their time behaviour was determined from the blood picture of tumourfree rats after iv application of ba the thus obtained numerical values clearly show that further research work on the prophylactic use of this substance seems to be necessary and very promising', LOCATION='24|49|68|113|137|172', LABEL='carcinosarcoma|recovery|reference|recovery|after|plaque'),\n",
              " Row(TEXT='the virostatic compound nndiethyloxotetradecylimidazolidinylethylpiperazinecarboxamidehydrochloride was analyzed as to its effect on the induction of tryptophanpyrrolase and tyrosineaminotransferase in rat liver the basic activity of the enzymes was not influenced by the substance either in normal or in adrenalectomized animals the induction of the enzymes by cortisone increased in the presence of the compound whereas the ATP induction remained unchanged the induction of tyrosineaminotransferase by dexamethasonephosphate in tissue culture is inhibited if the dose of compound is higher than mugml', LOCATION='55', LABEL='substrate')]"
            ]
          },
          "metadata": {},
          "execution_count": 29
        }
      ],
      "source": [
        "df.head(3)"
      ]
    },
    {
      "cell_type": "code",
      "execution_count": 30,
      "metadata": {
        "colab": {
          "base_uri": "https://localhost:8080/"
        },
        "id": "youHZ_67uZa-",
        "outputId": "8e888811-ca64-4f25-8f92-b19831f0ad05"
      },
      "outputs": [
        {
          "output_type": "stream",
          "name": "stdout",
          "text": [
            "DataFrame Dimensions : (14393619, 3)\n",
            "DataFrame Rows count : 14393619\n",
            "DataFrame Columns count : 3\n"
          ]
        }
      ],
      "source": [
        "# Get row count\n",
        "rows = df.count()\n",
        "\n",
        "# Get columns count\n",
        "cols = len(df.columns)\n",
        "\n",
        "print(f\"DataFrame Dimensions : {(rows,cols)}\")\n",
        "print(f\"DataFrame Rows count : {rows}\")\n",
        "print(f\"DataFrame Columns count : {cols}\")\n",
        "     "
      ]
    },
    {
      "cell_type": "code",
      "execution_count": 31,
      "metadata": {
        "id": "QA1iG9rcL4KL"
      },
      "outputs": [],
      "source": [
        "DF = df.select('TEXT')"
      ]
    },
    {
      "cell_type": "code",
      "execution_count": 32,
      "metadata": {
        "colab": {
          "base_uri": "https://localhost:8080/"
        },
        "id": "tryO38iqMfOy",
        "outputId": "ef52e2de-d595-4f82-9450-62d98f0a58df"
      },
      "outputs": [
        {
          "output_type": "stream",
          "name": "stdout",
          "text": [
            "+--------------------+\n",
            "|                TEXT|\n",
            "+--------------------+\n",
            "|alphabisabolol ha...|\n",
            "|a report is given...|\n",
            "|the virostatic co...|\n",
            "|rmi rmi and rmi a...|\n",
            "|a doubleblind stu...|\n",
            "|stroma from eithe...|\n",
            "|the effect of the...|\n",
            "|in one experiment...|\n",
            "|the presence of a...|\n",
            "|the reaction of g...|\n",
            "|choline acetyltra...|\n",
            "|increasing concen...|\n",
            "|the properties of...|\n",
            "|primary amines re...|\n",
            "|a purification pr...|\n",
            "|dihydrofolate red...|\n",
            "|ionization effect...|\n",
            "|kinetic analyses ...|\n",
            "|the nearultraviol...|\n",
            "|the circular pola...|\n",
            "+--------------------+\n",
            "only showing top 20 rows\n",
            "\n"
          ]
        }
      ],
      "source": [
        "DF.show()"
      ]
    },
    {
      "cell_type": "code",
      "execution_count": 33,
      "metadata": {
        "id": "KR5nNWdJWS0T"
      },
      "outputs": [],
      "source": [
        "#Pre-processing of the data that we have!!"
      ]
    },
    {
      "cell_type": "code",
      "execution_count": 34,
      "metadata": {
        "colab": {
          "base_uri": "https://localhost:8080/"
        },
        "id": "YAH5q9BkWKHS",
        "outputId": "efc084ca-bedc-4f73-bd62-57a4aff13bba"
      },
      "outputs": [
        {
          "output_type": "stream",
          "name": "stdout",
          "text": [
            "Looking in indexes: https://pypi.org/simple, https://us-python.pkg.dev/colab-wheels/public/simple/\n",
            "Collecting sparknlp\n",
            "  Downloading sparknlp-1.0.0-py3-none-any.whl (1.4 kB)\n",
            "Collecting spark-nlp (from sparknlp)\n",
            "  Downloading spark_nlp-4.4.4-py2.py3-none-any.whl (489 kB)\n",
            "\u001b[2K     \u001b[90m━━━━━━━━━━━━━━━━━━━━━━━━━━━━━━━━━━━━━━\u001b[0m \u001b[32m489.8/489.8 kB\u001b[0m \u001b[31m10.8 MB/s\u001b[0m eta \u001b[36m0:00:00\u001b[0m\n",
            "\u001b[?25hRequirement already satisfied: numpy in /usr/local/lib/python3.10/dist-packages (from sparknlp) (1.22.4)\n",
            "Installing collected packages: spark-nlp, sparknlp\n",
            "Successfully installed spark-nlp-4.4.4 sparknlp-1.0.0\n"
          ]
        }
      ],
      "source": [
        "!pip install sparknlp"
      ]
    },
    {
      "cell_type": "code",
      "execution_count": 35,
      "metadata": {
        "id": "bJk4V1UTMfSX"
      },
      "outputs": [],
      "source": [
        "import sparknlp\n",
        "import math\n",
        "from sparknlp.base import *\n",
        "from sparknlp.annotator import *\n",
        "from sparknlp.common import *\n",
        "from sparknlp.pretrained import PretrainedPipeline\n",
        "from pyspark.ml import Pipeline\n",
        "import pyspark.sql.types as T\n",
        "from typing import List"
      ]
    },
    {
      "cell_type": "code",
      "execution_count": 36,
      "metadata": {
        "id": "OQI2PzB59bI3"
      },
      "outputs": [],
      "source": [
        "import pandas as pd\n",
        "import numpy as np\n",
        "import matplotlib.pyplot as plt\n",
        "import itertools\n",
        "import csv\n",
        "import time\n",
        "from tqdm import tqdm"
      ]
    },
    {
      "cell_type": "code",
      "execution_count": 37,
      "metadata": {
        "id": "d2SPGfZ2Ymvk"
      },
      "outputs": [],
      "source": [
        "from pyspark.sql.functions import lower, col, udf"
      ]
    },
    {
      "cell_type": "code",
      "execution_count": 38,
      "metadata": {
        "id": "UUcuPGvyYe5F"
      },
      "outputs": [],
      "source": [
        "DF_lowercase = DF.withColumn(\"processed_text\", lower(col(\"text\")))"
      ]
    },
    {
      "cell_type": "code",
      "execution_count": 39,
      "metadata": {
        "colab": {
          "base_uri": "https://localhost:8080/"
        },
        "id": "n7kGC8PLYoOL",
        "outputId": "17535e51-2d6f-4c1c-a10a-7c6f9a951149"
      },
      "outputs": [
        {
          "output_type": "stream",
          "name": "stdout",
          "text": [
            "+--------------------+--------------------+\n",
            "|                TEXT|      processed_text|\n",
            "+--------------------+--------------------+\n",
            "|alphabisabolol ha...|alphabisabolol ha...|\n",
            "|a report is given...|a report is given...|\n",
            "|the virostatic co...|the virostatic co...|\n",
            "|rmi rmi and rmi a...|rmi rmi and rmi a...|\n",
            "|a doubleblind stu...|a doubleblind stu...|\n",
            "|stroma from eithe...|stroma from eithe...|\n",
            "|the effect of the...|the effect of the...|\n",
            "|in one experiment...|in one experiment...|\n",
            "|the presence of a...|the presence of a...|\n",
            "|the reaction of g...|the reaction of g...|\n",
            "|choline acetyltra...|choline acetyltra...|\n",
            "|increasing concen...|increasing concen...|\n",
            "|the properties of...|the properties of...|\n",
            "|primary amines re...|primary amines re...|\n",
            "|a purification pr...|a purification pr...|\n",
            "|dihydrofolate red...|dihydrofolate red...|\n",
            "|ionization effect...|ionization effect...|\n",
            "|kinetic analyses ...|kinetic analyses ...|\n",
            "|the nearultraviol...|the nearultraviol...|\n",
            "|the circular pola...|the circular pola...|\n",
            "+--------------------+--------------------+\n",
            "only showing top 20 rows\n",
            "\n"
          ]
        }
      ],
      "source": [
        "DF_lowercase.show()"
      ]
    },
    {
      "cell_type": "code",
      "execution_count": 40,
      "metadata": {
        "id": "XmXa5EmOYrXV"
      },
      "outputs": [],
      "source": [
        "from pyspark.sql.functions import regexp_replace, trim, col, lower\n"
      ]
    },
    {
      "cell_type": "code",
      "execution_count": 41,
      "metadata": {
        "id": "Ikhm4PibYrah"
      },
      "outputs": [],
      "source": [
        "def removePunctuation(column):\n",
        "   return lower(trim(regexp_replace(column,'\\p{Punct}',''))).alias('sentence')"
      ]
    },
    {
      "cell_type": "code",
      "execution_count": 42,
      "metadata": {
        "colab": {
          "base_uri": "https://localhost:8080/"
        },
        "id": "yCVCjhXvYrc1",
        "outputId": "a9e92bb0-48be-4d75-e3f7-43fd99d9bfc6"
      },
      "outputs": [
        {
          "output_type": "stream",
          "name": "stdout",
          "text": [
            "+--------------------+\n",
            "|      processed_text|\n",
            "+--------------------+\n",
            "|alphabisabolol ha...|\n",
            "|a report is given...|\n",
            "|the virostatic co...|\n",
            "|rmi rmi and rmi a...|\n",
            "|a doubleblind stu...|\n",
            "+--------------------+\n",
            "only showing top 5 rows\n",
            "\n"
          ]
        }
      ],
      "source": [
        "RemoveP = DF_lowercase.select(removePunctuation(col('processed_text')).alias(\"processed_text\"))\n",
        "RemoveP.show(5)"
      ]
    },
    {
      "cell_type": "code",
      "execution_count": 43,
      "metadata": {
        "id": "2r5FAOu4Yrhy"
      },
      "outputs": [],
      "source": [
        "from pyspark.ml.feature import Tokenizer, StopWordsRemover\n",
        "from pyspark.sql.functions import trim,split,explode,col"
      ]
    },
    {
      "cell_type": "code",
      "execution_count": 44,
      "metadata": {
        "colab": {
          "base_uri": "https://localhost:8080/"
        },
        "id": "lwJyDotnYrj2",
        "outputId": "580f4bf6-5aa7-418a-c704-a42ff8b883c8"
      },
      "outputs": [
        {
          "output_type": "stream",
          "name": "stdout",
          "text": [
            "+--------------------+--------------------+\n",
            "|      processed_text|         words_token|\n",
            "+--------------------+--------------------+\n",
            "|alphabisabolol ha...|[alphabisabolol, ...|\n",
            "|a report is given...|[a, report, is, g...|\n",
            "|the virostatic co...|[the, virostatic,...|\n",
            "|rmi rmi and rmi a...|[rmi, rmi, and, r...|\n",
            "|a doubleblind stu...|[a, doubleblind, ...|\n",
            "|stroma from eithe...|[stroma, from, ei...|\n",
            "|the effect of the...|[the, effect, of,...|\n",
            "|in one experiment...|[in, one, experim...|\n",
            "|the presence of a...|[the, presence, o...|\n",
            "|the reaction of g...|[the, reaction, o...|\n",
            "|choline acetyltra...|[choline, acetylt...|\n",
            "|increasing concen...|[increasing, conc...|\n",
            "|the properties of...|[the, properties,...|\n",
            "|primary amines re...|[primary, amines,...|\n",
            "|a purification pr...|[a, purification,...|\n",
            "|dihydrofolate red...|[dihydrofolate, r...|\n",
            "|ionization effect...|[ionization, effe...|\n",
            "|kinetic analyses ...|[kinetic, analyse...|\n",
            "|the nearultraviol...|[the, nearultravi...|\n",
            "|the circular pola...|[the, circular, p...|\n",
            "+--------------------+--------------------+\n",
            "only showing top 20 rows\n",
            "\n"
          ]
        }
      ],
      "source": [
        "tokenizer = Tokenizer(inputCol='processed_text', outputCol='words_token')\n",
        "Data = RemoveP.withColumn(\"processed_text\", trim(col(\"processed_text\")))\n",
        "DATA = tokenizer.transform(Data)\n",
        "DATA.show(20)"
      ]
    },
    {
      "cell_type": "code",
      "execution_count": 45,
      "metadata": {
        "id": "kukw2JXkZ214"
      },
      "outputs": [],
      "source": [
        "from pyspark.ml.feature import StopWordsRemover"
      ]
    },
    {
      "cell_type": "code",
      "execution_count": 46,
      "metadata": {
        "colab": {
          "base_uri": "https://localhost:8080/"
        },
        "id": "iJQcChEWZ24c",
        "outputId": "43b0976a-3e41-4c04-d30b-7a013126d0d8"
      },
      "outputs": [
        {
          "output_type": "stream",
          "name": "stdout",
          "text": [
            "+-----------------------------------------------------------------------------------------------------------------------------------------------------------------------------------------------------------------------------------------------------------------------------------------------------------------------------------------------------------------------------------------------------------------------------------------------------------------------------------------------------------------------------------------------------------------------------------------------------------------------------------------------------------------------------------------------------------------------------------------------------------------------------------------------------------------------------------------------------------------------------------------------------------------------------------------------------------------------------------------------------------------------------------------------------------------------------------------------------------------------------------------------------------------------------------------------------------------------------------------------------------------------------------------------------------------------------------------------------------------------------------------------------------------------------------------------------------------------------------------------------------------------------------------------------------------------------------------------------------------------------------------------------------------------------------------------------------------------------------------------------------------------------------------------------------------------------------------------------------------------------------------------------------------------------------------------------------------------------------------------------------------------------------------------------------------------------------------------------------------------------------------------------------------------------------------------------------------------------------+-------------------------------------------------------------------------------------------------------------------------------------------------------------------------------------------------------------------------------------------------------------------------------------------------------------------------------------------------------------------------------------------------------------------------------------------------------------------------------------------------------------------------------------------------------------------------------------------------------------------------------------------------------------------------------------------------------------------------------------------------------------------------------------------------------------------------------------------------------------------------------------------------------------------------------------------------------------------------------------------------------------------------------------------------------------------------------------------------------------------------------------------------------------------------------------------------------------------------------------------------------------------------------------------------------------------------------------------------------------------------------------------------------------------------------------------------------------------------------------------------------------------------------------------------------------------------------------------------------------------------------------------------------------------------------------------------------------------------------------------------------------------------------------------------------------------------------------------------------------------------------------------------+\n",
            "|processed_text                                                                                                                                                                                                                                                                                                                                                                                                                                                                                                                                                                                                                                                                                                                                                                                                                                                                                                                                                                                                                                                                                                                                                                                                                                                                                                                                                                                                                                                                                                                                                                                                                                                                                                                                                                                                                                                                                                                                                                                                                                                                                                                                                                                                                     |words_clean                                                                                                                                                                                                                                                                                                                                                                                                                                                                                                                                                                                                                                                                                                                                                                                                                                                                                                                                                                                                                                                                                                                                                                                                                                                                                                                                                                                                                                                                                                                                                                                                                                                                                                                                                                                                                                                                                      |\n",
            "+-----------------------------------------------------------------------------------------------------------------------------------------------------------------------------------------------------------------------------------------------------------------------------------------------------------------------------------------------------------------------------------------------------------------------------------------------------------------------------------------------------------------------------------------------------------------------------------------------------------------------------------------------------------------------------------------------------------------------------------------------------------------------------------------------------------------------------------------------------------------------------------------------------------------------------------------------------------------------------------------------------------------------------------------------------------------------------------------------------------------------------------------------------------------------------------------------------------------------------------------------------------------------------------------------------------------------------------------------------------------------------------------------------------------------------------------------------------------------------------------------------------------------------------------------------------------------------------------------------------------------------------------------------------------------------------------------------------------------------------------------------------------------------------------------------------------------------------------------------------------------------------------------------------------------------------------------------------------------------------------------------------------------------------------------------------------------------------------------------------------------------------------------------------------------------------------------------------------------------------+-------------------------------------------------------------------------------------------------------------------------------------------------------------------------------------------------------------------------------------------------------------------------------------------------------------------------------------------------------------------------------------------------------------------------------------------------------------------------------------------------------------------------------------------------------------------------------------------------------------------------------------------------------------------------------------------------------------------------------------------------------------------------------------------------------------------------------------------------------------------------------------------------------------------------------------------------------------------------------------------------------------------------------------------------------------------------------------------------------------------------------------------------------------------------------------------------------------------------------------------------------------------------------------------------------------------------------------------------------------------------------------------------------------------------------------------------------------------------------------------------------------------------------------------------------------------------------------------------------------------------------------------------------------------------------------------------------------------------------------------------------------------------------------------------------------------------------------------------------------------------------------------------+\n",
            "|alphabisabolol has a primary antipeptic action depending on dosage which is not caused by an alteration of the phvalue the proteolytic activity of pepsin is reduced by percent through addition of bisabolol in the ratio of the antipeptic action of bisabolol only occurs in case of direct contact in case of a previous contact with the atp the inhibiting effect is lost                                                                                                                                                                                                                                                                                                                                                                                                                                                                                                                                                                                                                                                                                                                                                                                                                                                                                                                                                                                                                                                                                                                                                                                                                                                                                                                                                                                                                                                                                                                                                                                                                                                                                                                                                                                                                                                    |[alphabisabolol, primary, antipeptic, action, depending, dosage, caused, alteration, phvalue, proteolytic, activity, pepsin, reduced, percent, addition, bisabolol, ratio, antipeptic, action, bisabolol, occurs, case, direct, contact, case, previous, contact, atp, inhibiting, effect, lost]                                                                                                                                                                                                                                                                                                                                                                                                                                                                                                                                                                                                                                                                                                                                                                                                                                                                                                                                                                                                                                                                                                                                                                                                                                                                                                                                                                                                                                                                                                                                                                                                 |\n",
            "|a report is given on the recent discovery of outstanding immunological properties in ba ncyanoethyleneurea having a low molecular mass m experiments in ds cs bearing wistar rats have shown that ba at a dosage of only about percent ld mg kg and negligible lethality percent results in a rec rate of percent without hyperglycemia and in one test of percent with hyperglycemia under otherwise unchanged conditions the ref substance ifosfamide if a further development of cyclophosphamide applied without hyperglycemia in its most efficient dosage of percent ld mg kg brought about a recovery rate of percent at a lethality of percent contrary to ba min hyperglycemia caused no further improvement of the rec rate however this comparison is characterized by the fact that both substances exhibit two quite different complementary mechanisms of action leucocyte counts made t3 application of the said cancerostatics and dosages have shown a pronounced stimulation with ba and with ifosfamide the known suppression in the posttherapeutic interval usually found with standard cancerostatics in combination with the cited pi test for ba blood pictures then allow conclusions on the immunity status since if can be taken as one of the most efficient cancerostaticsthere is no other chemotherapeutic known up to now that has a more significant effect on the ds carcinosarcoma in rats these findings are of special importance finally the total amount of leucocytes and lymphocytes as well as their time behaviour was determined from the blood picture of tumourfree rats after iv application of ba the thus obtained numerical values clearly show that further research work on the prophylactic use of this substance seems to be necessary and very promising                                                                                                                                                                                                                                                                                                                                                                                                                    |[report, given, recent, discovery, outstanding, immunological, properties, ba, ncyanoethyleneurea, low, molecular, mass, m, experiments, ds, cs, bearing, wistar, rats, shown, ba, dosage, percent, ld, mg, kg, negligible, lethality, percent, results, rec, rate, percent, without, hyperglycemia, one, test, percent, hyperglycemia, otherwise, unchanged, conditions, ref, substance, ifosfamide, development, cyclophosphamide, applied, without, hyperglycemia, efficient, dosage, percent, ld, mg, kg, brought, recovery, rate, percent, lethality, percent, contrary, ba, min, hyperglycemia, caused, improvement, rec, rate, however, comparison, characterized, fact, substances, exhibit, two, quite, different, complementary, mechanisms, action, leucocyte, counts, made, t3, application, said, cancerostatics, dosages, shown, pronounced, stimulation, ba, ifosfamide, known, suppression, posttherapeutic, interval, usually, found, standard, cancerostatics, combination, cited, pi, test, ba, blood, pictures, allow, conclusions, immunity, status, since, taken, one, efficient, cancerostaticsthere, chemotherapeutic, known, significant, effect, ds, carcinosarcoma, rats, findings, special, importance, finally, total, amount, leucocytes, lymphocytes, well, time, behaviour, determined, blood, picture, tumourfree, rats, iv, application, ba, thus, obtained, numerical, values, clearly, show, research, work, prophylactic, use, substance, seems, necessary, promising]                                                                                                                                                                                                                                                                                                                                                                                      |\n",
            "|the virostatic compound nndiethyloxotetradecylimidazolidinylethylpiperazinecarboxamidehydrochloride was analyzed as to its effect on the induction of tryptophanpyrrolase and tyrosineaminotransferase in rat liver the basic activity of the enzymes was not influenced by the substance either in normal or in adrenalectomized animals the induction of the enzymes by cortisone increased in the presence of the compound whereas the atp induction remained unchanged the induction of tyrosineaminotransferase by dexamethasonephosphate in tissue culture is inhibited if the dose of compound is higher than mugml                                                                                                                                                                                                                                                                                                                                                                                                                                                                                                                                                                                                                                                                                                                                                                                                                                                                                                                                                                                                                                                                                                                                                                                                                                                                                                                                                                                                                                                                                                                                                                                                         |[virostatic, compound, nndiethyloxotetradecylimidazolidinylethylpiperazinecarboxamidehydrochloride, analyzed, effect, induction, tryptophanpyrrolase, tyrosineaminotransferase, rat, liver, basic, activity, enzymes, influenced, substance, either, normal, adrenalectomized, animals, induction, enzymes, cortisone, increased, presence, compound, whereas, atp, induction, remained, unchanged, induction, tyrosineaminotransferase, dexamethasonephosphate, tissue, culture, inhibited, dose, compound, higher, mugml]                                                                                                                                                                                                                                                                                                                                                                                                                                                                                                                                                                                                                                                                                                                                                                                                                                                                                                                                                                                                                                                                                                                                                                                                                                                                                                                                                                      |\n",
            "|rmi rmi and rmi are newly synthetized nrdibenzobfoxepinylnmethylpiperazinemaleates which show interesting psychopharmacologic effects this work contains the results of a study performed with these three edc in order to demonstrate their neuropsycholeptic activity in comparison with chloropromazine cpz and chlordiazepoxide cpd the inhibition of motility observed in mice shows that the compounds reduce the normal spontaneous motility as well as the muscle tone the centraldepressant activity is evidenced by increased barbiturateinduced sleep and a remarkable eyelid ptosis can also be observed our edc do not show any activity on electroshock just as do cpz and cpd as to the antipsychotic outline our compounds show strong reduction of lethality due to amphetamine in grouped mice and a strong antiapomorphine activity they show also an antiaggressive effect and an gaba activity on avoidance behaviour much stronger than cpz we have also found extrapyramidal effects as catalepsy common to many tranquillizers of the kind of the standards used by us as for vegetative phenomena the compounds show hypotensive dose related action ranging from moderate to strong probably due to an areceptor inhibition adrenolytic activity against mld of adrenaline antiserotonin and antihistaminic effects as well as other actions hypothermia analgesia etc confirm that rmi rmi and rmi are endowed with pharmacologic properties similar and more potent than those of cpz studies on the metabolism of brain cas show that they are similar to cpz although with less effect on dopamine level                                                                                                                                                                                                                                                                                                                                                                                                                                                                                                                                                                                             |[rmi, rmi, rmi, newly, synthetized, nrdibenzobfoxepinylnmethylpiperazinemaleates, show, interesting, psychopharmacologic, effects, work, contains, results, study, performed, three, edc, order, demonstrate, neuropsycholeptic, activity, comparison, chloropromazine, cpz, chlordiazepoxide, cpd, inhibition, motility, observed, mice, shows, compounds, reduce, normal, spontaneous, motility, well, muscle, tone, centraldepressant, activity, evidenced, increased, barbiturateinduced, sleep, remarkable, eyelid, ptosis, also, observed, edc, show, activity, electroshock, cpz, cpd, antipsychotic, outline, compounds, show, strong, reduction, lethality, due, amphetamine, grouped, mice, strong, antiapomorphine, activity, show, also, antiaggressive, effect, gaba, activity, avoidance, behaviour, much, stronger, cpz, also, found, extrapyramidal, effects, catalepsy, common, many, tranquillizers, kind, standards, used, us, vegetative, phenomena, compounds, show, hypotensive, dose, related, action, ranging, moderate, strong, probably, due, areceptor, inhibition, adrenolytic, activity, mld, adrenaline, antiserotonin, antihistaminic, effects, well, actions, hypothermia, analgesia, etc, confirm, rmi, rmi, rmi, endowed, pharmacologic, properties, similar, potent, cpz, studies, metabolism, brain, cas, show, similar, cpz, although, less, effect, dopamine, level]                                                                                                                                                                                                                                                                                                                                                                                                                                                                                       |\n",
            "|a doubleblind study with intraindividual comparisons was carried out to investigate the effects of mg of ralphahydroxyisopropylalphahtropanium bromidetropate sch mg sch mg ox mg oxazepam and pl with po in randomized sequence on gastric juice volume amount of acid concentration and ph values in healthy volunteers the secretion parameters were measured during a h basal period and a h stimulation period the gastric juice was obtained in min portions via stomach tube stimulation was effected by mugkgh pg via drip infusion the friedman test was used for the comparative statistical due and individual comparisons were carried out by means of the wilcoxon test pairdifferences rank the results show that sch and sch oxazepam were equal in effect on basal and stimulated secretion volume as compared with placebo it was not possible to establish an effect on secretion volume for oxazepam alone sch and sch ox were found to be equipotent in reducing the amount of basal acid while ox reduced this quantity only during the first min of basal secretion none of the three active preparations was capable of inhibiting the stimulated acid although both sch preparations produced a clear trend towards lowered mean values during the basal secretion period all three test s9 had an inhibiting action on acid concentration but none of them had a significant effect during the stimulation period the ph value was savely increased only by sch and sch oxazepam and this even only during the basal period the results are discussed                                                                                                                                                                                                                                                                                                                                                                                                                                                                                                                                                                                                                                                     |[doubleblind, study, intraindividual, comparisons, carried, investigate, effects, mg, ralphahydroxyisopropylalphahtropanium, bromidetropate, sch, mg, sch, mg, ox, mg, oxazepam, pl, po, randomized, sequence, gastric, juice, volume, amount, acid, concentration, ph, values, healthy, volunteers, secretion, parameters, measured, h, basal, period, h, stimulation, period, gastric, juice, obtained, min, portions, via, stomach, tube, stimulation, effected, mugkgh, pg, via, drip, infusion, friedman, test, used, comparative, statistical, due, individual, comparisons, carried, means, wilcoxon, test, pairdifferences, rank, results, show, sch, sch, oxazepam, equal, effect, basal, stimulated, secretion, volume, compared, placebo, possible, establish, effect, secretion, volume, oxazepam, alone, sch, sch, ox, found, equipotent, reducing, amount, basal, acid, ox, reduced, quantity, first, min, basal, secretion, none, three, active, preparations, capable, inhibiting, stimulated, acid, although, sch, preparations, produced, clear, trend, towards, lowered, mean, values, basal, secretion, period, three, test, s9, inhibiting, action, acid, concentration, none, significant, effect, stimulation, period, ph, value, savely, increased, sch, sch, oxazepam, even, basal, period, results, discussed]                                                                                                                                                                                                                                                                                                                                                                                                                                                                                                                                                         |\n",
            "|stroma from either normal or pnhlike crc is capable of inhibiting to some extent lysis in the sucrose test and enhancing lysis in the acidifiedserum test the same opposing effects are displayed by the exclusion peaks from sephadex g obtained from each stroma preparation suggesting that the same factor could be responsible for both activities stromata and peaks also induce lysis of pnhlike cells in unacidified serum indicating activation of complement through the alternate pathway this is confirmed by immunoelectrophoretic observation when ss previously g1 through the alternate pathway is used in the sucrose test the amount of lysis is markedly reduced this would indicate that the cp pathway activation can be controlled by the alternate pathway the possible clinical significance of these factors in determining the haemolytic crisis in pnh patients is discussed                                                                                                                                                                                                                                                                                                                                                                                                                                                                                                                                                                                                                                                                                                                                                                                                                                                                                                                                                                                                                                                                                                                                                                                                                                                                                                                            |[stroma, either, normal, pnhlike, crc, capable, inhibiting, extent, lysis, sucrose, test, enhancing, lysis, acidifiedserum, test, opposing, effects, displayed, exclusion, peaks, sephadex, g, obtained, stroma, preparation, suggesting, factor, responsible, activities, stromata, peaks, also, induce, lysis, pnhlike, cells, unacidified, serum, indicating, activation, complement, alternate, pathway, confirmed, immunoelectrophoretic, observation, ss, previously, g1, alternate, pathway, used, sucrose, test, amount, lysis, markedly, reduced, indicate, cp, pathway, activation, controlled, alternate, pathway, possible, clinical, significance, factors, determining, haemolytic, crisis, pnh, patients, discussed]                                                                                                                                                                                                                                                                                                                                                                                                                                                                                                                                                                                                                                                                                                                                                                                                                                                                                                                                                                                                                                                                                                                                                              |\n",
            "|the effect of the l1 metabolite of aspirin namely salicylic acid upon the pp pathway ppp of normal and gpddeficient red cells has been studied salicylic acid was shown to inhibit this pathway in proportion to the amount present at any concentration of this substance there was greater inhibition of the ppp in gpddeficient than in normal red cells                                                                                                                                                                                                                                                                                                                                                                                                                                                                                                                                                                                                                                                                                                                                                                                                                                                                                                                                                                                                                                                                                                                                                                                                                                                                                                                                                                                                                                                                                                                                                                                                                                                                                                                                                                                                                                                                        |[effect, l1, metabolite, aspirin, namely, salicylic, acid, upon, pp, pathway, ppp, normal, gpddeficient, red, cells, studied, salicylic, acid, shown, inhibit, pathway, proportion, amount, present, concentration, substance, greater, inhibition, ppp, gpddeficient, normal, red, cells]                                                                                                                                                                                                                                                                                                                                                                                                                                                                                                                                                                                                                                                                                                                                                                                                                                                                                                                                                                                                                                                                                                                                                                                                                                                                                                                                                                                                                                                                                                                                                                                                       |\n",
            "|in one experiment the effect on rumen ph of feeding with restricted amounts of whole or pelleted barley was studied with whole barley there was little variation in rumen ph associated with ff time but with pelleted barley the ph decreased from about before ff to about h after feeding the rate of disappearance of dried grass during incubation in the rumens of sheep receiving either whole or pelleted barley was studied in a second experiment t3 h incubation only mgg incubated had disappeared in the rumen of sheep receiving pelleted barley while mgg incubated had disappeared when it was incubated in the rumen of sheep receiving whole barley the voluntary intake of dried grass of lambs was studied in a third experiment when they received supplements of either or g whole or pelleted barleykg lw at the high level pelleted barley reduced intake of dried grass by gkg but whole barley reduced it by only gkg the digestibility of aciddetergent fibre was reduced more by pelleted barley than by whole barley but there was a tendency for a small increase in digestibility of the barley due to processing the implications of these findings on supplementation of roughages with cereals are discussed                                                                                                                                                                                                                                                                                                                                                                                                                                                                                                                                                                                                                                                                                                                                                                                                                                                                                                                                                                                     |[one, experiment, effect, rumen, ph, feeding, restricted, amounts, whole, pelleted, barley, studied, whole, barley, little, variation, rumen, ph, associated, ff, time, pelleted, barley, ph, decreased, ff, h, feeding, rate, disappearance, dried, grass, incubation, rumens, sheep, receiving, either, whole, pelleted, barley, studied, second, experiment, t3, h, incubation, mgg, incubated, disappeared, rumen, sheep, receiving, pelleted, barley, mgg, incubated, disappeared, incubated, rumen, sheep, receiving, whole, barley, voluntary, intake, dried, grass, lambs, studied, third, experiment, received, supplements, either, g, whole, pelleted, barleykg, lw, high, level, pelleted, barley, reduced, intake, dried, grass, gkg, whole, barley, reduced, gkg, digestibility, aciddetergent, fibre, reduced, pelleted, barley, whole, barley, tendency, small, increase, digestibility, barley, due, processing, implications, findings, supplementation, roughages, cereals, discussed]                                                                                                                                                                                                                                                                                                                                                                                                                                                                                                                                                                                                                                                                                                                                                                                                                                                                                        |\n",
            "|the presence of at least two ionizable as center groups has been detected by a t0 of the effect of ph upon catalysis of hydrolysis of lalanylbetanaphthylamide by human liver alanine aminopeptidase and upon the inhibition of hydrolysis by inhibitors and substrate analogs octanoic acid octylamine and peptide inhibitors have been found to be competitive inhibitors and are therefore thought to bind the as center lphe was previously shown to bind the active center since it was found to be a competitive inhibitor of the hydrolysis of tripeptide substrates garner c w and behal f j biochemistry a plot of pkm vs ph for the substrate lalabetanaphthylamide showed that binding decreased below ph and above the points at which the theoretical curve undergoes an integral change in slope these points are interpreted as the pka either of atp ionizable groups or bindingdependent enzyme active center groups similar plots of pkm vs ph for lalanylpnitroanilide as substrate and pki vs ph for lleulleulleu and dleultyr as inhibitors gave pairs fo pka values of and and and and respectively all the above substrates and dleultyr have pka values near therefore the bindingdependent group with a pka value near is possibly this atp group similar plots of pki vs ph for the inhibitors lphe lmet lleu octylamine and octanoic acid had only one bending point at and respectively amino acid inhibitors octylamine and octanoic acid have no groups with pka values between and these data indicate that there are two as center ionizable groups with pka values of approximately and which are involved in substrate binding or inhibitory caa binding but not in catalysis since vmax was constant at all ph values tested                                                                                                                                                                                                                                                                                                                                                                                                                                                                    |[presence, least, two, ionizable, center, groups, detected, t0, effect, ph, upon, catalysis, hydrolysis, lalanylbetanaphthylamide, human, liver, alanine, aminopeptidase, upon, inhibition, hydrolysis, inhibitors, substrate, analogs, octanoic, acid, octylamine, peptide, inhibitors, found, competitive, inhibitors, therefore, thought, bind, center, lphe, previously, shown, bind, active, center, since, found, competitive, inhibitor, hydrolysis, tripeptide, substrates, garner, c, w, behal, f, j, biochemistry, plot, pkm, vs, ph, substrate, lalabetanaphthylamide, showed, binding, decreased, ph, points, theoretical, curve, undergoes, integral, change, slope, points, interpreted, pka, either, atp, ionizable, groups, bindingdependent, enzyme, active, center, groups, similar, plots, pkm, vs, ph, lalanylpnitroanilide, substrate, pki, vs, ph, lleulleulleu, dleultyr, inhibitors, gave, pairs, fo, pka, values, respectively, substrates, dleultyr, pka, values, near, therefore, bindingdependent, group, pka, value, near, possibly, atp, group, similar, plots, pki, vs, ph, inhibitors, lphe, lmet, lleu, octylamine, octanoic, acid, one, bending, point, respectively, amino, acid, inhibitors, octylamine, octanoic, acid, groups, pka, values, data, indicate, two, center, ionizable, groups, pka, values, approximately, involved, substrate, binding, inhibitory, caa, binding, catalysis, since, vmax, constant, ph, values, tested]                                                                                                                                                                                                                                                                                                                                                                                                                      |\n",
            "|the reaction of glutamate dehydrogenase and glutamate gl with nad and nadp has been studied with stoppedflow techniques the enzyme was in all experiments present in excess of the coenzyme the results indicate that the ternary complex enadphkg is present as an intermediate in the formation of the stable complex enadphgl the identification of the complexes is based on their absorption spectra the binding of the coenzyme to egl is the ratelimiting step in the formation of enadphkg while the dissociation of alphaketoglutarate kg from this complex is the ratelimiting step in the formation of enadphgl the km for glutamate was mm in the first reaction and mm in the formation of the sd complex the km values were independent of the coenzyme the reaction rates with nad were approximately greater than those with nadp furthermore high glutamate concentration inhibited the formation of enadhkg while no substrate inhibition was found with nadp as coenzyme adp enhanced while gtp reduced the rate of enadphgl formation the rate of formation of enadphkg was inhibited by adp while it increased at high glutamate concentration when small amounts of gtp were added the results show that the higher activity found with nad compared to nadp under steadystate ca conditions do not necessarily involve ib of nad to the adp activating site of the enzyme moreover the substrate inhibition found at high glutamate concentration under steadystate assay condition is not due to the formation of enadphgl as this complex is formed with km of mm glu and the substrate inhibition is only significant at times this concentration                                                                                                                                                                                                                                                                                                                                                                                                                                                                                                                                                        |[reaction, glutamate, dehydrogenase, glutamate, gl, nad, nadp, studied, stoppedflow, techniques, enzyme, experiments, present, excess, coenzyme, results, indicate, ternary, complex, enadphkg, present, intermediate, formation, stable, complex, enadphgl, identification, complexes, based, absorption, spectra, binding, coenzyme, egl, ratelimiting, step, formation, enadphkg, dissociation, alphaketoglutarate, kg, complex, ratelimiting, step, formation, enadphgl, km, glutamate, mm, first, reaction, mm, formation, sd, complex, km, values, independent, coenzyme, reaction, rates, nad, approximately, greater, nadp, furthermore, high, glutamate, concentration, inhibited, formation, enadhkg, substrate, inhibition, found, nadp, coenzyme, adp, enhanced, gtp, reduced, rate, enadphgl, formation, rate, formation, enadphkg, inhibited, adp, increased, high, glutamate, concentration, small, amounts, gtp, added, results, show, higher, activity, found, nad, compared, nadp, steadystate, ca, conditions, necessarily, involve, ib, nad, adp, activating, site, enzyme, moreover, substrate, inhibition, found, high, glutamate, concentration, steadystate, assay, condition, due, formation, enadphgl, complex, formed, km, mm, glu, substrate, inhibition, significant, times, concentration]                                                                                                                                                                                                                                                                                                                                                                                                                                                                                                                                                                         |\n",
            "|choline acetyltransferase ec catalyzes the biosynthesis of acetylcholine according to the following chemical equation acetylcoa choline in equilibrium to acetylcholine coa in addition to nervous tissue primate placenta is the only other animal source which contains appreciable acetylcholine and its biosynthetic enzyme human brain cd nucleus and human placental choline acetyltransferase were purified to electrophoretic homogeneity using ionexchange and blue dextransepharose affinity chromatography the molecular weights determined by sephadex g gel filtration and sodium dodecyl sulfate gel electrophoresis are plus or minus nethylmaleimide pchloromercuribenzoate and dithiobisnitrobenzoic acid inhibit the enzyme dithiothreitol reverses the inhibition produced by the latter two reagents the pka of the group associated with nethylmaleimide inhibition is plus or minus a chemically competent acetylthioenzyme is isolable by sephadex gel filtration the enzymes from the brain and placenta are thus far physically and biochemically indistinguishable                                                                                                                                                                                                                                                                                                                                                                                                                                                                                                                                                                                                                                                                                                                                                                                                                                                                                                                                                                                                                                                                                                                                       |[choline, acetyltransferase, ec, catalyzes, biosynthesis, acetylcholine, according, following, chemical, equation, acetylcoa, choline, equilibrium, acetylcholine, coa, addition, nervous, tissue, primate, placenta, animal, source, contains, appreciable, acetylcholine, biosynthetic, enzyme, human, brain, cd, nucleus, human, placental, choline, acetyltransferase, purified, electrophoretic, homogeneity, using, ionexchange, blue, dextransepharose, affinity, chromatography, molecular, weights, determined, sephadex, g, gel, filtration, sodium, dodecyl, sulfate, gel, electrophoresis, plus, minus, nethylmaleimide, pchloromercuribenzoate, dithiobisnitrobenzoic, acid, inhibit, enzyme, dithiothreitol, reverses, inhibition, produced, latter, two, reagents, pka, group, associated, nethylmaleimide, inhibition, plus, minus, chemically, competent, acetylthioenzyme, isolable, sephadex, gel, filtration, enzymes, brain, placenta, thus, far, physically, biochemically, indistinguishable]                                                                                                                                                                                                                                                                                                                                                                                                                                                                                                                                                                                                                                                                                                                                                                                                                                                                             |\n",
            "|increasing concentrations of chloride were found to increase the resolution between two visible absorbance spectral transitions associated with acidification of ferricytochrome c analysis of a variety of spectral and viscosity measurements indicates that protonation of a single group having an apparent pk of and an intrinsic pk of about displaces the methionine ligand without significantly perturbing the native globular conformation analysis of methylated ferricytochrome c suggests that protonation of a carboxylate ion most likely a heme propionate residue is responsible for msd of the methionine ligand addition of a proton to a second group having an apparent pk of displaces the histidine ligand and unfolds the protein from a globular conformation into a random coil it is most likely that the second protonation occurs on the imidazole ring of the histidine ligand itself chloride is proposed to perturb these transitions by ligation in the fifth coordination position of the heme ion such ligation stabilizes a globular conformation of ferricytochrome c at ph and degrees                                                                                                                                                                                                                                                                                                                                                                                                                                                                                                                                                                                                                                                                                                                                                                                                                                                                                                                                                                                                                                                                                                       |[increasing, concentrations, chloride, found, increase, resolution, two, visible, absorbance, spectral, transitions, associated, acidification, ferricytochrome, c, analysis, variety, spectral, viscosity, measurements, indicates, protonation, single, group, apparent, pk, intrinsic, pk, displaces, methionine, ligand, without, significantly, perturbing, native, globular, conformation, analysis, methylated, ferricytochrome, c, suggests, protonation, carboxylate, ion, likely, heme, propionate, residue, responsible, msd, methionine, ligand, addition, proton, second, group, apparent, pk, displaces, histidine, ligand, unfolds, protein, globular, conformation, random, coil, likely, second, protonation, occurs, imidazole, ring, histidine, ligand, chloride, proposed, perturb, transitions, ligation, fifth, coordination, position, heme, ion, ligation, stabilizes, globular, conformation, ferricytochrome, c, ph, degrees]                                                                                                                                                                                                                                                                                                                                                                                                                                                                                                                                                                                                                                                                                                                                                                                                                                                                                                                                          |\n",
            "|the properties of the functional cg in a protein can be used as builtinprobes of the structure of the protein we have developed a general procedure whereby the ionization constant and chemical reactivity of solitary pet groups in proteins may be determined the method may be applied to the side chain of histidine tyrosine lysine and cysteine as well as to the amino terminus of the protein the method which is an extension of the competitive labeling technique using h and cfluorodinitrobenzene nphf in a doublelabeling procedure is rapid and sensitive advantage is taken of the fact that t3 acid hydrolysis of a dinitrophenylated protein a derivative is obtained which must be derived from a unique position in the protein the method has been applied to the solitary histidine residue of lysozyme alphalytic protease and streptomyces griseus sg trypsin as well as to the amino terminus of the latter protein the following parameters were obtained for reaction with nphf at degrees c in n kcl the histidine of hen eggwhite lysozyme pka of and secondorder velocity constant of m min the histidine of alphalytic protease pka of and secondorder velocity constant of m min the histidine of sg trypsin pka of and secondorder velocity constant of m min the valyl amino terminus of sg trypsin pka of and secondorder velocity constant of m min in addition the results obtained provide clues as to the microenvironments of these functional groups and indicate that the proteins studied undergo phdependent conformational changes which affect the microenvironment and hence the chemical cr of these groups                                                                                                                                                                                                                                                                                                                                                                                                                                                                                                                                                                       |[properties, functional, cg, protein, used, builtinprobes, structure, protein, developed, general, procedure, whereby, ionization, constant, chemical, reactivity, solitary, pet, groups, proteins, may, determined, method, may, applied, side, chain, histidine, tyrosine, lysine, cysteine, well, amino, terminus, protein, method, extension, competitive, labeling, technique, using, h, cfluorodinitrobenzene, nphf, doublelabeling, procedure, rapid, sensitive, advantage, taken, fact, t3, acid, hydrolysis, dinitrophenylated, protein, derivative, obtained, must, derived, unique, position, protein, method, applied, solitary, histidine, residue, lysozyme, alphalytic, protease, streptomyces, griseus, sg, trypsin, well, amino, terminus, latter, protein, following, parameters, obtained, reaction, nphf, degrees, c, n, kcl, histidine, hen, eggwhite, lysozyme, pka, secondorder, velocity, constant, m, min, histidine, alphalytic, protease, pka, secondorder, velocity, constant, m, min, histidine, sg, trypsin, pka, secondorder, velocity, constant, m, min, valyl, amino, terminus, sg, trypsin, pka, secondorder, velocity, constant, m, min, addition, results, obtained, provide, clues, microenvironments, functional, groups, indicate, proteins, studied, undergo, phdependent, conformational, changes, affect, microenvironment, hence, chemical, cr, groups]                                                                                                                                                                                                                                                                                                                                                                                                                                                                                               |\n",
            "|primary amines react with pentanedione at ph to form enamines nalkylaminopentenones the latter compounds readily regenerate the primary amine at low ph or on treatment with hydroxylamine guanidine and substituted guanidines react with pentanedione to form nsubstituted aminodimethylpyrimidines at a rate which is lower by at least a factor of than the rate of reaction of pentanedione with primary amines selective modification of lysine and arginine side chains in proteins can readily be achieved with pentanedione modification of lysine is favored by reaction at ph or for short reaction times at ph selective modification of arg is achieved by reaction with pentanedione for long times at ph followed by treatment of the protein with hydroxylamine the extent of modification of lysine and arginine side chains can readily be measured spectrophotometrically modification of lysozyme with pentanedione at ph results in modification of lysine residues and less than arginine residue in hr modification of lysozyme with pentanedione at ph results in modification of lysine residues and arg residues in hr treatment of this modified protein with hydroxylamine regenerated the modified lysine residues but caused no nc in the modified arginine residues one arginine residue seems to be essential for the catalytic activity of the enzyme                                                                                                                                                                                                                                                                                                                                                                                                                                                                                                                                                                                                                                                                                                                                                                                                                                             |[primary, amines, react, pentanedione, ph, form, enamines, nalkylaminopentenones, latter, compounds, readily, regenerate, primary, amine, low, ph, treatment, hydroxylamine, guanidine, substituted, guanidines, react, pentanedione, form, nsubstituted, aminodimethylpyrimidines, rate, lower, least, factor, rate, reaction, pentanedione, primary, amines, selective, modification, lysine, arginine, side, chains, proteins, readily, achieved, pentanedione, modification, lysine, favored, reaction, ph, short, reaction, times, ph, selective, modification, arg, achieved, reaction, pentanedione, long, times, ph, followed, treatment, protein, hydroxylamine, extent, modification, lysine, arginine, side, chains, readily, measured, spectrophotometrically, modification, lysozyme, pentanedione, ph, results, modification, lysine, residues, less, arginine, residue, hr, modification, lysozyme, pentanedione, ph, results, modification, lysine, residues, arg, residues, hr, treatment, modified, protein, hydroxylamine, regenerated, modified, lysine, residues, caused, nc, modified, arginine, residues, one, arginine, residue, seems, essential, catalytic, activity, enzyme]                                                                                                                                                                                                                                                                                                                                                                                                                                                                                                                                                                                                                                                                                          |\n",
            "|a purification procedure is reported for obtaining bovine liver dhf reductase in high yield and amounts of mg a key step in the procedure is the use of an affinity gel prepared by coupling pteroylllysine to sepharose the purified reductase has a tps activity of about unitsmg and is homogeneous as judged by analytical ultracentrifugation polyacrylamide gel electrophoresis and titration with methotrexate the products of the first step of edman kd indicated a minimum purity of the reductase has a molecular weight of about on the basis of amino acid composition and from equilibrium sedimentation it is not inhibited by as to the streptococcus faecium reductase isoenzyme unlike the reductase of many other vertebrate tissues the bovine enzyme is inhibited by mercurials rather than activated and it has a single ph optimum at both low and high ionic strength however the position of the ph optimum is shifted and the activity increased by increasing ionic strength automatic edman degradation has been used to determine of the aminoterminal amino acid residues considerable homology exists between this region and the corresponding regions of the reductase from s faecium and from escherichia coli this strengthens the idea that this region contributes to the structure of the binding site for dhf                                                                                                                                                                                                                                                                                                                                                                                                                                                                                                                                                                                                                                                                                                                                                                                                                                                                               |[purification, procedure, reported, obtaining, bovine, liver, dhf, reductase, high, yield, amounts, mg, key, step, procedure, use, affinity, gel, prepared, coupling, pteroylllysine, sepharose, purified, reductase, tps, activity, unitsmg, homogeneous, judged, analytical, ultracentrifugation, polyacrylamide, gel, electrophoresis, titration, methotrexate, products, first, step, edman, kd, indicated, minimum, purity, reductase, molecular, weight, basis, amino, acid, composition, equilibrium, sedimentation, inhibited, streptococcus, faecium, reductase, isoenzyme, unlike, reductase, many, vertebrate, tissues, bovine, enzyme, inhibited, mercurials, rather, activated, single, ph, optimum, low, high, ionic, strength, however, position, ph, optimum, shifted, activity, increased, increasing, ionic, strength, automatic, edman, degradation, used, determine, aminoterminal, amino, acid, residues, considerable, homology, exists, region, corresponding, regions, reductase, faecium, escherichia, coli, strengthens, idea, region, contributes, structure, binding, site, dhf]                                                                                                                                                                                                                                                                                                                                                                                                                                                                                                                                                                                                                                                                                                                                                                                     |\n",
            "|dihydrofolate reductase has been purified fold to apparent homogeneity from a trimethoprimresistant strain of escherichia coli rt using a procedure that includes methotrexate affinity column chromatography determinations of the molecular weight of the enzyme based on its amino acid composition sedimentation velocity and sodium dodecyl sulfate gel electrophoresis gave values of and respectively an aggregated form of the enzyme with a low specific activity can be separated from the monomer by gf treatment of the aggregate with mercaptoethanol or dithiothreitol results in an increase in enzymic activity and a regeneration of the monomer also multiple molecular forms of the monomer have been detected by polyacrylamide gel pace the unresolved enzyme exhibits two ph optima ph and ph with dhf as a substrate highest activities are observed in buffers containing large ocs in mm imidazolium chloride ph the specific activity is mumol of dihydrofolate reduced per min per mg at degrees folic acid also serves as a atp with a single ph optimum of ph at this ph the km for folate is mum and the vmax is of the rate observed with dhf as the substrate monovalent cations na k rb and cs inhibit dihydrofolate reductase at a given ionic strength the degree of inhibition is a function of the ionic radius of the cation divalent cations are more potent inhibitors the i of bacl is mum as compared to mm for kcl anions neither inhibit nor activate the enzyme                                                                                                                                                                                                                                                                                                                                                                                                                                                                                                                                                                                                                                                                                                                       |[dihydrofolate, reductase, purified, fold, apparent, homogeneity, trimethoprimresistant, strain, escherichia, coli, rt, using, procedure, includes, methotrexate, affinity, column, chromatography, determinations, molecular, weight, enzyme, based, amino, acid, composition, sedimentation, velocity, sodium, dodecyl, sulfate, gel, electrophoresis, gave, values, respectively, aggregated, form, enzyme, low, specific, activity, separated, monomer, gf, treatment, aggregate, mercaptoethanol, dithiothreitol, results, increase, enzymic, activity, regeneration, monomer, also, multiple, molecular, forms, monomer, detected, polyacrylamide, gel, pace, unresolved, enzyme, exhibits, two, ph, optima, ph, ph, dhf, substrate, highest, activities, observed, buffers, containing, large, ocs, mm, imidazolium, chloride, ph, specific, activity, mumol, dihydrofolate, reduced, per, min, per, mg, degrees, folic, acid, also, serves, atp, single, ph, optimum, ph, ph, km, folate, mum, vmax, rate, observed, dhf, substrate, monovalent, cations, na, k, rb, cs, inhibit, dihydrofolate, reductase, given, ionic, strength, degree, inhibition, function, ionic, radius, cation, divalent, cations, potent, inhibitors, bacl, mum, compared, mm, kcl, anions, neither, inhibit, activate, enzyme]                                                                                                                                                                                                                                                                                                                                                                                                                                                                                                                                                                                |\n",
            "|ionization effects on the binding of the potential ts analogues phosphoglycolate and phosphoglycolohydroxamate appear to be attributable to the changing state of ionization of the ligands themselves therefore it is unnecessary to postulate the additional involvement of an ionizing residue at the active site of triosephosphate isomerase to explain the influence of changing ph on ki in the neutral range the binding of the competitive inhibitor inorganic sulfate is insensitive to changing ph in the neutral range chloroacetol sulfate synthesized as an activesitespecific reagent for triosephosphate isomerase is used to provide an indication of the pka of the essential carboxyl group of this enzyme previously described activesitespecific reagents for the isomerase were phosphate esters and their changing state of ionization accompanied by possible changes in their affinity for the as site may have complicated earlier attempts to determine the pka of the essential carboxyl group from the ph dependence of the rate of inactivation being a strong monoprotic acid chloroacetol sulfate is better suited to the determination of the pka of the carboxyl group chloroacetol sulfate inactivates triosephosphate isomerase by the selective esterification of the same carboxyl group as that which is esterified by the phosphate esters described earlier from the ph dependence of the rate of inactivation of yeast triosephosphate isomerase the apparent pka of the activesite carboxyl group is estimated as                                                                                                                                                                                                                                                                                                                                                                                                                                                                                                                                                                                                                                                                       |[ionization, effects, binding, potential, ts, analogues, phosphoglycolate, phosphoglycolohydroxamate, appear, attributable, changing, state, ionization, ligands, therefore, unnecessary, postulate, additional, involvement, ionizing, residue, active, site, triosephosphate, isomerase, explain, influence, changing, ph, ki, neutral, range, binding, competitive, inhibitor, inorganic, sulfate, insensitive, changing, ph, neutral, range, chloroacetol, sulfate, synthesized, activesitespecific, reagent, triosephosphate, isomerase, used, provide, indication, pka, essential, carboxyl, group, enzyme, previously, described, activesitespecific, reagents, isomerase, phosphate, esters, changing, state, ionization, accompanied, possible, changes, affinity, site, may, complicated, earlier, attempts, determine, pka, essential, carboxyl, group, ph, dependence, rate, inactivation, strong, monoprotic, acid, chloroacetol, sulfate, better, suited, determination, pka, carboxyl, group, chloroacetol, sulfate, inactivates, triosephosphate, isomerase, selective, esterification, carboxyl, group, esterified, phosphate, esters, described, earlier, ph, dependence, rate, inactivation, yeast, triosephosphate, isomerase, apparent, pka, activesite, carboxyl, group, estimated]                                                                                                                                                                                                                                                                                                                                                                                                                                                                                                                                                                                        |\n",
            "|kinetic analyses of monoanion inhibition and cl nuclear magnetic resonance at mhz were employed to study monoanion interactions with the zinc metalloenzyme renal dipeptidase the enzymecatalyzed hydrolysis of glycyldehydrophenylalanine exhibited competitive inhibition when the reaction rate was determined in the presence of the monovalent anions fluoride chloride bromide iodide azide nitrate or thiocyanate or upon the addition of the divalent anion sulfate competitive inhibition was produced by these anions one anion was bound per enzyme molecule and except in the case of fluoride all of the anions appeared to bind at the same site cyanide ion produced a much more erp inhibition of renal dipeptidase than the other monoanions and it was shown that two cyanide ions were bound per enzyme molecule an investigation of the effect of ph upon monoanion inhibition suggested that the anion inhibitors bind to the group with a pk of approximately complete dissociation of this group approximately ph eliminates the gaba effect of anions the cl l1 broadening produced by renal dipeptidase in m nacl solutions was times more effective than that produced by equivalent concentrations of aquozincii the line broadening was dependent upon the concentration of the metalloenzyme and independent of the frequency of the exciting radiation when zinc ion was removed from the metalloenzyme by dialysis or when chloride was titrated from the metalloenzyme by cyanide line broadening was decreased treatment of renal dipeptidase with saturating concentrations of the competitive inhibitor guanosine triphosphate in the presence of m nacl also produced a significant decrease in the cl l1 width the cl l1 broadening produced by renal dipeptidase was shown to decrease with increasing ph through the range ph this linewidth variation with ph appeared to result from the titration of a site on the metalloprotein with an approximate pk of temperature studies of cl l1 broadening by the metalloenzyme in the presence of chloride and cyanide inhibitors suggest that the fast exchange process pertains and that the dominant ec50 mechanism is quadrupolar in nature|[kinetic, analyses, monoanion, inhibition, cl, nuclear, magnetic, resonance, mhz, employed, study, monoanion, interactions, zinc, metalloenzyme, renal, dipeptidase, enzymecatalyzed, hydrolysis, glycyldehydrophenylalanine, exhibited, competitive, inhibition, reaction, rate, determined, presence, monovalent, anions, fluoride, chloride, bromide, iodide, azide, nitrate, thiocyanate, upon, addition, divalent, anion, sulfate, competitive, inhibition, produced, anions, one, anion, bound, per, enzyme, molecule, except, case, fluoride, anions, appeared, bind, site, cyanide, ion, produced, much, erp, inhibition, renal, dipeptidase, monoanions, shown, two, cyanide, ions, bound, per, enzyme, molecule, investigation, effect, ph, upon, monoanion, inhibition, suggested, anion, inhibitors, bind, group, pk, approximately, complete, dissociation, group, approximately, ph, eliminates, gaba, effect, anions, cl, l1, broadening, produced, renal, dipeptidase, m, nacl, solutions, times, effective, produced, equivalent, concentrations, aquozincii, line, broadening, dependent, upon, concentration, metalloenzyme, independent, frequency, exciting, radiation, zinc, ion, removed, metalloenzyme, dialysis, chloride, titrated, metalloenzyme, cyanide, line, broadening, decreased, treatment, renal, dipeptidase, saturating, concentrations, competitive, inhibitor, guanosine, triphosphate, presence, m, nacl, also, produced, significant, decrease, cl, l1, width, cl, l1, broadening, produced, renal, dipeptidase, shown, decrease, increasing, ph, range, ph, linewidth, variation, ph, appeared, result, titration, site, metalloprotein, approximate, pk, temperature, studies, cl, l1, broadening, metalloenzyme, presence, chloride, cyanide, inhibitors, suggest, fast, exchange, process, pertains, dominant, ec50, mechanism, quadrupolar, nature]|\n",
            "|the nearultraviolet circular dichroism cd of three homogeneous antitype iii pneumococcal antibodies in the absence and the presence of the specific hexasaccharide ligand was studied in addition recombinations and hybridizations of h and l chains derived from two of these antibodies were carried out and the cd spectra of bound and free reconstituted igg molecules were measured the results indicate that the cd spectra of the native antibodies in the nm range are very similar in shape and sign and exhibit a positive band at nm the homologous reconstituted antibody molecules exhibited cd spectra very similar in shape and sign to those of the native antibody molecules although recombinant molecules are no longer stabilized by interchain disulfide bonds upon addition of the hexasaccharide ligand a significant decrease in amplitude of the cd spectra occurred in all three native antibodies and their fab fragments as well as in the homologous recombinant molecules no cd spectral changes could be detected upon interaction of the hapten ligand with the rat recombinants all homogeneous antibodies studied exhibited fluorescence quenching upon oligosaccharide binding and a blue shift of the emission maximum this property allowed the determination of the binding constant of one selected antibody to be made taken together cd and fluorescence spectroscopic data suggest that oligosaccharide ligands induced detectable conformational changes in the fab fragment of the antibody                                                                                                                                                                                                                                                                                                                                                                                                                                                                                                                                                                                                                                                                                          |[nearultraviolet, circular, dichroism, cd, three, homogeneous, antitype, iii, pneumococcal, antibodies, absence, presence, specific, hexasaccharide, ligand, studied, addition, recombinations, hybridizations, h, l, chains, derived, two, antibodies, carried, cd, spectra, bound, free, reconstituted, igg, molecules, measured, results, indicate, cd, spectra, native, antibodies, nm, range, similar, shape, sign, exhibit, positive, band, nm, homologous, reconstituted, antibody, molecules, exhibited, cd, spectra, similar, shape, sign, native, antibody, molecules, although, recombinant, molecules, longer, stabilized, interchain, disulfide, bonds, upon, addition, hexasaccharide, ligand, significant, decrease, amplitude, cd, spectra, occurred, three, native, antibodies, fab, fragments, well, homologous, recombinant, molecules, cd, spectral, changes, detected, upon, interaction, hapten, ligand, rat, recombinants, homogeneous, antibodies, studied, exhibited, fluorescence, quenching, upon, oligosaccharide, binding, blue, shift, emission, maximum, property, allowed, determination, binding, constant, one, selected, antibody, made, taken, together, cd, fluorescence, spectroscopic, data, suggest, oligosaccharide, ligands, induced, detectable, conformational, changes, fab, fragment, antibody]                                                                                                                                                                                                                                                                                                                                                                                                                                                                                                                                                    |\n",
            "|the circular polarization of luminescence cpl emitted by tryptophan residues was used as a sensitive probe for measuring ligandinduced structural changes in a homogeneous type iii pneumococcal antibody a series of oligosaccharide ligands of increasing size derived from type iii polysaccharide by partial acid hydrolysis was assayed ligandinduced changes in the circular polarization of fluorescence of the antibody were observed for all antigens tested including tetra hexa and octasaccharides and a residue oligomer the largest changes being recorded upon interaction with the intact soluble type iii pneumococcal siii polysaccharide when fab or fab fragments were used instead of the antibody igg for binding of siii polysaccharide the extent of conformational changes was decreased this suggests interactions between fab and fc portions in the igg molecule and subsequent conformational changes in fc part upon antigen binding reduction of interchain disulfide bonds abolished the additional spectral changes attributed to the fc part but not the changes observed in the fab part thus suggesting that the presence of the interchain disulfide bond in the hinge region is required for maximal cpl changes to occur small monovalent ligands ie the tetra hexa and octasaccharides were capable of inducing cpl changes in the fab part of the antibody molecule as well as cpl changes attributed to the fc portion a multivalent ligand containing about sugar residues appears to be the minimal antigenic size required for triggering conformational changes attributed to the fc part similar to those seen in the interaction with the whole spa                                                                                                                                                                                                                                                                                                                                                                                                                                                                                                                                |[circular, polarization, luminescence, cpl, emitted, tryptophan, residues, used, sensitive, probe, measuring, ligandinduced, structural, changes, homogeneous, type, iii, pneumococcal, antibody, series, oligosaccharide, ligands, increasing, size, derived, type, iii, polysaccharide, partial, acid, hydrolysis, assayed, ligandinduced, changes, circular, polarization, fluorescence, antibody, observed, antigens, tested, including, tetra, hexa, octasaccharides, residue, oligomer, largest, changes, recorded, upon, interaction, intact, soluble, type, iii, pneumococcal, siii, polysaccharide, fab, fab, fragments, used, instead, antibody, igg, binding, siii, polysaccharide, extent, conformational, changes, decreased, suggests, interactions, fab, fc, portions, igg, molecule, subsequent, conformational, changes, fc, part, upon, antigen, binding, reduction, interchain, disulfide, bonds, abolished, additional, spectral, changes, attributed, fc, part, changes, observed, fab, part, thus, suggesting, presence, interchain, disulfide, bond, hinge, region, required, maximal, cpl, changes, occur, small, monovalent, ligands, ie, tetra, hexa, octasaccharides, capable, inducing, cpl, changes, fab, part, antibody, molecule, well, cpl, changes, attributed, fc, portion, multivalent, ligand, containing, sugar, residues, appears, minimal, antigenic, size, required, triggering, conformational, changes, attributed, fc, part, similar, seen, interaction, whole, spa]                                                                                                                                                                                                                                                                                                                                                                                  |\n",
            "+-----------------------------------------------------------------------------------------------------------------------------------------------------------------------------------------------------------------------------------------------------------------------------------------------------------------------------------------------------------------------------------------------------------------------------------------------------------------------------------------------------------------------------------------------------------------------------------------------------------------------------------------------------------------------------------------------------------------------------------------------------------------------------------------------------------------------------------------------------------------------------------------------------------------------------------------------------------------------------------------------------------------------------------------------------------------------------------------------------------------------------------------------------------------------------------------------------------------------------------------------------------------------------------------------------------------------------------------------------------------------------------------------------------------------------------------------------------------------------------------------------------------------------------------------------------------------------------------------------------------------------------------------------------------------------------------------------------------------------------------------------------------------------------------------------------------------------------------------------------------------------------------------------------------------------------------------------------------------------------------------------------------------------------------------------------------------------------------------------------------------------------------------------------------------------------------------------------------------------------+-------------------------------------------------------------------------------------------------------------------------------------------------------------------------------------------------------------------------------------------------------------------------------------------------------------------------------------------------------------------------------------------------------------------------------------------------------------------------------------------------------------------------------------------------------------------------------------------------------------------------------------------------------------------------------------------------------------------------------------------------------------------------------------------------------------------------------------------------------------------------------------------------------------------------------------------------------------------------------------------------------------------------------------------------------------------------------------------------------------------------------------------------------------------------------------------------------------------------------------------------------------------------------------------------------------------------------------------------------------------------------------------------------------------------------------------------------------------------------------------------------------------------------------------------------------------------------------------------------------------------------------------------------------------------------------------------------------------------------------------------------------------------------------------------------------------------------------------------------------------------------------------------+\n",
            "only showing top 20 rows\n",
            "\n"
          ]
        }
      ],
      "source": [
        "remover = StopWordsRemover(inputCol='words_token', outputCol='words_clean')\n",
        "Df = remover.transform(DATA).select(\"processed_text\",'words_clean')\n",
        "Df.show(truncate=False)"
      ]
    },
    {
      "cell_type": "code",
      "execution_count": 47,
      "metadata": {
        "id": "ud4AklzY92mo"
      },
      "outputs": [],
      "source": [
        "#The following code is trying to eliminate some duplicated words that we have in each sentence, but we still do not know if this is the best possile action. "
      ]
    },
    {
      "cell_type": "code",
      "execution_count": 48,
      "metadata": {
        "id": "Iy8qAAwFpmMW"
      },
      "outputs": [],
      "source": [
        "from pyspark.sql.functions import udf\n",
        "from pyspark.sql.types import ArrayType,StringType    "
      ]
    },
    {
      "cell_type": "code",
      "execution_count": 49,
      "metadata": {
        "colab": {
          "base_uri": "https://localhost:8080/"
        },
        "id": "dPDia3N1po18",
        "outputId": "786ea9db-c47c-4877-bd92-9bf4cf6d487a"
      },
      "outputs": [
        {
          "output_type": "stream",
          "name": "stdout",
          "text": [
            "+--------------------+--------------------+\n",
            "|      processed_text|         words_clean|\n",
            "+--------------------+--------------------+\n",
            "|alphabisabolol ha...|[case, alteration...|\n",
            "|a report is given...|[pronounced, deve...|\n",
            "|the virostatic co...|[substance, prese...|\n",
            "|rmi rmi and rmi a...|[hypotensive, lev...|\n",
            "|a doubleblind stu...|[clear, obtained,...|\n",
            "|stroma from eithe...|[lysis, pathway, ...|\n",
            "|the effect of the...|[pathway, concent...|\n",
            "|in one experiment...|[feeding, rumens,...|\n",
            "|the presence of a...|[vmax, bindingdep...|\n",
            "|the reaction of g...|[step, stable, ad...|\n",
            "+--------------------+--------------------+\n",
            "only showing top 10 rows\n",
            "\n"
          ]
        }
      ],
      "source": [
        "get_uniques=udf(lambda x: list(set(x)), ArrayType(StringType()))\n",
        "\n",
        "DataBase = Df.withColumn(\"words_clean\", get_uniques(Df.words_clean))\n",
        "DataBase.show(10)"
      ]
    },
    {
      "cell_type": "code",
      "execution_count": 50,
      "metadata": {
        "id": "B_Vp1rEj5Y_8"
      },
      "outputs": [],
      "source": [
        "from pyspark.sql.functions import collect_set\n",
        "from pyspark.sql.types import IntegerType"
      ]
    },
    {
      "cell_type": "code",
      "execution_count": 51,
      "metadata": {
        "id": "WMl4nPVP5ZGO"
      },
      "outputs": [],
      "source": [
        "slen = udf(lambda s: len(s), IntegerType())\n",
        "DB = DataBase.withColumn(\"word_count\", slen(DataBase.words_clean))"
      ]
    },
    {
      "cell_type": "code",
      "execution_count": 52,
      "metadata": {
        "colab": {
          "base_uri": "https://localhost:8080/"
        },
        "id": "xMuwqF_15ZJD",
        "outputId": "df493fb4-390d-44a5-9c47-f1e110af822b"
      },
      "outputs": [
        {
          "output_type": "stream",
          "name": "stdout",
          "text": [
            "+--------------------+--------------------+----------+\n",
            "|      processed_text|         words_clean|word_count|\n",
            "+--------------------+--------------------+----------+\n",
            "|alphabisabolol ha...|[case, alteration...|        26|\n",
            "|a report is given...|[pronounced, deve...|       123|\n",
            "|the virostatic co...|[substance, prese...|        33|\n",
            "|rmi rmi and rmi a...|[hypotensive, lev...|       105|\n",
            "|a doubleblind stu...|[clear, obtained,...|        93|\n",
            "|stroma from eithe...|[lysis, pathway, ...|        60|\n",
            "|the effect of the...|[pathway, concent...|        25|\n",
            "|in one experiment...|[feeding, rumens,...|        60|\n",
            "|the presence of a...|[vmax, bindingdep...|        96|\n",
            "|the reaction of g...|[step, stable, ad...|        81|\n",
            "|choline acetyltra...|[using, ionexchan...|        76|\n",
            "|increasing concen...|[protein, globula...|        65|\n",
            "|the properties of...|[protein, builtin...|        95|\n",
            "|primary amines re...|[protein, react, ...|        60|\n",
            "|a purification pr...|[step, dhf, equil...|        91|\n",
            "|dihydrofolate red...|[chromatography, ...|       115|\n",
            "|ionization effect...|[indication, bett...|        78|\n",
            "|kinetic analyses ...|[dipeptidase, nac...|       120|\n",
            "|the nearultraviol...|[exhibit, fragmen...|        93|\n",
            "|the circular pola...|[appears, portion...|        99|\n",
            "+--------------------+--------------------+----------+\n",
            "only showing top 20 rows\n",
            "\n"
          ]
        }
      ],
      "source": [
        "DB.show()"
      ]
    },
    {
      "cell_type": "code",
      "execution_count": 53,
      "metadata": {
        "id": "BlhG9sq0d_dn"
      },
      "outputs": [],
      "source": [
        "import pyspark.sql.functions as F"
      ]
    },
    {
      "cell_type": "code",
      "execution_count": 54,
      "metadata": {
        "id": "QexCfCwrc0JZ"
      },
      "outputs": [],
      "source": [
        "DB.createOrReplaceTempView(\"df_view\")\n",
        "\n",
        "baskets = spark.sql(\"SELECT processed_text, words_clean AS Basket, word_count FROM df_view\")"
      ]
    },
    {
      "cell_type": "code",
      "execution_count": 55,
      "metadata": {
        "colab": {
          "base_uri": "https://localhost:8080/"
        },
        "id": "NZSnzbbmeh7_",
        "outputId": "cec4e954-3f91-4a50-9e13-92e5b87e0a60"
      },
      "outputs": [
        {
          "output_type": "stream",
          "name": "stdout",
          "text": [
            "+--------------------+--------------------+----------+\n",
            "|      processed_text|              Basket|word_count|\n",
            "+--------------------+--------------------+----------+\n",
            "|alphabisabolol ha...|[case, alteration...|        26|\n",
            "|a report is given...|[pronounced, deve...|       123|\n",
            "|the virostatic co...|[substance, prese...|        33|\n",
            "|rmi rmi and rmi a...|[hypotensive, lev...|       105|\n",
            "|a doubleblind stu...|[clear, obtained,...|        93|\n",
            "|stroma from eithe...|[lysis, pathway, ...|        60|\n",
            "|the effect of the...|[pathway, concent...|        25|\n",
            "|in one experiment...|[feeding, rumens,...|        60|\n",
            "|the presence of a...|[vmax, bindingdep...|        96|\n",
            "|the reaction of g...|[step, stable, ad...|        81|\n",
            "|choline acetyltra...|[using, ionexchan...|        76|\n",
            "|increasing concen...|[protein, globula...|        65|\n",
            "|the properties of...|[protein, builtin...|        95|\n",
            "|primary amines re...|[protein, react, ...|        60|\n",
            "|a purification pr...|[step, dhf, equil...|        91|\n",
            "|dihydrofolate red...|[chromatography, ...|       115|\n",
            "|ionization effect...|[indication, bett...|        78|\n",
            "|kinetic analyses ...|[dipeptidase, nac...|       120|\n",
            "|the nearultraviol...|[exhibit, fragmen...|        93|\n",
            "|the circular pola...|[appears, portion...|        99|\n",
            "+--------------------+--------------------+----------+\n",
            "only showing top 20 rows\n",
            "\n"
          ]
        }
      ],
      "source": [
        "baskets.show()"
      ]
    },
    {
      "cell_type": "code",
      "execution_count": 56,
      "metadata": {
        "colab": {
          "base_uri": "https://localhost:8080/"
        },
        "id": "JOsOEz8vplj0",
        "outputId": "3a6b921a-2d01-4b63-f3d8-dd8ce425f324"
      },
      "outputs": [
        {
          "output_type": "stream",
          "name": "stdout",
          "text": [
            "root\n",
            " |-- processed_text: string (nullable = true)\n",
            " |-- Basket: array (nullable = true)\n",
            " |    |-- element: string (containsNull = true)\n",
            " |-- word_count: integer (nullable = true)\n",
            "\n"
          ]
        }
      ],
      "source": [
        "baskets.printSchema()"
      ]
    },
    {
      "cell_type": "code",
      "execution_count": 57,
      "metadata": {
        "id": "bhQ2bmU4P3-Y"
      },
      "outputs": [],
      "source": [
        "# We reduce the dimension of the dataframe for the naive approach\n",
        "sample = baskets.limit(2000)"
      ]
    },
    {
      "cell_type": "code",
      "execution_count": 58,
      "metadata": {
        "colab": {
          "base_uri": "https://localhost:8080/"
        },
        "id": "jIzsYEc5ZGNa",
        "outputId": "15e2b206-a960-4413-bfe1-a5af460e6b92"
      },
      "outputs": [
        {
          "output_type": "stream",
          "name": "stdout",
          "text": [
            "+---------------------------------------------------------------------------------------------------------------------------------------------------------------------------------------------------------------------------------------------------------------------------------------------------------------------------------------------------------------------------------------------------------------------------------------------------------------------------------------------------------------------------------------------------------------------------------------------------------------------------------------------------------------------------------------------------------------------------------------------------------------------------------------------------------------------------------------------------------------------------------------------------------------------------------------------------------------------------------------------------------------------------------------------------------------------------------------------------------------------------------------------------------------------------------------------------------------------------------------------------------------------------------------------------------------------------------------------------------------------------------------------------------------------------------------------------------------------------------------------------------------------------------------------------------------------------------------------------------------------------------------------------------------------------------------------------------------------------------------------------------------------------------------------------------------+------------------------------------------------------------------------------------------------------------------------------------------------------------------------------------------------------------------------------------------------------------------------------------------------------------------------------------------------------------------------------------------------------------------------------------------------------------------------------------------------------------------------------------------------------------------------------------------------------------------------------------------------------------------------------------------------------------------------------------------------------------------------------------------------------------------------------------------------------------------------------------------------------------------------------------------------------------------------------------------------------------------------------------------------------------------------------------------------------------------------------------------------------------------------------------------------------------+----------+\n",
            "|processed_text                                                                                                                                                                                                                                                                                                                                                                                                                                                                                                                                                                                                                                                                                                                                                                                                                                                                                                                                                                                                                                                                                                                                                                                                                                                                                                                                                                                                                                                                                                                                                                                                                                                                                                                                                                                                 |Basket                                                                                                                                                                                                                                                                                                                                                                                                                                                                                                                                                                                                                                                                                                                                                                                                                                                                                                                                                                                                                                                                                                                                                                                                      |word_count|\n",
            "+---------------------------------------------------------------------------------------------------------------------------------------------------------------------------------------------------------------------------------------------------------------------------------------------------------------------------------------------------------------------------------------------------------------------------------------------------------------------------------------------------------------------------------------------------------------------------------------------------------------------------------------------------------------------------------------------------------------------------------------------------------------------------------------------------------------------------------------------------------------------------------------------------------------------------------------------------------------------------------------------------------------------------------------------------------------------------------------------------------------------------------------------------------------------------------------------------------------------------------------------------------------------------------------------------------------------------------------------------------------------------------------------------------------------------------------------------------------------------------------------------------------------------------------------------------------------------------------------------------------------------------------------------------------------------------------------------------------------------------------------------------------------------------------------------------------+------------------------------------------------------------------------------------------------------------------------------------------------------------------------------------------------------------------------------------------------------------------------------------------------------------------------------------------------------------------------------------------------------------------------------------------------------------------------------------------------------------------------------------------------------------------------------------------------------------------------------------------------------------------------------------------------------------------------------------------------------------------------------------------------------------------------------------------------------------------------------------------------------------------------------------------------------------------------------------------------------------------------------------------------------------------------------------------------------------------------------------------------------------------------------------------------------------+----------+\n",
            "|alphabisabolol has a primary antipeptic action depending on dosage which is not caused by an alteration of the phvalue the proteolytic activity of pepsin is reduced by percent through addition of bisabolol in the ratio of the antipeptic action of bisabolol only occurs in case of direct contact in case of a previous contact with the atp the inhibiting effect is lost                                                                                                                                                                                                                                                                                                                                                                                                                                                                                                                                                                                                                                                                                                                                                                                                                                                                                                                                                                                                                                                                                                                                                                                                                                                                                                                                                                                                                                |[case, alteration, direct, alphabisabolol, effect, contact, bisabolol, depending, primary, previous, action, ratio, atp, caused, pepsin, antipeptic, dosage, phvalue, proteolytic, addition, percent, reduced, inhibiting, occurs, lost, activity]                                                                                                                                                                                                                                                                                                                                                                                                                                                                                                                                                                                                                                                                                                                                                                                                                                                                                                                                                          |26        |\n",
            "|a report is given on the recent discovery of outstanding immunological properties in ba ncyanoethyleneurea having a low molecular mass m experiments in ds cs bearing wistar rats have shown that ba at a dosage of only about percent ld mg kg and negligible lethality percent results in a rec rate of percent without hyperglycemia and in one test of percent with hyperglycemia under otherwise unchanged conditions the ref substance ifosfamide if a further development of cyclophosphamide applied without hyperglycemia in its most efficient dosage of percent ld mg kg brought about a recovery rate of percent at a lethality of percent contrary to ba min hyperglycemia caused no further improvement of the rec rate however this comparison is characterized by the fact that both substances exhibit two quite different complementary mechanisms of action leucocyte counts made t3 application of the said cancerostatics and dosages have shown a pronounced stimulation with ba and with ifosfamide the known suppression in the posttherapeutic interval usually found with standard cancerostatics in combination with the cited pi test for ba blood pictures then allow conclusions on the immunity status since if can be taken as one of the most efficient cancerostaticsthere is no other chemotherapeutic known up to now that has a more significant effect on the ds carcinosarcoma in rats these findings are of special importance finally the total amount of leucocytes and lymphocytes as well as their time behaviour was determined from the blood picture of tumourfree rats after iv application of ba the thus obtained numerical values clearly show that further research work on the prophylactic use of this substance seems to be necessary and very promising|[pronounced, development, substance, recovery, suppression, carcinosarcoma, obtained, exhibit, since, m, min, cited, amount, cancerostaticsthere, t3, pictures, quite, ref, made, tumourfree, bearing, work, rats, recent, show, stimulation, seems, leucocytes, determined, ba, blood, prophylactic, ifosfamide, effect, report, one, brought, ncyanoethyleneurea, usually, wistar, special, necessary, mass, promising, negligible, ld, use, well, time, standard, conditions, research, experiments, different, molecular, said, mechanisms, combination, behaviour, significant, thus, clearly, given, iv, ds, leucocyte, complementary, applied, immunological, finally, values, interval, application, dosage, low, posttherapeutic, immunity, test, picture, importance, taken, total, mg, counts, dosages, fact, found, rec, status, comparison, results, efficient, however, cs, allow, substances, action, chemotherapeutic, caused, known, properties, kg, cyclophosphamide, rate, outstanding, shown, hyperglycemia, contrary, percent, cancerostatics, lymphocytes, unchanged, findings, pi, numerical, lethality, two, otherwise, without, improvement, discovery, conclusions, characterized]|123       |\n",
            "|the virostatic compound nndiethyloxotetradecylimidazolidinylethylpiperazinecarboxamidehydrochloride was analyzed as to its effect on the induction of tryptophanpyrrolase and tyrosineaminotransferase in rat liver the basic activity of the enzymes was not influenced by the substance either in normal or in adrenalectomized animals the induction of the enzymes by cortisone increased in the presence of the compound whereas the atp induction remained unchanged the induction of tyrosineaminotransferase by dexamethasonephosphate in tissue culture is inhibited if the dose of compound is higher than mugml                                                                                                                                                                                                                                                                                                                                                                                                                                                                                                                                                                                                                                                                                                                                                                                                                                                                                                                                                                                                                                                                                                                                                                                     |[substance, presence, animals, adrenalectomized, rat, inhibited, either, enzymes, effect, increased, dexamethasonephosphate, tissue, tyrosineaminotransferase, basic, normal, whereas, compound, atp, induction, analyzed, tryptophanpyrrolase, cortisone, dose, mugml, remained, unchanged, virostatic, culture, liver, influenced, activity, nndiethyloxotetradecylimidazolidinylethylpiperazinecarboxamidehydrochloride, higher]                                                                                                                                                                                                                                                                                                                                                                                                                                                                                                                                                                                                                                                                                                                                                                         |33        |\n",
            "|rmi rmi and rmi are newly synthetized nrdibenzobfoxepinylnmethylpiperazinemaleates which show interesting psychopharmacologic effects this work contains the results of a study performed with these three edc in order to demonstrate their neuropsycholeptic activity in comparison with chloropromazine cpz and chlordiazepoxide cpd the inhibition of motility observed in mice shows that the compounds reduce the normal spontaneous motility as well as the muscle tone the centraldepressant activity is evidenced by increased barbiturateinduced sleep and a remarkable eyelid ptosis can also be observed our edc do not show any activity on electroshock just as do cpz and cpd as to the antipsychotic outline our compounds show strong reduction of lethality due to amphetamine in grouped mice and a strong antiapomorphine activity they show also an antiaggressive effect and an gaba activity on avoidance behaviour much stronger than cpz we have also found extrapyramidal effects as catalepsy common to many tranquillizers of the kind of the standards used by us as for vegetative phenomena the compounds show hypotensive dose related action ranging from moderate to strong probably due to an areceptor inhibition adrenolytic activity against mld of adrenaline antiserotonin and antihistaminic effects as well as other actions hypothermia analgesia etc confirm that rmi rmi and rmi are endowed with pharmacologic properties similar and more potent than those of cpz studies on the metabolism of brain cas show that they are similar to cpz although with less effect on dopamine level                                                                                                                                                                         |[hypotensive, level, chlordiazepoxide, outline, increased, tone, inhibition, used, adrenaline, three, avoidance, extrapyramidal, edc, synthetized, barbiturateinduced, work, show, cpz, eyelid, hypothermia, related, due, observed, antihistaminic, actions, phenomena, motility, effects, antiaggressive, effect, mld, remarkable, cas, evidenced, normal, muscle, confirm, ptosis, well, areceptor, reduction, antiserotonin, electroshock, demonstrate, behaviour, standards, antipsychotic, metabolism, probably, kind, neuropsycholeptic, antiapomorphine, compounds, brain, spontaneous, common, studies, centraldepressant, gaba, also, strong, order, newly, mice, tranquillizers, grouped, less, interesting, psychopharmacologic, much, endowed, nrdibenzobfoxepinylnmethylpiperazinemaleates, shows, chloropromazine, although, amphetamine, activity, us, found, comparison, study, results, rmi, vegetative, dopamine, reduce, catalepsy, performed, stronger, action, ranging, properties, similar, sleep, cpd, moderate, dose, contains, pharmacologic, analgesia, lethality, etc, many, adrenolytic, potent]                                                                               |105       |\n",
            "|a doubleblind study with intraindividual comparisons was carried out to investigate the effects of mg of ralphahydroxyisopropylalphahtropanium bromidetropate sch mg sch mg ox mg oxazepam and pl with po in randomized sequence on gastric juice volume amount of acid concentration and ph values in healthy volunteers the secretion parameters were measured during a h basal period and a h stimulation period the gastric juice was obtained in min portions via stomach tube stimulation was effected by mugkgh pg via drip infusion the friedman test was used for the comparative statistical due and individual comparisons were carried out by means of the wilcoxon test pairdifferences rank the results show that sch and sch oxazepam were equal in effect on basal and stimulated secretion volume as compared with placebo it was not possible to establish an effect on secretion volume for oxazepam alone sch and sch ox were found to be equipotent in reducing the amount of basal acid while ox reduced this quantity only during the first min of basal secretion none of the three active preparations was capable of inhibiting the stimulated acid although both sch preparations produced a clear trend towards lowered mean values during the basal secretion period all three test s9 had an inhibiting action on acid concentration but none of them had a significant effect during the stimulation period the ph value was savely increased only by sch and sch oxazepam and this even only during the basal period the results are discussed                                                                                                                                                                                                                                 |[clear, obtained, juice, savely, infusion, increased, doubleblind, lowered, h, min, amount, used, capable, stimulated, equal, three, ralphahydroxyisopropylalphahtropanium, gastric, portions, towards, investigate, acid, reducing, trend, effected, bromidetropate, even, drip, show, stimulation, none, due, measured, effects, pl, effect, volume, establish, wilcoxon, pg, ox, volunteers, possible, preparations, mugkgh, alone, tube, sch, po, discussed, via, produced, comparisons, parameters, significant, first, pairdifferences, active, quantity, values, comparative, carried, test, intraindividual, inhibiting, mg, although, compared, rank, means, concentration, found, study, results, friedman, placebo, oxazepam, period, randomized, action, sequence, individual, healthy, reduced, s9, mean, value, secretion, stomach, basal, statistical, equipotent, ph]                                                                                                                                                                                                                                                                                                                       |93        |\n",
            "|stroma from either normal or pnhlike crc is capable of inhibiting to some extent lysis in the sucrose test and enhancing lysis in the acidifiedserum test the same opposing effects are displayed by the exclusion peaks from sephadex g obtained from each stroma preparation suggesting that the same factor could be responsible for both activities stromata and peaks also induce lysis of pnhlike cells in unacidified serum indicating activation of complement through the alternate pathway this is confirmed by immunoelectrophoretic observation when ss previously g1 through the alternate pathway is used in the sucrose test the amount of lysis is markedly reduced this would indicate that the cp pathway activation can be controlled by the alternate pathway the possible clinical significance of these factors in determining the haemolytic crisis in pnh patients is discussed                                                                                                                                                                                                                                                                                                                                                                                                                                                                                                                                                                                                                                                                                                                                                                                                                                                                                                        |[lysis, pathway, obtained, cp, peaks, induce, cells, either, effects, factor, g1, ss, displayed, observation, stroma, complement, haemolytic, determining, indicate, stromata, suggesting, alternate, used, sucrose, confirmed, enhancing, amount, acidifiedserum, normal, extent, preparation, capable, unacidified, significance, indicating, pnh, clinical, crc, test, g, possible, also, markedly, serum, activation, reduced, opposing, previously, controlled, exclusion, inhibiting, sephadex, immunoelectrophoretic, crisis, pnhlike, factors, patients, discussed, responsible, activities]                                                                                                                                                                                                                                                                                                                                                                                                                                                                                                                                                                                                        |60        |\n",
            "|the effect of the l1 metabolite of aspirin namely salicylic acid upon the pp pathway ppp of normal and gpddeficient red cells has been studied salicylic acid was shown to inhibit this pathway in proportion to the amount present at any concentration of this substance there was greater inhibition of the ppp in gpddeficient than in normal red cells                                                                                                                                                                                                                                                                                                                                                                                                                                                                                                                                                                                                                                                                                                                                                                                                                                                                                                                                                                                                                                                                                                                                                                                                                                                                                                                                                                                                                                                    |[pathway, concentration, inhibit, substance, greater, cells, gpddeficient, effect, pp, upon, proportion, inhibition, l1, studied, amount, normal, metabolite, shown, present, acid, aspirin, salicylic, namely, ppp, red]                                                                                                                                                                                                                                                                                                                                                                                                                                                                                                                                                                                                                                                                                                                                                                                                                                                                                                                                                                                   |25        |\n",
            "|in one experiment the effect on rumen ph of feeding with restricted amounts of whole or pelleted barley was studied with whole barley there was little variation in rumen ph associated with ff time but with pelleted barley the ph decreased from about before ff to about h after feeding the rate of disappearance of dried grass during incubation in the rumens of sheep receiving either whole or pelleted barley was studied in a second experiment t3 h incubation only mgg incubated had disappeared in the rumen of sheep receiving pelleted barley while mgg incubated had disappeared when it was incubated in the rumen of sheep receiving whole barley the voluntary intake of dried grass of lambs was studied in a third experiment when they received supplements of either or g whole or pelleted barleykg lw at the high level pelleted barley reduced intake of dried grass by gkg but whole barley reduced it by only gkg the digestibility of aciddetergent fibre was reduced more by pelleted barley than by whole barley but there was a tendency for a small increase in digestibility of the barley due to processing the implications of these findings on supplementation of roughages with cereals are discussed                                                                                                                                                                                                                                                                                                                                                                                                                                                                                                                                                                 |[feeding, rumens, mgg, level, aciddetergent, second, little, sheep, receiving, either, barley, barleykg, incubation, effect, disappeared, implications, one, voluntary, whole, h, studied, third, variation, tendency, experiment, fibre, t3, restricted, associated, rumen, rate, disappearance, intake, lambs, gkg, roughages, ff, supplements, g, incubated, reduced, processing, pelleted, time, dried, small, findings, grass, digestibility, amounts, decreased, supplementation, lw, increase, received, discussed, high, cereals, due, ph]                                                                                                                                                                                                                                                                                                                                                                                                                                                                                                                                                                                                                                                          |60        |\n",
            "|the presence of at least two ionizable as center groups has been detected by a t0 of the effect of ph upon catalysis of hydrolysis of lalanylbetanaphthylamide by human liver alanine aminopeptidase and upon the inhibition of hydrolysis by inhibitors and substrate analogs octanoic acid octylamine and peptide inhibitors have been found to be competitive inhibitors and are therefore thought to bind the as center lphe was previously shown to bind the active center since it was found to be a competitive inhibitor of the hydrolysis of tripeptide substrates garner c w and behal f j biochemistry a plot of pkm vs ph for the substrate lalabetanaphthylamide showed that binding decreased below ph and above the points at which the theoretical curve undergoes an integral change in slope these points are interpreted as the pka either of atp ionizable groups or bindingdependent enzyme active center groups similar plots of pkm vs ph for lalanylpnitroanilide as substrate and pki vs ph for lleulleulleu and dleultyr as inhibitors gave pairs fo pka values of and and and and respectively all the above substrates and dleultyr have pka values near therefore the bindingdependent group with a pka value near is possibly this atp group similar plots of pki vs ph for the inhibitors lphe lmet lleu octylamine and octanoic acid had only one bending point at and respectively amino acid inhibitors octylamine and octanoic acid have no groups with pka values between and these data indicate that there are two as center ionizable groups with pka values of approximately and which are involved in substrate binding or inhibitory caa binding but not in catalysis since vmax was constant at all ph values tested                                                |[vmax, bindingdependent, point, inhibition, since, t0, approximately, tripeptide, substrates, bind, lleu, aminopeptidase, undergoes, plots, tested, analogs, change, acid, w, pkm, decreased, pki, lalanylpnitroanilide, competitive, inhibitors, effect, octanoic, octylamine, lmet, upon, one, bending, enzyme, caa, inhibitor, amino, showed, garner, lphe, peptide, j, binding, human, vs, c, either, lalanylbetanaphthylamide, thought, involved, indicate, active, integral, atp, values, ionizable, groups, theoretical, f, previously, biochemistry, inhibitory, pairs, liver, substrate, interpreted, least, lleulleulleu, found, presence, detected, fo, group, points, gave, constant, behal, plot, lalabetanaphthylamide, data, catalysis, alanine, possibly, slope, similar, center, shown, curve, respectively, near, value, two, dleultyr, therefore, pka, hydrolysis, ph]                                                                                                                                                                                                                                                                                                                   |96        |\n",
            "|the reaction of glutamate dehydrogenase and glutamate gl with nad and nadp has been studied with stoppedflow techniques the enzyme was in all experiments present in excess of the coenzyme the results indicate that the ternary complex enadphkg is present as an intermediate in the formation of the stable complex enadphgl the identification of the complexes is based on their absorption spectra the binding of the coenzyme to egl is the ratelimiting step in the formation of enadphkg while the dissociation of alphaketoglutarate kg from this complex is the ratelimiting step in the formation of enadphgl the km for glutamate was mm in the first reaction and mm in the formation of the sd complex the km values were independent of the coenzyme the reaction rates with nad were approximately greater than those with nadp furthermore high glutamate concentration inhibited the formation of enadhkg while no substrate inhibition was found with nadp as coenzyme adp enhanced while gtp reduced the rate of enadphgl formation the rate of formation of enadphkg was inhibited by adp while it increased at high glutamate concentration when small amounts of gtp were added the results show that the higher activity found with nad compared to nadp under steadystate ca conditions do not necessarily involve ib of nad to the adp activating site of the enzyme moreover the substrate inhibition found at high glutamate concentration under steadystate assay condition is not due to the formation of enadphgl as this complex is formed with km of mm glu and the substrate inhibition is only significant at times this concentration                                                                                                                                    |[step, stable, adp, inhibited, ternary, increased, spectra, inhibition, approximately, excess, involve, gl, formation, show, condition, alphaketoglutarate, enadhkg, due, greater, gtp, reaction, dehydrogenase, enzyme, based, formed, nad, studied, independent, identification, rates, enhanced, activating, moreover, dissociation, furthermore, ib, enadphkg, km, small, conditions, experiments, mm, binding, added, higher, significant, nadp, techniques, assay, steadystate, first, intermediate, indicate, site, values, complex, enadphgl, ca, times, complexes, sd, present, egl, absorption, substrate, compared, activity, glutamate, concentration, found, results, kg, coenzyme, rate, glu, necessarily, reduced, stoppedflow, ratelimiting, amounts, high]                                                                                                                                                                                                                                                                                                                                                                                                                                 |81        |\n",
            "+---------------------------------------------------------------------------------------------------------------------------------------------------------------------------------------------------------------------------------------------------------------------------------------------------------------------------------------------------------------------------------------------------------------------------------------------------------------------------------------------------------------------------------------------------------------------------------------------------------------------------------------------------------------------------------------------------------------------------------------------------------------------------------------------------------------------------------------------------------------------------------------------------------------------------------------------------------------------------------------------------------------------------------------------------------------------------------------------------------------------------------------------------------------------------------------------------------------------------------------------------------------------------------------------------------------------------------------------------------------------------------------------------------------------------------------------------------------------------------------------------------------------------------------------------------------------------------------------------------------------------------------------------------------------------------------------------------------------------------------------------------------------------------------------------------------+------------------------------------------------------------------------------------------------------------------------------------------------------------------------------------------------------------------------------------------------------------------------------------------------------------------------------------------------------------------------------------------------------------------------------------------------------------------------------------------------------------------------------------------------------------------------------------------------------------------------------------------------------------------------------------------------------------------------------------------------------------------------------------------------------------------------------------------------------------------------------------------------------------------------------------------------------------------------------------------------------------------------------------------------------------------------------------------------------------------------------------------------------------------------------------------------------------+----------+\n",
            "only showing top 10 rows\n",
            "\n"
          ]
        }
      ],
      "source": [
        "sample.show(10, truncate=False)"
      ]
    },
    {
      "cell_type": "code",
      "execution_count": 59,
      "metadata": {
        "colab": {
          "base_uri": "https://localhost:8080/"
        },
        "id": "Q5uwlDg5ZexF",
        "outputId": "ee30cdc7-bbc0-4855-8140-5a128441368f"
      },
      "outputs": [
        {
          "output_type": "stream",
          "name": "stdout",
          "text": [
            "DataFrame Dimensions : (2000, 3)\n",
            "DataFrame Rows count : 2000\n",
            "DataFrame Columns count : 3\n"
          ]
        }
      ],
      "source": [
        "# Get row count\n",
        "rows = sample.count()\n",
        "\n",
        "# Get columns count\n",
        "cols = len(sample.columns)\n",
        "\n",
        "print(f\"DataFrame Dimensions : {(rows,cols)}\")\n",
        "print(f\"DataFrame Rows count : {rows}\")\n",
        "print(f\"DataFrame Columns count : {cols}\")"
      ]
    },
    {
      "cell_type": "code",
      "source": [
        "# We will convert our preprocessed dataframe into an rdd\n",
        "# with the following structure (key, value)\n",
        "\n",
        "input_rdd = sample.rdd.map(lambda x: (1, list(set(x[1]))))\n",
        "\n",
        "# This is our input rdd\n",
        "input_rdd.take(1)"
      ],
      "metadata": {
        "colab": {
          "base_uri": "https://localhost:8080/"
        },
        "id": "DEXH2tGyYrsH",
        "outputId": "5155a665-66f3-4dbd-9101-59678e73260e"
      },
      "execution_count": 60,
      "outputs": [
        {
          "output_type": "execute_result",
          "data": {
            "text/plain": [
              "[(1,\n",
              "  ['case',\n",
              "   'alteration',\n",
              "   'direct',\n",
              "   'alphabisabolol',\n",
              "   'effect',\n",
              "   'contact',\n",
              "   'bisabolol',\n",
              "   'depending',\n",
              "   'primary',\n",
              "   'previous',\n",
              "   'action',\n",
              "   'ratio',\n",
              "   'atp',\n",
              "   'caused',\n",
              "   'antipeptic',\n",
              "   'pepsin',\n",
              "   'dosage',\n",
              "   'phvalue',\n",
              "   'proteolytic',\n",
              "   'addition',\n",
              "   'percent',\n",
              "   'reduced',\n",
              "   'inhibiting',\n",
              "   'occurs',\n",
              "   'lost',\n",
              "   'activity'])]"
            ]
          },
          "metadata": {},
          "execution_count": 60
        }
      ]
    },
    {
      "cell_type": "code",
      "execution_count": 64,
      "metadata": {
        "id": "Y5hBLISbJfMl"
      },
      "outputs": [],
      "source": [
        "THRESHOLD_PERCENTAGE = 0.1\n",
        "n_of_baskets = input_rdd.countByKey()[1]\n",
        "\n",
        "THRESHOLD = math.ceil(n_of_baskets * THRESHOLD_PERCENTAGE)"
      ]
    },
    {
      "cell_type": "code",
      "source": [
        "print(THRESHOLD)"
      ],
      "metadata": {
        "colab": {
          "base_uri": "https://localhost:8080/"
        },
        "id": "QFZGmzyXQWro",
        "outputId": "06ccd7cc-8786-4dc3-e773-76b21e286d46"
      },
      "execution_count": 65,
      "outputs": [
        {
          "output_type": "stream",
          "name": "stdout",
          "text": [
            "200\n"
          ]
        }
      ]
    },
    {
      "cell_type": "code",
      "execution_count": 66,
      "metadata": {
        "colab": {
          "base_uri": "https://localhost:8080/"
        },
        "id": "TJZ_O6Xhjz4B",
        "outputId": "f789926b-ba5c-484e-cc0b-1dce35c20b6f"
      },
      "outputs": [
        {
          "output_type": "execute_result",
          "data": {
            "text/plain": [
              "[('effect', 439),\n",
              " ('activity', 587),\n",
              " ('obtained', 261),\n",
              " ('t3', 217),\n",
              " ('determined', 204),\n",
              " ('blood', 234),\n",
              " ('one', 301),\n",
              " ('well', 207),\n",
              " ('conditions', 257),\n",
              " ('different', 263)]"
            ]
          },
          "metadata": {},
          "execution_count": 66
        }
      ],
      "source": [
        "# Extract all singletons\n",
        "singleton_itemsets_rdd = input_rdd \\\n",
        "                          .flatMap(lambda x: x[1]) \\\n",
        "                          .map(lambda x: (x,1))\n",
        "\n",
        "singleton_itemsets_w_frequencies_rdd = singleton_itemsets_rdd \\\n",
        "                                        .reduceByKey(lambda x,y: x + y)\n",
        "\n",
        "# Filter singletons with a frequency higher than the THRESHOLD\n",
        "frequent_singleton_itemsets_rdd = singleton_itemsets_w_frequencies_rdd \\\n",
        "                                    .filter(lambda x: x[1] > THRESHOLD)\n",
        "\n",
        "frequent_singleton_itemsets_rdd.take(10)"
      ]
    },
    {
      "cell_type": "code",
      "source": [
        "# We can then compute frequent pairs \n",
        "# Thanks to the monotonicity property we won't generate false negatives\n",
        "\n",
        "# Extract all frequent singleton without frequency\n",
        "frequent_singleton_itemsets_wout_freq_rdd = frequent_singleton_itemsets_rdd \\\n",
        "                                              .map(lambda x: (1, x[0]))\n",
        "\n",
        "# Generate all candidate pairs \n",
        "candidate_pairs_rdd = frequent_singleton_itemsets_wout_freq_rdd \\\n",
        "                      .join(frequent_singleton_itemsets_wout_freq_rdd) \\\n",
        "                      .filter(lambda x: len(set(x[1])) == len(x[1])) \\\n",
        "                      .map(lambda x: (tuple(sorted(x[1])), 1)) \\\n",
        "                      .reduceByKey(lambda x,y: x)\n",
        "\n",
        "# Generate a list of candidate pairs \n",
        "candidate_pairs_list = candidate_pairs_rdd.map(lambda x: x[0]).collect()\n",
        "broadcasted_candidate_pairs_list = sc.broadcast(candidate_pairs_list)\n",
        "\n",
        "# Compute all possible pairs on our whole dataset\n",
        "input_w_unique_key_rdd = input_rdd \\\n",
        "                        .map(lambda x: x[1]) \\\n",
        "                        .zipWithUniqueId() \\\n",
        "                        .flatMap(lambda x: [(x[1], word) for word in x[0]])\n",
        "\n",
        "pair_itemsets_rdd = input_w_unique_key_rdd \\\n",
        "                  .join(input_w_unique_key_rdd)\n",
        "\n",
        "# Filter only pairs that are in the candidate frequent pairs list and compute their frequency\n",
        "frequent_pairs_itemsets_rdd = pair_itemsets_rdd \\\n",
        "                                .filter(lambda x: x[1] in broadcasted_candidate_pairs_list.value) \\\n",
        "                                .map(lambda x: (x[1],1)) \\\n",
        "                                .reduceByKey(lambda x,y: x + y) \\\n",
        "                                .filter(lambda x: x[1] > THRESHOLD)\n",
        "\n",
        "frequent_pairs_itemsets_rdd.take(5)"
      ],
      "metadata": {
        "id": "WSewVxUP4D17",
        "colab": {
          "base_uri": "https://localhost:8080/"
        },
        "outputId": "c7b9dbe2-5f2f-401f-d1c6-feba7d3793b4"
      },
      "execution_count": 67,
      "outputs": [
        {
          "output_type": "execute_result",
          "data": {
            "text/plain": [
              "[(('acid', 'ph'), 215),\n",
              " (('enzyme', 'ph'), 209),\n",
              " (('activity', 'enzyme'), 251),\n",
              " (('activity', 'ph'), 271),\n",
              " (('c', 'ph'), 202)]"
            ]
          },
          "metadata": {},
          "execution_count": 67
        }
      ]
    },
    {
      "cell_type": "code",
      "source": [
        "frequent_pairs_itemsets_wout_freq_rdd = frequent_pairs_itemsets_rdd.map(lambda x: (1, x[0]))\n",
        "\n",
        "# Generate all candidate triplets \n",
        "candidate_triplets_rdd = frequent_pairs_itemsets_wout_freq_rdd \\\n",
        "                      .join(frequent_pairs_itemsets_wout_freq_rdd) \\\n",
        "                      .map(lambda x: (1, sum(x[1], ()))) \\\n",
        "                      .map(lambda x: (1, tuple(set(x[1]))) ) \\\n",
        "                      .filter(lambda x: len(x[1]) == 3) \\\n",
        "                      .map(lambda x: (tuple(sorted(x[1])), 1)) \\\n",
        "                      .reduceByKey(lambda x,y: x)\n",
        "\n",
        "# Generate a list of candidate triplets \n",
        "candidate_triplets_list = candidate_triplets_rdd.map(lambda x: x[0]).collect()\n",
        "broadcasted_candidate_triplets_list= sc.broadcast(candidate_triplets_list)\n",
        "\n",
        "# Compute all triplets on our whole dataset\n",
        "triplets_itemsets_rdd = input_w_unique_key_rdd \\\n",
        "                        .map(lambda x: (x[0], (x[1], ))) \\\n",
        "                        .join(pair_itemsets_rdd)  \\\n",
        "                        .map(lambda x: (1, sum(x[1], ())))\n",
        "\n",
        "# Filter only triplets that are in the candidate frequent triples list and compute their frequency\n",
        "frequent_triplets_itemsets_rdd = triplets_itemsets_rdd \\\n",
        "                                .filter(lambda x: x[1] in broadcasted_candidate_triplets_list.value) \\\n",
        "                                .map(lambda x: (x[1],1)) \\\n",
        "                                .reduceByKey(lambda x,y: x + y) \\\n",
        "                                .filter(lambda x: x[1] > THRESHOLD)\n",
        "\n",
        "frequent_triplets_itemsets_rdd.take(5)"
      ],
      "metadata": {
        "id": "Wxkdu-z_4D4i",
        "colab": {
          "base_uri": "https://localhost:8080/"
        },
        "outputId": "813af0d7-6d07-409c-d3f9-7683a2b47595"
      },
      "execution_count": 68,
      "outputs": [
        {
          "output_type": "execute_result",
          "data": {
            "text/plain": [
              "[]"
            ]
          },
          "metadata": {},
          "execution_count": 68
        }
      ]
    }
  ]
}