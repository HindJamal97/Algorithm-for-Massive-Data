{
  "nbformat": 4,
  "nbformat_minor": 0,
  "metadata": {
    "colab": {
      "provenance": [],
      "authorship_tag": "ABX9TyPzVDonLi1n6Ml7otAF+xSP",
      "include_colab_link": true
    },
    "kernelspec": {
      "name": "python3",
      "display_name": "Python 3"
    },
    "language_info": {
      "name": "python"
    }
  },
  "cells": [
    {
      "cell_type": "markdown",
      "metadata": {
        "id": "view-in-github",
        "colab_type": "text"
      },
      "source": [
        "<a href=\"https://colab.research.google.com/github/HindJamal97/Algorithm-for-Massive-Data/blob/main/A_priori.ipynb\" target=\"_parent\"><img src=\"https://colab.research.google.com/assets/colab-badge.svg\" alt=\"Open In Colab\"/></a>"
      ]
    },
    {
      "cell_type": "code",
      "execution_count": 1,
      "metadata": {
        "id": "qhCvPpslBB3t"
      },
      "outputs": [],
      "source": [
        "#FIRST PART. \n",
        "#Install kaggle and upload + unzip our dataset. "
      ]
    },
    {
      "cell_type": "code",
      "execution_count": 2,
      "metadata": {
        "id": "IjUq0Dk1i6DU"
      },
      "outputs": [],
      "source": [
        "!pip install -q kaggle"
      ]
    },
    {
      "cell_type": "code",
      "execution_count": 3,
      "metadata": {
        "id": "261SxcJf62G9"
      },
      "outputs": [],
      "source": [
        "#After installing kaggle, we need to upload the kaggle.json file with the API token given from out Kaggle account. "
      ]
    },
    {
      "cell_type": "code",
      "execution_count": 4,
      "metadata": {
        "colab": {
          "base_uri": "https://localhost:8080/",
          "height": 90
        },
        "id": "3oQVwzsy6WCG",
        "outputId": "fe59377e-11ee-43c4-e887-4833c2403d4b"
      },
      "outputs": [
        {
          "output_type": "display_data",
          "data": {
            "text/plain": [
              "<IPython.core.display.HTML object>"
            ],
            "text/html": [
              "\n",
              "     <input type=\"file\" id=\"files-2c595525-e3ef-4b36-a3e5-f5f207e9e770\" name=\"files[]\" multiple disabled\n",
              "        style=\"border:none\" />\n",
              "     <output id=\"result-2c595525-e3ef-4b36-a3e5-f5f207e9e770\">\n",
              "      Upload widget is only available when the cell has been executed in the\n",
              "      current browser session. Please rerun this cell to enable.\n",
              "      </output>\n",
              "      <script>// Copyright 2017 Google LLC\n",
              "//\n",
              "// Licensed under the Apache License, Version 2.0 (the \"License\");\n",
              "// you may not use this file except in compliance with the License.\n",
              "// You may obtain a copy of the License at\n",
              "//\n",
              "//      http://www.apache.org/licenses/LICENSE-2.0\n",
              "//\n",
              "// Unless required by applicable law or agreed to in writing, software\n",
              "// distributed under the License is distributed on an \"AS IS\" BASIS,\n",
              "// WITHOUT WARRANTIES OR CONDITIONS OF ANY KIND, either express or implied.\n",
              "// See the License for the specific language governing permissions and\n",
              "// limitations under the License.\n",
              "\n",
              "/**\n",
              " * @fileoverview Helpers for google.colab Python module.\n",
              " */\n",
              "(function(scope) {\n",
              "function span(text, styleAttributes = {}) {\n",
              "  const element = document.createElement('span');\n",
              "  element.textContent = text;\n",
              "  for (const key of Object.keys(styleAttributes)) {\n",
              "    element.style[key] = styleAttributes[key];\n",
              "  }\n",
              "  return element;\n",
              "}\n",
              "\n",
              "// Max number of bytes which will be uploaded at a time.\n",
              "const MAX_PAYLOAD_SIZE = 100 * 1024;\n",
              "\n",
              "function _uploadFiles(inputId, outputId) {\n",
              "  const steps = uploadFilesStep(inputId, outputId);\n",
              "  const outputElement = document.getElementById(outputId);\n",
              "  // Cache steps on the outputElement to make it available for the next call\n",
              "  // to uploadFilesContinue from Python.\n",
              "  outputElement.steps = steps;\n",
              "\n",
              "  return _uploadFilesContinue(outputId);\n",
              "}\n",
              "\n",
              "// This is roughly an async generator (not supported in the browser yet),\n",
              "// where there are multiple asynchronous steps and the Python side is going\n",
              "// to poll for completion of each step.\n",
              "// This uses a Promise to block the python side on completion of each step,\n",
              "// then passes the result of the previous step as the input to the next step.\n",
              "function _uploadFilesContinue(outputId) {\n",
              "  const outputElement = document.getElementById(outputId);\n",
              "  const steps = outputElement.steps;\n",
              "\n",
              "  const next = steps.next(outputElement.lastPromiseValue);\n",
              "  return Promise.resolve(next.value.promise).then((value) => {\n",
              "    // Cache the last promise value to make it available to the next\n",
              "    // step of the generator.\n",
              "    outputElement.lastPromiseValue = value;\n",
              "    return next.value.response;\n",
              "  });\n",
              "}\n",
              "\n",
              "/**\n",
              " * Generator function which is called between each async step of the upload\n",
              " * process.\n",
              " * @param {string} inputId Element ID of the input file picker element.\n",
              " * @param {string} outputId Element ID of the output display.\n",
              " * @return {!Iterable<!Object>} Iterable of next steps.\n",
              " */\n",
              "function* uploadFilesStep(inputId, outputId) {\n",
              "  const inputElement = document.getElementById(inputId);\n",
              "  inputElement.disabled = false;\n",
              "\n",
              "  const outputElement = document.getElementById(outputId);\n",
              "  outputElement.innerHTML = '';\n",
              "\n",
              "  const pickedPromise = new Promise((resolve) => {\n",
              "    inputElement.addEventListener('change', (e) => {\n",
              "      resolve(e.target.files);\n",
              "    });\n",
              "  });\n",
              "\n",
              "  const cancel = document.createElement('button');\n",
              "  inputElement.parentElement.appendChild(cancel);\n",
              "  cancel.textContent = 'Cancel upload';\n",
              "  const cancelPromise = new Promise((resolve) => {\n",
              "    cancel.onclick = () => {\n",
              "      resolve(null);\n",
              "    };\n",
              "  });\n",
              "\n",
              "  // Wait for the user to pick the files.\n",
              "  const files = yield {\n",
              "    promise: Promise.race([pickedPromise, cancelPromise]),\n",
              "    response: {\n",
              "      action: 'starting',\n",
              "    }\n",
              "  };\n",
              "\n",
              "  cancel.remove();\n",
              "\n",
              "  // Disable the input element since further picks are not allowed.\n",
              "  inputElement.disabled = true;\n",
              "\n",
              "  if (!files) {\n",
              "    return {\n",
              "      response: {\n",
              "        action: 'complete',\n",
              "      }\n",
              "    };\n",
              "  }\n",
              "\n",
              "  for (const file of files) {\n",
              "    const li = document.createElement('li');\n",
              "    li.append(span(file.name, {fontWeight: 'bold'}));\n",
              "    li.append(span(\n",
              "        `(${file.type || 'n/a'}) - ${file.size} bytes, ` +\n",
              "        `last modified: ${\n",
              "            file.lastModifiedDate ? file.lastModifiedDate.toLocaleDateString() :\n",
              "                                    'n/a'} - `));\n",
              "    const percent = span('0% done');\n",
              "    li.appendChild(percent);\n",
              "\n",
              "    outputElement.appendChild(li);\n",
              "\n",
              "    const fileDataPromise = new Promise((resolve) => {\n",
              "      const reader = new FileReader();\n",
              "      reader.onload = (e) => {\n",
              "        resolve(e.target.result);\n",
              "      };\n",
              "      reader.readAsArrayBuffer(file);\n",
              "    });\n",
              "    // Wait for the data to be ready.\n",
              "    let fileData = yield {\n",
              "      promise: fileDataPromise,\n",
              "      response: {\n",
              "        action: 'continue',\n",
              "      }\n",
              "    };\n",
              "\n",
              "    // Use a chunked sending to avoid message size limits. See b/62115660.\n",
              "    let position = 0;\n",
              "    do {\n",
              "      const length = Math.min(fileData.byteLength - position, MAX_PAYLOAD_SIZE);\n",
              "      const chunk = new Uint8Array(fileData, position, length);\n",
              "      position += length;\n",
              "\n",
              "      const base64 = btoa(String.fromCharCode.apply(null, chunk));\n",
              "      yield {\n",
              "        response: {\n",
              "          action: 'append',\n",
              "          file: file.name,\n",
              "          data: base64,\n",
              "        },\n",
              "      };\n",
              "\n",
              "      let percentDone = fileData.byteLength === 0 ?\n",
              "          100 :\n",
              "          Math.round((position / fileData.byteLength) * 100);\n",
              "      percent.textContent = `${percentDone}% done`;\n",
              "\n",
              "    } while (position < fileData.byteLength);\n",
              "  }\n",
              "\n",
              "  // All done.\n",
              "  yield {\n",
              "    response: {\n",
              "      action: 'complete',\n",
              "    }\n",
              "  };\n",
              "}\n",
              "\n",
              "scope.google = scope.google || {};\n",
              "scope.google.colab = scope.google.colab || {};\n",
              "scope.google.colab._files = {\n",
              "  _uploadFiles,\n",
              "  _uploadFilesContinue,\n",
              "};\n",
              "})(self);\n",
              "</script> "
            ]
          },
          "metadata": {}
        },
        {
          "output_type": "stream",
          "name": "stdout",
          "text": [
            "Saving kaggle.json to kaggle.json\n"
          ]
        },
        {
          "output_type": "execute_result",
          "data": {
            "text/plain": [
              "{'kaggle.json': b'{\"username\":\"hindjamal\",\"key\":\"5b2794cdd1f8c072feba270d5a765fa6\"}'}"
            ]
          },
          "metadata": {},
          "execution_count": 4
        }
      ],
      "source": [
        "from google.colab import files\n",
        "files.upload() "
      ]
    },
    {
      "cell_type": "code",
      "execution_count": 5,
      "metadata": {
        "id": "oiM8ez2L6vRF"
      },
      "outputs": [],
      "source": [
        "#Now we need to create a Kaggle folder, copy the kaggle.json to the folder created and finally we need to grant an approppriate permission for the json file to act. "
      ]
    },
    {
      "cell_type": "code",
      "execution_count": 6,
      "metadata": {
        "id": "FJrv8LBk6WIE"
      },
      "outputs": [],
      "source": [
        "! mkdir ~/.kaggle\n",
        "! cp kaggle.json ~/.kaggle/\n",
        "! chmod 600 ~/.kaggle/kaggle.json"
      ]
    },
    {
      "cell_type": "code",
      "execution_count": 7,
      "metadata": {
        "id": "tyXnl3xN7XLM"
      },
      "outputs": [],
      "source": [
        "#To list all the available datasets we have in Kaggle we use the following command"
      ]
    },
    {
      "cell_type": "code",
      "execution_count": 8,
      "metadata": {
        "colab": {
          "base_uri": "https://localhost:8080/"
        },
        "id": "xqsw0Yh46WLH",
        "outputId": "c63cdafb-cdc9-4ad2-e1c1-4bd4c9a47e24"
      },
      "outputs": [
        {
          "output_type": "stream",
          "name": "stdout",
          "text": [
            "ref                                                                   title                                                size  lastUpdated          downloadCount  voteCount  usabilityRating  \n",
            "--------------------------------------------------------------------  --------------------------------------------------  -----  -------------------  -------------  ---------  ---------------  \n",
            "arnabchaki/data-science-salaries-2023                                 Data Science Salaries 2023 💸                         25KB  2023-04-13 09:55:16          30048        828  1.0              \n",
            "tawfikelmetwally/automobile-dataset                                   Car information dataset                               6KB  2023-05-28 18:26:48           2988         83  0.9411765        \n",
            "fatihb/coffee-quality-data-cqi                                        Coffee Quality Data (CQI May-2023)                   22KB  2023-05-12 13:06:39           5320        110  1.0              \n",
            "mohithsairamreddy/salary-data                                         Salary_Data                                          17KB  2023-05-18 14:05:19           5172        102  0.88235295       \n",
            "mauryansshivam/netflix-ott-revenue-and-subscribers-csv-file           Netflix OTT Revenue and Subscribers (CSV File)        2KB  2023-05-13 17:40:23           2631         61  1.0              \n",
            "omarsobhy14/mcdonalds-revenue                                         🍟💰From Flipping Burgers to Billions: McDonald's      565B  2023-06-01 23:22:49            633         30  1.0              \n",
            "drahulsingh/list-of-best-selling-ps4-games                            List of best-selling PlayStation 4 video games        2KB  2023-06-11 17:36:59            518         22  1.0              \n",
            "zsinghrahulk/rice-pest-and-diseases                                   Rice - Pest and Diseases                            312KB  2023-06-01 08:57:29            603         28  1.0              \n",
            "iammustafatz/diabetes-prediction-dataset                              Diabetes prediction dataset                         734KB  2023-04-08 06:11:45          15713        231  1.0              \n",
            "vstacknocopyright/fruit-and-vegetable-prices                          Fruit and Vegetable Prices                            1KB  2023-06-02 06:17:43           1016         32  0.7647059        \n",
            "bilalwaseer/microsoft-stocks-from-1986-to-2023                        Microsoft Stocks from 1986 to 2023                  120KB  2023-05-16 10:07:28            994         30  1.0              \n",
            "darshanprabhu09/stock-prices-for                                      Stock prices of Amazon , Microsoft , Google, Apple   85KB  2023-05-16 15:17:16           2082         46  1.0              \n",
            "rajkumarpandey02/2023-world-population-by-country                      World Population by Country                         38KB  2023-06-01 06:10:41           1852         36  1.0              \n",
            "danishjmeo/karachi-housing-prices-2023                                Karachi_Housing_Prices_2023                           1MB  2023-06-01 07:08:13            522         28  0.9411765        \n",
            "adityaramachandran27/world-air-quality-index-by-city-and-coordinates  World Air Quality Index by City and Coordinates     372KB  2023-05-07 07:29:26           2041         44  1.0              \n",
            "dansbecker/melbourne-housing-snapshot                                 Melbourne Housing Snapshot                          451KB  2018-06-05 12:52:24         117765       1281  0.7058824        \n",
            "pushpakhinglaspure/oscar-dataset                                      Oscar Academy Award-winning films 1927-2022         161KB  2023-05-21 18:14:44            878         32  1.0              \n",
            "aryansingh0909/weekly-patent-application-granted                      Patent Application Granted Dataset                    6MB  2023-06-01 19:04:40            377         25  1.0              \n",
            "krishnaraj30/salary-prediction-data-simple-linear-regression          Salary Prediction Data - Simple linear regression    734B  2023-06-05 01:05:41            471         23  1.0              \n",
            "utkarshx27/heart-disease-diagnosis-dataset                            Heart Disease Prediction Dataset                      3KB  2023-05-26 09:33:13           1375         36  1.0              \n"
          ]
        }
      ],
      "source": [
        "! kaggle datasets list"
      ]
    },
    {
      "cell_type": "code",
      "execution_count": 9,
      "metadata": {
        "id": "c5sC8pnY6WNB"
      },
      "outputs": [],
      "source": [
        "#Finally, for our aim, we need to upload our dataset, and given that the url is the following one, we can download it as follows: "
      ]
    },
    {
      "cell_type": "code",
      "execution_count": 10,
      "metadata": {
        "colab": {
          "base_uri": "https://localhost:8080/"
        },
        "id": "K2fjw_15i6Ff",
        "outputId": "7f236adc-e895-455b-c3f5-3aa2fab2d741"
      },
      "outputs": [
        {
          "output_type": "stream",
          "name": "stdout",
          "text": [
            "Downloading medal-emnlp.zip to /content\n",
            "100% 6.82G/6.82G [00:58<00:00, 140MB/s]\n",
            "100% 6.82G/6.82G [00:58<00:00, 125MB/s]\n"
          ]
        }
      ],
      "source": [
        "!kaggle datasets download -d  xhlulu/medal-emnlp"
      ]
    },
    {
      "cell_type": "code",
      "execution_count": 11,
      "metadata": {
        "id": "iKyr1rrSlY1S"
      },
      "outputs": [],
      "source": [
        "from zipfile import ZipFile\n"
      ]
    },
    {
      "cell_type": "code",
      "execution_count": 12,
      "metadata": {
        "colab": {
          "base_uri": "https://localhost:8080/"
        },
        "id": "UBDLW-u_lY50",
        "outputId": "228a09f7-c78f-4195-cc7f-794634a26dff"
      },
      "outputs": [
        {
          "output_type": "stream",
          "name": "stdout",
          "text": [
            "Done\n"
          ]
        }
      ],
      "source": [
        "file_name = \"medal-emnlp.zip\"\n",
        "\n",
        "with ZipFile(file_name, \"r\") as zip:\n",
        "  zip.extractall()\n",
        "  print(\"Done\")"
      ]
    },
    {
      "cell_type": "code",
      "execution_count": 13,
      "metadata": {
        "id": "477Y6R6EBAiF"
      },
      "outputs": [],
      "source": [
        "#SECOND PART. \n",
        "#Install Spark and construct a software that can be used to find frequent itemset (RDD). "
      ]
    },
    {
      "cell_type": "code",
      "execution_count": 14,
      "metadata": {
        "id": "PAj5s_2FmjbV"
      },
      "outputs": [],
      "source": [
        "# install Java8\n",
        "!apt-get install openjdk-8-jdk-headless -qq > /dev/null\n",
        "# download spark3.3.2\n",
        "!wget -q https://dlcdn.apache.org/spark/spark-3.3.2/spark-3.3.2-bin-hadoop3.tgz\n",
        "# unzip it\n",
        "!tar xf spark-3.3.2-bin-hadoop3.tgz"
      ]
    },
    {
      "cell_type": "code",
      "execution_count": 15,
      "metadata": {
        "colab": {
          "base_uri": "https://localhost:8080/"
        },
        "id": "6f0ABGkliJX1",
        "outputId": "9705f56b-b709-4223-aff1-acd3e7082ad5"
      },
      "outputs": [
        {
          "output_type": "stream",
          "name": "stdout",
          "text": [
            "openjdk version \"11.0.19\" 2023-04-18\n",
            "OpenJDK Runtime Environment (build 11.0.19+7-post-Ubuntu-0ubuntu120.04.1)\n",
            "OpenJDK 64-Bit Server VM (build 11.0.19+7-post-Ubuntu-0ubuntu120.04.1, mixed mode, sharing)\n"
          ]
        }
      ],
      "source": [
        "!java -version"
      ]
    },
    {
      "cell_type": "code",
      "execution_count": 16,
      "metadata": {
        "id": "Moj4v3oMpZg1"
      },
      "outputs": [],
      "source": [
        "import os\n",
        "os.environ[\"JAVA_HOME\"] = \"/usr/lib/jvm/java-8-openjdk-amd64\"\n",
        "os.environ[\"SPARK_HOME\"] = '/content/spark-3.3.2-bin-hadoop3'"
      ]
    },
    {
      "cell_type": "code",
      "execution_count": 17,
      "metadata": {
        "colab": {
          "base_uri": "https://localhost:8080/",
          "height": 36
        },
        "id": "xVkAg776rzW1",
        "outputId": "8bce5ad2-5fbf-40bc-8e9e-38d6b2b0fc62"
      },
      "outputs": [
        {
          "output_type": "execute_result",
          "data": {
            "text/plain": [
              "'/content/spark-3.3.2-bin-hadoop3'"
            ],
            "application/vnd.google.colaboratory.intrinsic+json": {
              "type": "string"
            }
          },
          "metadata": {},
          "execution_count": 17
        }
      ],
      "source": [
        "# Install library for finding Spark\n",
        "!pip install -q findspark\n",
        "# Import the libary\n",
        "import findspark\n",
        "# Initiate findspark\n",
        "findspark.init()\n",
        "# Check the location for Spark\n",
        "findspark.find()"
      ]
    },
    {
      "cell_type": "code",
      "execution_count": 18,
      "metadata": {
        "colab": {
          "base_uri": "https://localhost:8080/"
        },
        "id": "amS9yZD8BNmp",
        "outputId": "4b86a07e-8deb-4aff-c939-3269b3119056"
      },
      "outputs": [
        {
          "output_type": "stream",
          "name": "stdout",
          "text": [
            "Looking in indexes: https://pypi.org/simple, https://us-python.pkg.dev/colab-wheels/public/simple/\n",
            "Collecting pyspark\n",
            "  Downloading pyspark-3.4.0.tar.gz (310.8 MB)\n",
            "\u001b[2K     \u001b[90m━━━━━━━━━━━━━━━━━━━━━━━━━━━━━━━━━━━━━━━\u001b[0m \u001b[32m310.8/310.8 MB\u001b[0m \u001b[31m4.0 MB/s\u001b[0m eta \u001b[36m0:00:00\u001b[0m\n",
            "\u001b[?25h  Preparing metadata (setup.py) ... \u001b[?25l\u001b[?25hdone\n",
            "Requirement already satisfied: py4j==0.10.9.7 in /usr/local/lib/python3.10/dist-packages (from pyspark) (0.10.9.7)\n",
            "Building wheels for collected packages: pyspark\n",
            "  Building wheel for pyspark (setup.py) ... \u001b[?25l\u001b[?25hdone\n",
            "  Created wheel for pyspark: filename=pyspark-3.4.0-py2.py3-none-any.whl size=311317130 sha256=4219f66206b64f49abdf06d609faad7f2b6477eec7915281c39766f4a2c80865\n",
            "  Stored in directory: /root/.cache/pip/wheels/7b/1b/4b/3363a1d04368e7ff0d408e57ff57966fcdf00583774e761327\n",
            "Successfully built pyspark\n",
            "Installing collected packages: pyspark\n",
            "Successfully installed pyspark-3.4.0\n"
          ]
        }
      ],
      "source": [
        "!pip install pyspark\n",
        "import pyspark"
      ]
    },
    {
      "cell_type": "code",
      "execution_count": 19,
      "metadata": {
        "id": "Yx_OxkQ8euBX"
      },
      "outputs": [],
      "source": [
        "from pyspark import SparkConf, SparkContext\n",
        "from pyspark.sql import SparkSession\n",
        "from pyspark.sql import SQLContext   "
      ]
    },
    {
      "cell_type": "code",
      "source": [
        "spark = SparkSession.builder.enableHiveSupport().getOrCreate()"
      ],
      "metadata": {
        "id": "xJ_zkLZmcB18"
      },
      "execution_count": 20,
      "outputs": []
    },
    {
      "cell_type": "code",
      "execution_count": 21,
      "metadata": {
        "id": "VhG9RBnWgjz6"
      },
      "outputs": [],
      "source": [
        "spark.conf.set(\"spark.sql.execution.arrow.pyspark.enabled\", \"true\")"
      ]
    },
    {
      "cell_type": "code",
      "execution_count": 22,
      "metadata": {
        "id": "SFPIwGcGgn_g"
      },
      "outputs": [],
      "source": [
        "sc = spark.sparkContext"
      ]
    },
    {
      "cell_type": "code",
      "execution_count": 23,
      "metadata": {
        "id": "YDsfNrBW9O5a"
      },
      "outputs": [],
      "source": [
        "#Upload the file"
      ]
    },
    {
      "cell_type": "code",
      "execution_count": 24,
      "metadata": {
        "id": "UKpFllIRJxpF"
      },
      "outputs": [],
      "source": [
        "dataset_path = '/content/full_data.csv'"
      ]
    },
    {
      "cell_type": "code",
      "execution_count": 25,
      "metadata": {
        "colab": {
          "base_uri": "https://localhost:8080/"
        },
        "id": "BF3_ns87FK2F",
        "outputId": "958c9d6c-8772-40b0-ae5e-720296808fa7"
      },
      "outputs": [
        {
          "output_type": "stream",
          "name": "stdout",
          "text": [
            "root\n",
            " |-- TEXT: string (nullable = true)\n",
            " |-- LOCATION: string (nullable = true)\n",
            " |-- LABEL: string (nullable = true)\n",
            "\n"
          ]
        }
      ],
      "source": [
        "df  = spark.read.format('csv') \\\n",
        "                .option('header', True) \\\n",
        "                .option('multiline', True) \\\n",
        "                .option('quote', '\"') \\\n",
        "                .option('escape', '\"') \\\n",
        "                .load(dataset_path)\n",
        "df.printSchema()"
      ]
    },
    {
      "cell_type": "code",
      "execution_count": 26,
      "metadata": {
        "colab": {
          "base_uri": "https://localhost:8080/"
        },
        "id": "rbgDy3a1e7gd",
        "outputId": "39104046-0746-4eab-ea7f-bce985fee336"
      },
      "outputs": [
        {
          "output_type": "stream",
          "name": "stdout",
          "text": [
            "+--------------------+--------------------+--------------------+\n",
            "|                TEXT|            LOCATION|               LABEL|\n",
            "+--------------------+--------------------+--------------------+\n",
            "|alphabisabolol ha...|                  56|           substrate|\n",
            "|a report is given...|24|49|68|113|137|172|carcinosarcoma|re...|\n",
            "|the virostatic co...|                  55|           substrate|\n",
            "|rmi rmi and rmi a...|   25|82|127|182|222|compounds|compoun...|\n",
            "|a doubleblind stu...|22|26|28|77|90|14...|oxazepam|placebo|...|\n",
            "|stroma from eithe...|         6|82|84|107|red cells|serum|a...|\n",
            "|the effect of the...|                4|13|major|pentose pho...|\n",
            "|in one experiment...|        32|44|76|135|feeding|feeding|a...|\n",
            "|the presence of a...|7|15|63|137|199|2...|active|study|acti...|\n",
            "|the reaction of g...|     113|203|209|250|stable|assay|bind...|\n",
            "|choline acetyltra...|                  44|             caudate|\n",
            "|increasing concen...|                  81|        displacement|\n",
            "|the properties of...|         5|35|98|257|groups|functional...|\n",
            "|primary amines re...|          95|164|183|arginine|arginine...|\n",
            "|a purification pr...|     9|42|70|100|206|dihydrofolate|spe...|\n",
            "|dihydrofolate red...|71|106|118|130|15...|gel filtration|el...|\n",
            "|ionization effect...|               8|129|transition state|...|\n",
            "|kinetic analyses ...|100|155|161|254|2...|effective|inhibit...|\n",
            "|the nearultraviol...|                 166|        heterologous|\n",
            "|the circular pola...|                 248|polysaccharide an...|\n",
            "+--------------------+--------------------+--------------------+\n",
            "only showing top 20 rows\n",
            "\n"
          ]
        }
      ],
      "source": [
        "df.show()"
      ]
    },
    {
      "cell_type": "code",
      "source": [
        "from pyspark.sql.functions import desc"
      ],
      "metadata": {
        "id": "8dijFlF4GLVN"
      },
      "execution_count": 27,
      "outputs": []
    },
    {
      "cell_type": "code",
      "source": [
        "df.groupBy(\"LABEL\").count().orderBy(desc(\"count\")).show(10)"
      ],
      "metadata": {
        "colab": {
          "base_uri": "https://localhost:8080/"
        },
        "id": "NJwYzbMvF9y9",
        "outputId": "6ff48fa1-c8e2-468c-d9a1-d7bdbb0bc9b6"
      },
      "execution_count": 28,
      "outputs": [
        {
          "output_type": "stream",
          "name": "stdout",
          "text": [
            "+-----------+------+\n",
            "|      LABEL| count|\n",
            "+-----------+------+\n",
            "|      study|294977|\n",
            "|      after|114472|\n",
            "|    factors| 71336|\n",
            "|development| 66812|\n",
            "|     cancer| 61340|\n",
            "|      model| 58257|\n",
            "|     levels| 50882|\n",
            "|   function| 50024|\n",
            "|   specific| 44586|\n",
            "|   approach| 43411|\n",
            "+-----------+------+\n",
            "only showing top 10 rows\n",
            "\n"
          ]
        }
      ]
    },
    {
      "cell_type": "code",
      "source": [
        "Study_Label = df.filter( (df.LABEL == \"study\"))"
      ],
      "metadata": {
        "id": "2NrLkWXnGNG5"
      },
      "execution_count": 29,
      "outputs": []
    },
    {
      "cell_type": "code",
      "source": [
        "Study_Label.show(10)"
      ],
      "metadata": {
        "colab": {
          "base_uri": "https://localhost:8080/"
        },
        "id": "6PVnOW37GNJH",
        "outputId": "baa12401-5a2c-45f3-ffe3-3781064f7512"
      },
      "execution_count": 30,
      "outputs": [
        {
          "output_type": "stream",
          "name": "stdout",
          "text": [
            "+--------------------+--------+-----+\n",
            "|                TEXT|LOCATION|LABEL|\n",
            "+--------------------+--------+-----+\n",
            "|the behaviour of ...|      52|study|\n",
            "|fast reaction tec...|       6|study|\n",
            "|the role of the d...|      75|study|\n",
            "|this study uses a...|      37|study|\n",
            "|a statistical T0 ...|       2|study|\n",
            "|the increasing us...|      78|study|\n",
            "|observation of th...|      33|study|\n",
            "|this T0 investiga...|       1|study|\n",
            "|in a T0 of alcoho...|       2|study|\n",
            "|the authors repor...|      31|study|\n",
            "+--------------------+--------+-----+\n",
            "only showing top 10 rows\n",
            "\n"
          ]
        }
      ]
    },
    {
      "cell_type": "code",
      "source": [
        "Study_Label.groupBy(\"TEXT\").count().orderBy(desc(\"count\")).show(10)"
      ],
      "metadata": {
        "colab": {
          "base_uri": "https://localhost:8080/"
        },
        "id": "6VBqp9KjGNLx",
        "outputId": "1e5bc562-566e-4868-beac-9a833eb2b03d"
      },
      "execution_count": 31,
      "outputs": [
        {
          "output_type": "stream",
          "name": "stdout",
          "text": [
            "+--------------------+-----+\n",
            "|                TEXT|count|\n",
            "+--------------------+-----+\n",
            "|    retrospective T0|   82|\n",
            "|  a retrospective T0|   77|\n",
            "|retrospective coh...|   56|\n",
            "|   crosssectional T0|   50|\n",
            "|prospective cohor...|   44|\n",
            "|      prospective T0|   21|\n",
            "|a retrospective c...|   15|\n",
            "|retrospective cli...|   15|\n",
            "|    a prospective T0|   14|\n",
            "|      casecontrol T0|   13|\n",
            "+--------------------+-----+\n",
            "only showing top 10 rows\n",
            "\n"
          ]
        }
      ]
    },
    {
      "cell_type": "code",
      "execution_count": 32,
      "metadata": {
        "id": "QA1iG9rcL4KL"
      },
      "outputs": [],
      "source": [
        "DF = Study_Label.select('TEXT')"
      ]
    },
    {
      "cell_type": "code",
      "execution_count": 33,
      "metadata": {
        "colab": {
          "base_uri": "https://localhost:8080/"
        },
        "id": "tryO38iqMfOy",
        "outputId": "4d32a450-55c9-4d6b-cbc0-984ca3bf3ca5"
      },
      "outputs": [
        {
          "output_type": "stream",
          "name": "stdout",
          "text": [
            "+--------------------+\n",
            "|                TEXT|\n",
            "+--------------------+\n",
            "|the behaviour of ...|\n",
            "|fast reaction tec...|\n",
            "|the role of the d...|\n",
            "|this study uses a...|\n",
            "|a statistical T0 ...|\n",
            "|the increasing us...|\n",
            "|observation of th...|\n",
            "|this T0 investiga...|\n",
            "|in a T0 of alcoho...|\n",
            "|the authors repor...|\n",
            "|the plantar cushi...|\n",
            "|in solomon island...|\n",
            "|during the wet se...|\n",
            "|su is a unique ne...|\n",
            "|data are presente...|\n",
            "|the reconstituted...|\n",
            "|the cd T0 of the ...|\n",
            "|the vitamin kdepe...|\n",
            "|two new methods a...|\n",
            "|in this introduct...|\n",
            "+--------------------+\n",
            "only showing top 20 rows\n",
            "\n"
          ]
        }
      ],
      "source": [
        "DF.show()"
      ]
    },
    {
      "cell_type": "code",
      "execution_count": 34,
      "metadata": {
        "id": "KR5nNWdJWS0T"
      },
      "outputs": [],
      "source": [
        "#Pre-processing of the data that we have!!"
      ]
    },
    {
      "cell_type": "code",
      "execution_count": 35,
      "metadata": {
        "colab": {
          "base_uri": "https://localhost:8080/"
        },
        "id": "YAH5q9BkWKHS",
        "outputId": "1dd51f14-903b-49d4-ce77-58ce45633fef"
      },
      "outputs": [
        {
          "output_type": "stream",
          "name": "stdout",
          "text": [
            "Looking in indexes: https://pypi.org/simple, https://us-python.pkg.dev/colab-wheels/public/simple/\n",
            "Collecting sparknlp\n",
            "  Downloading sparknlp-1.0.0-py3-none-any.whl (1.4 kB)\n",
            "Collecting spark-nlp (from sparknlp)\n",
            "  Downloading spark_nlp-4.4.4-py2.py3-none-any.whl (489 kB)\n",
            "\u001b[2K     \u001b[90m━━━━━━━━━━━━━━━━━━━━━━━━━━━━━━━━━━━━━━━\u001b[0m \u001b[32m489.8/489.8 kB\u001b[0m \u001b[31m2.2 MB/s\u001b[0m eta \u001b[36m0:00:00\u001b[0m\n",
            "\u001b[?25hRequirement already satisfied: numpy in /usr/local/lib/python3.10/dist-packages (from sparknlp) (1.22.4)\n",
            "Installing collected packages: spark-nlp, sparknlp\n",
            "Successfully installed spark-nlp-4.4.4 sparknlp-1.0.0\n"
          ]
        }
      ],
      "source": [
        "!pip install sparknlp"
      ]
    },
    {
      "cell_type": "code",
      "execution_count": 36,
      "metadata": {
        "id": "bJk4V1UTMfSX"
      },
      "outputs": [],
      "source": [
        "import sparknlp\n",
        "import math\n",
        "from sparknlp.base import *\n",
        "from sparknlp.annotator import *\n",
        "from sparknlp.common import *\n",
        "from sparknlp.pretrained import PretrainedPipeline\n",
        "from pyspark.ml import Pipeline\n",
        "import pyspark.sql.types as T\n",
        "from typing import List"
      ]
    },
    {
      "cell_type": "code",
      "execution_count": 37,
      "metadata": {
        "id": "OQI2PzB59bI3"
      },
      "outputs": [],
      "source": [
        "import pandas as pd\n",
        "import numpy as np\n",
        "import matplotlib.pyplot as plt\n",
        "import itertools\n",
        "import csv\n",
        "import time\n",
        "from tqdm import tqdm"
      ]
    },
    {
      "cell_type": "code",
      "execution_count": 38,
      "metadata": {
        "id": "d2SPGfZ2Ymvk"
      },
      "outputs": [],
      "source": [
        "from pyspark.sql.functions import lower, col, udf"
      ]
    },
    {
      "cell_type": "code",
      "execution_count": 39,
      "metadata": {
        "id": "UUcuPGvyYe5F"
      },
      "outputs": [],
      "source": [
        "DF_lowercase = DF.withColumn(\"processed_text\", lower(col(\"text\")))"
      ]
    },
    {
      "cell_type": "code",
      "execution_count": 40,
      "metadata": {
        "colab": {
          "base_uri": "https://localhost:8080/"
        },
        "id": "n7kGC8PLYoOL",
        "outputId": "8b68d2c2-5437-415b-a875-fdfda53f3f3e"
      },
      "outputs": [
        {
          "output_type": "stream",
          "name": "stdout",
          "text": [
            "+--------------------+--------------------+\n",
            "|                TEXT|      processed_text|\n",
            "+--------------------+--------------------+\n",
            "|the behaviour of ...|the behaviour of ...|\n",
            "|fast reaction tec...|fast reaction tec...|\n",
            "|the role of the d...|the role of the d...|\n",
            "|this study uses a...|this study uses a...|\n",
            "|a statistical T0 ...|a statistical t0 ...|\n",
            "|the increasing us...|the increasing us...|\n",
            "|observation of th...|observation of th...|\n",
            "|this T0 investiga...|this t0 investiga...|\n",
            "|in a T0 of alcoho...|in a t0 of alcoho...|\n",
            "|the authors repor...|the authors repor...|\n",
            "|the plantar cushi...|the plantar cushi...|\n",
            "|in solomon island...|in solomon island...|\n",
            "|during the wet se...|during the wet se...|\n",
            "|su is a unique ne...|su is a unique ne...|\n",
            "|data are presente...|data are presente...|\n",
            "|the reconstituted...|the reconstituted...|\n",
            "|the cd T0 of the ...|the cd t0 of the ...|\n",
            "|the vitamin kdepe...|the vitamin kdepe...|\n",
            "|two new methods a...|two new methods a...|\n",
            "|in this introduct...|in this introduct...|\n",
            "+--------------------+--------------------+\n",
            "only showing top 20 rows\n",
            "\n"
          ]
        }
      ],
      "source": [
        "DF_lowercase.show()"
      ]
    },
    {
      "cell_type": "code",
      "execution_count": 41,
      "metadata": {
        "id": "XmXa5EmOYrXV"
      },
      "outputs": [],
      "source": [
        "from pyspark.sql.functions import regexp_replace, trim, col, lower\n"
      ]
    },
    {
      "cell_type": "code",
      "execution_count": 42,
      "metadata": {
        "id": "Ikhm4PibYrah"
      },
      "outputs": [],
      "source": [
        "def removePunctuation(column):\n",
        "   return lower(trim(regexp_replace(column,'\\p{Punct}',''))).alias('sentence')"
      ]
    },
    {
      "cell_type": "code",
      "execution_count": 43,
      "metadata": {
        "colab": {
          "base_uri": "https://localhost:8080/"
        },
        "id": "yCVCjhXvYrc1",
        "outputId": "2b96becf-4c2e-4247-f140-f10de33e0415"
      },
      "outputs": [
        {
          "output_type": "stream",
          "name": "stdout",
          "text": [
            "+--------------------+\n",
            "|      processed_text|\n",
            "+--------------------+\n",
            "|the behaviour of ...|\n",
            "|fast reaction tec...|\n",
            "|the role of the d...|\n",
            "|this study uses a...|\n",
            "|a statistical t0 ...|\n",
            "+--------------------+\n",
            "only showing top 5 rows\n",
            "\n"
          ]
        }
      ],
      "source": [
        "RemoveP = DF_lowercase.select(removePunctuation(col('processed_text')).alias(\"processed_text\"))\n",
        "RemoveP.show(5)"
      ]
    },
    {
      "cell_type": "code",
      "execution_count": 44,
      "metadata": {
        "id": "2r5FAOu4Yrhy"
      },
      "outputs": [],
      "source": [
        "from pyspark.ml.feature import Tokenizer, StopWordsRemover\n",
        "from pyspark.sql.functions import trim,split,explode,col"
      ]
    },
    {
      "cell_type": "code",
      "execution_count": 45,
      "metadata": {
        "colab": {
          "base_uri": "https://localhost:8080/"
        },
        "id": "lwJyDotnYrj2",
        "outputId": "3a646090-8ff7-4f0b-942f-c24da60f0b89"
      },
      "outputs": [
        {
          "output_type": "stream",
          "name": "stdout",
          "text": [
            "+--------------------+--------------------+\n",
            "|      processed_text|         words_token|\n",
            "+--------------------+--------------------+\n",
            "|the behaviour of ...|[the, behaviour, ...|\n",
            "|fast reaction tec...|[fast, reaction, ...|\n",
            "|the role of the d...|[the, role, of, t...|\n",
            "|this study uses a...|[this, study, use...|\n",
            "|a statistical t0 ...|[a, statistical, ...|\n",
            "|the increasing us...|[the, increasing,...|\n",
            "|observation of th...|[observation, of,...|\n",
            "|this t0 investiga...|[this, t0, invest...|\n",
            "|in a t0 of alcoho...|[in, a, t0, of, a...|\n",
            "|the authors repor...|[the, authors, re...|\n",
            "|the plantar cushi...|[the, plantar, cu...|\n",
            "|in solomon island...|[in, solomon, isl...|\n",
            "|during the wet se...|[during, the, wet...|\n",
            "|su is a unique ne...|[su, is, a, uniqu...|\n",
            "|data are presente...|[data, are, prese...|\n",
            "|the reconstituted...|[the, reconstitut...|\n",
            "|the cd t0 of the ...|[the, cd, t0, of,...|\n",
            "|the vitamin kdepe...|[the, vitamin, kd...|\n",
            "|two new methods a...|[two, new, method...|\n",
            "|in this introduct...|[in, this, introd...|\n",
            "+--------------------+--------------------+\n",
            "only showing top 20 rows\n",
            "\n"
          ]
        }
      ],
      "source": [
        "tokenizer = Tokenizer(inputCol='processed_text', outputCol='words_token')\n",
        "Data = RemoveP.withColumn(\"processed_text\", trim(col(\"processed_text\")))\n",
        "DATA = tokenizer.transform(Data)\n",
        "DATA.show(20)"
      ]
    },
    {
      "cell_type": "code",
      "execution_count": 46,
      "metadata": {
        "id": "kukw2JXkZ214"
      },
      "outputs": [],
      "source": [
        "from pyspark.ml.feature import StopWordsRemover"
      ]
    },
    {
      "cell_type": "code",
      "execution_count": 47,
      "metadata": {
        "colab": {
          "base_uri": "https://localhost:8080/"
        },
        "id": "iJQcChEWZ24c",
        "outputId": "a6fa1fa4-de6e-4499-92eb-fc2923c07ec7"
      },
      "outputs": [
        {
          "output_type": "stream",
          "name": "stdout",
          "text": [
            "+----------------------------------------------------------------------------------------------------------------------------------------------------------------------------------------------------------------------------------------------------------------------------------------------------------------------------------------------------------------------------------------------------------------------------------------------------------------------------------------------------------------------------------------------------------------------------------------------------------------------------------------------------------------------------------------------------------------------------------------------------------------------------------------------------------------------------------------------------------------------------------------------------------------------------------------------------------------------------------------------------------------------------------------------+-----------------------------------------------------------------------------------------------------------------------------------------------------------------------------------------------------------------------------------------------------------------------------------------------------------------------------------------------------------------------------------------------------------------------------------------------------------------------------------------------------------------------------------------------------------------------------------------------------------------------------------------------------------------------------------------------------------------------------------------------------------------------------------------------------------------------------------------------------------------------------+\n",
            "|processed_text                                                                                                                                                                                                                                                                                                                                                                                                                                                                                                                                                                                                                                                                                                                                                                                                                                                                                                                                                                                                                                |words_clean                                                                                                                                                                                                                                                                                                                                                                                                                                                                                                                                                                                                                                                                                                                                                                                                                                                                  |\n",
            "+----------------------------------------------------------------------------------------------------------------------------------------------------------------------------------------------------------------------------------------------------------------------------------------------------------------------------------------------------------------------------------------------------------------------------------------------------------------------------------------------------------------------------------------------------------------------------------------------------------------------------------------------------------------------------------------------------------------------------------------------------------------------------------------------------------------------------------------------------------------------------------------------------------------------------------------------------------------------------------------------------------------------------------------------+-----------------------------------------------------------------------------------------------------------------------------------------------------------------------------------------------------------------------------------------------------------------------------------------------------------------------------------------------------------------------------------------------------------------------------------------------------------------------------------------------------------------------------------------------------------------------------------------------------------------------------------------------------------------------------------------------------------------------------------------------------------------------------------------------------------------------------------------------------------------------------+\n",
            "|the behaviour of several carbonyl group reagents and urea as timedependent inhibitors of both pig kidney and human placental diamine oxidase is described plots of log vtvo against time were not linear with these reagents as the usual theories predict this was particularly the case with aminoguanidine and phenylhydrazine and a thorough t0 of the effects of these compounds on the human placental diamine oxidase is described by applying a new theory for timedependent inhibition the inhibition of diamine oxidase by aminoguanidine and phenylhydrazine is adequately accounted for the timedependent recovery of activity on addition of sodium pyruvate suggested that the compounds used are acting solely as carbonyl group reagents inhibiting by schiffbase formation at the activesite carbonyl group                                                                                                                                                                                                                  |[behaviour, several, carbonyl, group, reagents, urea, timedependent, inhibitors, pig, kidney, human, placental, diamine, oxidase, described, plots, log, vtvo, time, linear, reagents, usual, theories, predict, particularly, case, aminoguanidine, phenylhydrazine, thorough, t0, effects, compounds, human, placental, diamine, oxidase, described, applying, new, theory, timedependent, inhibition, inhibition, diamine, oxidase, aminoguanidine, phenylhydrazine, adequately, accounted, timedependent, recovery, activity, addition, sodium, pyruvate, suggested, compounds, used, acting, solely, carbonyl, group, reagents, inhibiting, schiffbase, formation, activesite, carbonyl, group]                                                                                                                                                                         |\n",
            "|fast reaction techniques were used to t0 the kinetics of protein fluorescence intensity changes that are associated with the reactions of unadenylylated escherichia coli glutamine synthetase lglutamate ammonia ligase adpforming ec with its substrates it was established that the synthesis of glutamine occurs by a stepwise mechanism during the catalytic process two fluorometrically distinct intermediates were observed both forward and reverse rate constants which lead to the formation and consumption of these intermediates were evaluated the catalytic rate constant kc which was calculated from these rate constants agrees well with the values of kc which were determined by direct measurement of the overall biosynthetic activities by means of stoppedflow technique or the steadystate assay method                                                                                                                                                                                                            |[fast, reaction, techniques, used, t0, kinetics, protein, fluorescence, intensity, changes, associated, reactions, unadenylylated, escherichia, coli, glutamine, synthetase, lglutamate, ammonia, ligase, adpforming, ec, substrates, established, synthesis, glutamine, occurs, stepwise, mechanism, catalytic, process, two, fluorometrically, distinct, intermediates, observed, forward, reverse, rate, constants, lead, formation, consumption, intermediates, evaluated, catalytic, rate, constant, kc, calculated, rate, constants, agrees, well, values, kc, determined, direct, measurement, overall, biosynthetic, activities, means, stoppedflow, technique, steadystate, assay, method]                                                                                                                                                                          |\n",
            "|the role of the different cytochromes p in the metabolism of the anaesthetic agent fluroxene and the mechanism of production of toxic effects seen after pretreatment of the animals with pehnobarbital prior to anaesthesia have been investigated male rats were anaesthetized with fluroxene or with trifluroethyl ethyl ether or with ethyl vinyl ether in an attempt to ascertain the in vivo toxic effects of the three anaesthetic agents the resultant hepatic histology is reported a t0 of the binding and metabolism of fluroxene by isolated rat hepatic microsomes was also made we conclude that it is elevated levels of cytochrome p which potentiate the toxicity of fluroxene anaesthesia in phenobarbital treated animals and that cytochrome p does not bind or metabolize fluroxene the potential toxicity of the fluroxene molecule is considered to reside in the trifluoroethyl moiety while the vinyl group of fluroxene appears to play a role in the observed liver damage                                         |[role, different, cytochromes, p, metabolism, anaesthetic, agent, fluroxene, mechanism, production, toxic, effects, seen, pretreatment, animals, pehnobarbital, prior, anaesthesia, investigated, male, rats, anaesthetized, fluroxene, trifluroethyl, ethyl, ether, ethyl, vinyl, ether, attempt, ascertain, vivo, toxic, effects, three, anaesthetic, agents, resultant, hepatic, histology, reported, t0, binding, metabolism, fluroxene, isolated, rat, hepatic, microsomes, also, made, conclude, elevated, levels, cytochrome, p, potentiate, toxicity, fluroxene, anaesthesia, phenobarbital, treated, animals, cytochrome, p, bind, metabolize, fluroxene, potential, toxicity, fluroxene, molecule, considered, reside, trifluoroethyl, moiety, vinyl, group, fluroxene, appears, play, role, observed, liver, damage]                                              |\n",
            "|this study uses a task delegation questionnaire to compare physician extender practices in seven primary careoriented sites with a physician attitude survey made in one additional site using no physician extenders was included as a control the t0 involves both major types of physician extenders physician assistants and nurse practitioners in ambulatory practices with at least one year of experience in using such personnel with minor exceptions actual task delegation patterns conform with the attitudes of physicians as to which tasks could and should be delegated to physician extenders                                                                                                                                                                                                                                                                                                                                                                                                                               |[study, uses, task, delegation, questionnaire, compare, physician, extender, practices, seven, primary, careoriented, sites, physician, attitude, survey, made, one, additional, site, using, physician, extenders, included, control, t0, involves, major, types, physician, extenders, physician, assistants, nurse, practitioners, ambulatory, practices, least, one, year, experience, using, personnel, minor, exceptions, actual, task, delegation, patterns, conform, attitudes, physicians, tasks, delegated, physician, extenders]                                                                                                                                                                                                                                                                                                                                  |\n",
            "|a statistical t0 bearing upon othe fall of blood pressure concomitant with the setting of peridural anaesthesia was carried out upon an homogeneous series of patients over belonging to groups iii and iv of the a s a classification for interventions seating below the ixth metamere from this study it seems to follow that for starting maximum arterial tensions over mmhg pressure falls are virtually constant in absolute value the most important variations in pressure falls are to be found in abdominal surgery the lowest figure in blood pressure which accompanies the achievement of surgical analgesia takes place about the th minute whatever the type of surgery can be no significant link can be evidence between the importance of the fall in blood pressure and the consumption of the mixture required for surgical analgesia                                                                                                                                                                                    |[statistical, t0, bearing, upon, othe, fall, blood, pressure, concomitant, setting, peridural, anaesthesia, carried, upon, homogeneous, series, patients, belonging, groups, iii, iv, classification, interventions, seating, ixth, metamere, study, seems, follow, starting, maximum, arterial, tensions, mmhg, pressure, falls, virtually, constant, absolute, value, important, variations, pressure, falls, found, abdominal, surgery, lowest, figure, blood, pressure, accompanies, achievement, surgical, analgesia, takes, place, th, minute, whatever, type, surgery, significant, link, evidence, importance, fall, blood, pressure, consumption, mixture, required, surgical, analgesia]                                                                                                                                                                           |\n",
            "|the increasing use of medications during pregnancy and labour leads to the question of their true effectiveness and the absence of harmful effects for both mother and foetus study of the action of medications given to the pregnant woman requires clinical trials with precise methodology including as an essential stage the definition of an experimental protocol random distribution of the subjects to the various groups and statistical analysis of the results based upon objective criteria are essential no t0 of the action of a medication as far as mother and foetus should be undertaken without prior parmacological and pharmacokinetic trials                                                                                                                                                                                                                                                                                                                                                                          |[increasing, use, medications, pregnancy, labour, leads, question, true, effectiveness, absence, harmful, effects, mother, foetus, study, action, medications, given, pregnant, woman, requires, clinical, trials, precise, methodology, including, essential, stage, definition, experimental, protocol, random, distribution, subjects, various, groups, statistical, analysis, results, based, upon, objective, criteria, essential, t0, action, medication, far, mother, foetus, undertaken, without, prior, parmacological, pharmacokinetic, trials]                                                                                                                                                                                                                                                                                                                    |\n",
            "|observation of the behaviour of platelets in hypotonic media affords an approach to the evaluation of their fragility it should be possible to apply such a test to various fields such as the t0 of rheological properties of platelets the investigation of certain pathological cases and eventual alterations during storage the curve obtained reflects a continuous distribution of platelet osmotic fragility                                                                                                                                                                                                                                                                                                                                                                                                                                                                                                                                                                                                                          |[observation, behaviour, platelets, hypotonic, media, affords, approach, evaluation, fragility, possible, apply, test, various, fields, t0, rheological, properties, platelets, investigation, certain, pathological, cases, eventual, alterations, storage, curve, obtained, reflects, continuous, distribution, platelet, osmotic, fragility]                                                                                                                                                                                                                                                                                                                                                                                                                                                                                                                              |\n",
            "|this t0 investigates the effect of flunitrazepam a new benzodiazepine on the sleep of insomniac patients under chronic treatment polygraphic recordings have shown that this drug decreases not only the activity of the wakefulness system but also the activity of the synchronizing system of slowwave sleep the subjective feeling of improved and sounder sleep seems to be related to a decrease of wakefulness pressure as well as to a decrease of body motoricity but not with the modification of sleep stages themselves flunitrazepam appears to possess some regulatory properties on rem sleep since this stage is enhanced in patients with an initial low amount of rem sleep and decreased in those having a higher initial rem sleep flunitrazepam possesses potent and useful hypnogenic properties in man but does not induce physiological sleep                                                                                                                                                                         |[t0, investigates, effect, flunitrazepam, new, benzodiazepine, sleep, insomniac, patients, chronic, treatment, polygraphic, recordings, shown, drug, decreases, activity, wakefulness, system, also, activity, synchronizing, system, slowwave, sleep, subjective, feeling, improved, sounder, sleep, seems, related, decrease, wakefulness, pressure, well, decrease, body, motoricity, modification, sleep, stages, flunitrazepam, appears, possess, regulatory, properties, rem, sleep, since, stage, enhanced, patients, initial, low, amount, rem, sleep, decreased, higher, initial, rem, sleep, flunitrazepam, possesses, potent, useful, hypnogenic, properties, man, induce, physiological, sleep]                                                                                                                                                                  |\n",
            "|in a t0 of alcoholics a positive relationship between the development of anomy and the development of alcoholism was found                                                                                                                                                                                                                                                                                                                                                                                                                                                                                                                                                                                                                                                                                                                                                                                                                                                                                                                    |[t0, alcoholics, positive, relationship, development, anomy, development, alcoholism, found]                                                                                                                                                                                                                                                                                                                                                                                                                                                                                                                                                                                                                                                                                                                                                                                 |\n",
            "|the authors report two cases of periarteritis nodosa associated with carcinoma the first case was a man with an anaplastic bronchial carcinoma the second was a woman with a rectal adenocarcinoma t0 of the association of certain collagen diseases with carcinoma was made to emphasize the great rareness of this association                                                                                                                                                                                                                                                                                                                                                                                                                                                                                                                                                                                                                                                                                                             |[authors, report, two, cases, periarteritis, nodosa, associated, carcinoma, first, case, man, anaplastic, bronchial, carcinoma, second, woman, rectal, adenocarcinoma, t0, association, certain, collagen, diseases, carcinoma, made, emphasize, great, rareness, association]                                                                                                                                                                                                                                                                                                                                                                                                                                                                                                                                                                                               |\n",
            "|the plantar cushion reflex in cats was examined as a model system in a mammal for the t0 of the effects of repeated stimulation on neural transmission effects of various frequencies and intensities of stimulation were similar to those seen in other reflex systems for instance for a fixed number of stimuli habituation of the plantar cushion reflex was more marked at hz than at hz and with x threshold stimulation than with x threshold stimulation sensitization occurred at intermediate intensities and frequencies of stimulation dorsal root potentials were studied changes in dorsal root potentials during iterated stimulation did not correlate with the changes in the plantar cushion reflex these changes in the plantar cushion reflex were also unrelated to variations in afferent transmission peripheral to the spinal cord sensitization and habituation in the plantar cushion reflex occurred during iterated stimulation were produced centrally and were unrelated to mechanisms of presynaptic inhibition|[plantar, cushion, reflex, cats, examined, model, system, mammal, t0, effects, repeated, stimulation, neural, transmission, effects, various, frequencies, intensities, stimulation, similar, seen, reflex, systems, instance, fixed, number, stimuli, habituation, plantar, cushion, reflex, marked, hz, hz, x, threshold, stimulation, x, threshold, stimulation, sensitization, occurred, intermediate, intensities, frequencies, stimulation, dorsal, root, potentials, studied, changes, dorsal, root, potentials, iterated, stimulation, correlate, changes, plantar, cushion, reflex, changes, plantar, cushion, reflex, also, unrelated, variations, afferent, transmission, peripheral, spinal, cord, sensitization, habituation, plantar, cushion, reflex, occurred, iterated, stimulation, produced, centrally, unrelated, mechanisms, presynaptic, inhibition]   |\n",
            "|in solomon islands filariasis is caused by the nocturnally perodic form of wuchereria bancrofti and is transmitted by the same vectors of malaria this t0 explores the control of this disease as an additional effect of the malaria eradication programme                                                                                                                                                                                                                                                                                                                                                                                                                                                                                                                                                                                                                                                                                                                                                                                   |[solomon, islands, filariasis, caused, nocturnally, perodic, form, wuchereria, bancrofti, transmitted, vectors, malaria, t0, explores, control, disease, additional, effect, malaria, eradication, programme]                                                                                                                                                                                                                                                                                                                                                                                                                                                                                                                                                                                                                                                                |\n",
            "|during the wet seasons of and possibly sentinel horses became infected by venezuelan encephalitis ve virus in a temporally and geographically progressive manner inland from an enzootic marsh focus of virus on the pacific couast of southeastern guatemala during the wet seasons of and ve virus was detected by sentinel horses and a sentinel hamster in in a small woods km north of the marsh but virus was undetectable there during the dry seasons of and and the wet season of culex melanoconion mosquitoes were found in this woods and at the marsh during august these observations are compatible with movement of ve virus from the marsh habitat during some wet seasons however virus activity in this region adjacent to the marsh was quantitatively unpredictable on a yearly basis and occurred in only very focal habitats during to mechanisms of ve virus movement from the marsh are currently unknown but bats are under t0 as a likely possibility                                                              |[wet, seasons, possibly, sentinel, horses, became, infected, venezuelan, encephalitis, ve, virus, temporally, geographically, progressive, manner, inland, enzootic, marsh, focus, virus, pacific, couast, southeastern, guatemala, wet, seasons, ve, virus, detected, sentinel, horses, sentinel, hamster, small, woods, km, north, marsh, virus, undetectable, dry, seasons, wet, season, culex, melanoconion, mosquitoes, found, woods, marsh, august, observations, compatible, movement, ve, virus, marsh, habitat, wet, seasons, however, virus, activity, region, adjacent, marsh, quantitatively, unpredictable, yearly, basis, occurred, focal, habitats, mechanisms, ve, virus, movement, marsh, currently, unknown, bats, t0, likely, possibility]                                                                                                                |\n",
            "|su is a unique new hybrid molecule the animal profile being characteristic of neuroleptic activity although the trial was uncontrolled there appears to be no doubt that su exerts antipsychotic activity between mg and mg daily in severely ill schizophrenic patients seven of the ten subjects required at least transient antiparkinson medication two patients demonstrated premature ventricular contractions one patient had infrequent pvcs at baseline which increased in frequency with rising dosage the other patient developed frequent premature ventricular contractions only after active and medication was initiated and was subsequently withdrawn from the t0                                                                                                                                                                                                                                                                                                                                                            |[su, unique, new, hybrid, molecule, animal, profile, characteristic, neuroleptic, activity, although, trial, uncontrolled, appears, doubt, su, exerts, antipsychotic, activity, mg, mg, daily, severely, ill, schizophrenic, patients, seven, ten, subjects, required, least, transient, antiparkinson, medication, two, patients, demonstrated, premature, ventricular, contractions, one, patient, infrequent, pvcs, baseline, increased, frequency, rising, dosage, patient, developed, frequent, premature, ventricular, contractions, active, medication, initiated, subsequently, withdrawn, t0]                                                                                                                                                                                                                                                                       |\n",
            "|data are presented which indicate that specially selected art students can be trained to evaluate radiographs as to the presence or absence of significant pathology with an accuracy equivalent to that of experienced staff radiologists the methods employed in this training programnamely stressing perceptual recognition of normal and abnormal findingsmay be beneficial in the early months of training of diagnostic radiology residents to hasten achievement of an acceptable perceptual performance test films used in this t0 as an evaluation technique may also be useful to assess residents progress                                                                                                                                                                                                                                                                                                                                                                                                                        |[data, presented, indicate, specially, selected, art, students, trained, evaluate, radiographs, presence, absence, significant, pathology, accuracy, equivalent, experienced, staff, radiologists, methods, employed, training, programnamely, stressing, perceptual, recognition, normal, abnormal, findingsmay, beneficial, early, months, training, diagnostic, radiology, residents, hasten, achievement, acceptable, perceptual, performance, test, films, used, t0, evaluation, technique, may, also, useful, assess, residents, progress]                                                                                                                                                                                                                                                                                                                             |\n",
            "|the reconstituted liver microsomal hydroxylation system was used to t0 the formation of a metabolitecytochrome p complex absorbing maximally at nm with benzphetamine and nhydroxyamphetamine as substrates complex formation required the presence of nadph substrate nadphcytochrome c reductase lipid and cytochrome p indicating that metabolism of the substrate is essential in the presence of fixed amounts of lipid and nadphcytochrome c reductase the rate of complex formation with cytochrome p isolated from phenobarbitaltreated rats was much greater than that observed with cytochrome p from methylcholanthrenetreated rats or rabbits these results are consistent with recent studies indicating that different forms of cytochrome p with distinct spectral catalytic and immunological properties exist in liver microsomes                                                                                                                                                                                            |[reconstituted, liver, microsomal, hydroxylation, system, used, t0, formation, metabolitecytochrome, p, complex, absorbing, maximally, nm, benzphetamine, nhydroxyamphetamine, substrates, complex, formation, required, presence, nadph, substrate, nadphcytochrome, c, reductase, lipid, cytochrome, p, indicating, metabolism, substrate, essential, presence, fixed, amounts, lipid, nadphcytochrome, c, reductase, rate, complex, formation, cytochrome, p, isolated, phenobarbitaltreated, rats, much, greater, observed, cytochrome, p, methylcholanthrenetreated, rats, rabbits, results, consistent, recent, studies, indicating, different, forms, cytochrome, p, distinct, spectral, catalytic, immunological, properties, exist, liver, microsomes]                                                                                                              |\n",
            "|the cd t0 of the dnapolylhistidine complex at high degree of protonation revealed that complex formation is already observable at m nacl the influence of salt together with m urea suggests that in addition to electrostatic interactions probably hydrogen bonding may favour specific complexes affinity of protonated histidines to atrich regions is strongly supported by the complexes formed with dadtcontaining polymers the psitype structure occurs with polydadtpolydadt while polydapolydt is restricted to form a similar psistate on interaction with highly protonated polylhistidine differences in the helix winding properties due to variation in the sequence is suggested as a possible factor in the formation of the psitype complexes the mechanism of interaction including hydrogen bonding of histidine sidechains with an at pair at high degree of protonation and with gcregions at lower degree of protonation in the polypeptide structure is discussed                                                     |[cd, t0, dnapolylhistidine, complex, high, degree, protonation, revealed, complex, formation, already, observable, m, nacl, influence, salt, together, m, urea, suggests, addition, electrostatic, interactions, probably, hydrogen, bonding, may, favour, specific, complexes, affinity, protonated, histidines, atrich, regions, strongly, supported, complexes, formed, dadtcontaining, polymers, psitype, structure, occurs, polydadtpolydadt, polydapolydt, restricted, form, similar, psistate, interaction, highly, protonated, polylhistidine, differences, helix, winding, properties, due, variation, sequence, suggested, possible, factor, formation, psitype, complexes, mechanism, interaction, including, hydrogen, bonding, histidine, sidechains, pair, high, degree, protonation, gcregions, lower, degree, protonation, polypeptide, structure, discussed]|\n",
            "|the vitamin kdependent carboxylating system has been solubilized by lubrol px or triton x treatment of vitamin kdeficient rat liver microsomes as obtained from vitamin kdeficient rat liver this soluble preparation is dependent upon the in vitro addition of vitamin k for carboxylating activity the enzyme system is complex and is dependent upon nadh and dithiothreitol for maximum activity while detergents used to solubilize the enzyme complex do markedly inhibit the activity of the system the solubilized system is still highly responsive to vitamin k addition and can be used for further t0 of the carboxylating enzyme system the requirement for dithiothreitol and the inhibition by phydroxymercuribenzoate indicate the involvement of an sh enzyme in the carboxylating system                                                                                                                                                                                                                                   |[vitamin, kdependent, carboxylating, system, solubilized, lubrol, px, triton, x, treatment, vitamin, kdeficient, rat, liver, microsomes, obtained, vitamin, kdeficient, rat, liver, soluble, preparation, dependent, upon, vitro, addition, vitamin, k, carboxylating, activity, enzyme, system, complex, dependent, upon, nadh, dithiothreitol, maximum, activity, detergents, used, solubilize, enzyme, complex, markedly, inhibit, activity, system, solubilized, system, still, highly, responsive, vitamin, k, addition, used, t0, carboxylating, enzyme, system, requirement, dithiothreitol, inhibition, phydroxymercuribenzoate, indicate, involvement, sh, enzyme, carboxylating, system]                                                                                                                                                                           |\n",
            "|two new methods are described for the t0 of hepatic hydroxymethylglutaryl coenzyme a hmg coa reductase endoplasmic reticulum was rapidly prepared by diluting a g supernatant with buffer containing mm calcium chloride the yield of protein and the specific activity of hmg coa reductase in the pellet subsequently obtained by low speed centrifugation were nearly identical to those in the microsomal pellet prepared by ultracentrifugation this technique may be particularly useful in studies of the rapid in vitro modulation of the enzyme mevalonolactone was extracted into benzene from the hmg coa reductase assay mixture with an efficiency of there was less than extraction of hmg coa acetoacetate or betahydroxybutyrate the extracted mevalonolactone was at least pure as judged by thinlayer chromatography with four different solvent systems these improved methods should significantly aid studies of the physiological importance of hmg coa reductase                                                       |[two, new, methods, described, t0, hepatic, hydroxymethylglutaryl, coenzyme, hmg, coa, reductase, endoplasmic, reticulum, rapidly, prepared, diluting, g, supernatant, buffer, containing, mm, calcium, chloride, yield, protein, specific, activity, hmg, coa, reductase, pellet, subsequently, obtained, low, speed, centrifugation, nearly, identical, microsomal, pellet, prepared, ultracentrifugation, technique, may, particularly, useful, studies, rapid, vitro, modulation, enzyme, mevalonolactone, extracted, benzene, hmg, coa, reductase, assay, mixture, efficiency, less, extraction, hmg, coa, acetoacetate, betahydroxybutyrate, extracted, mevalonolactone, least, pure, judged, thinlayer, chromatography, four, different, solvent, systems, improved, methods, significantly, aid, studies, physiological, importance, hmg, coa, reductase]            |\n",
            "|in this introductory t0 our actual knowledge on the tendons is resumed and it is pointed out that on the basis of this knowledge no explanation is given as regards the pathomechanism of the spontaneous tendon ruptures the authors concept on the tendons as motor units is discussed the examinations are dealt with by which the authors intend to revise the conventional static tendon model                                                                                                                                                                                                                                                                                                                                                                                                                                                                                                                                                                                                                                           |[introductory, t0, actual, knowledge, tendons, resumed, pointed, basis, knowledge, explanation, given, regards, pathomechanism, spontaneous, tendon, ruptures, authors, concept, tendons, motor, units, discussed, examinations, dealt, authors, intend, revise, conventional, static, tendon, model]                                                                                                                                                                                                                                                                                                                                                                                                                                                                                                                                                                        |\n",
            "+----------------------------------------------------------------------------------------------------------------------------------------------------------------------------------------------------------------------------------------------------------------------------------------------------------------------------------------------------------------------------------------------------------------------------------------------------------------------------------------------------------------------------------------------------------------------------------------------------------------------------------------------------------------------------------------------------------------------------------------------------------------------------------------------------------------------------------------------------------------------------------------------------------------------------------------------------------------------------------------------------------------------------------------------+-----------------------------------------------------------------------------------------------------------------------------------------------------------------------------------------------------------------------------------------------------------------------------------------------------------------------------------------------------------------------------------------------------------------------------------------------------------------------------------------------------------------------------------------------------------------------------------------------------------------------------------------------------------------------------------------------------------------------------------------------------------------------------------------------------------------------------------------------------------------------------+\n",
            "only showing top 20 rows\n",
            "\n"
          ]
        }
      ],
      "source": [
        "remover = StopWordsRemover(inputCol='words_token', outputCol='words_clean')\n",
        "Df = remover.transform(DATA).select(\"processed_text\",'words_clean')\n",
        "Df.show(truncate=False)"
      ]
    },
    {
      "cell_type": "code",
      "execution_count": 48,
      "metadata": {
        "id": "ud4AklzY92mo"
      },
      "outputs": [],
      "source": [
        "#The following code is trying to eliminate some duplicated words that we have in each sentence, but we still do not know if this is the best possile action. "
      ]
    },
    {
      "cell_type": "code",
      "execution_count": 49,
      "metadata": {
        "id": "Iy8qAAwFpmMW"
      },
      "outputs": [],
      "source": [
        "from pyspark.sql.functions import udf\n",
        "from pyspark.sql.types import ArrayType,StringType    "
      ]
    },
    {
      "cell_type": "code",
      "execution_count": 50,
      "metadata": {
        "colab": {
          "base_uri": "https://localhost:8080/"
        },
        "id": "dPDia3N1po18",
        "outputId": "d85e6bf6-2866-422a-f33a-5ba5d958821f"
      },
      "outputs": [
        {
          "output_type": "stream",
          "name": "stdout",
          "text": [
            "+--------------------+--------------------+\n",
            "|      processed_text|         words_clean|\n",
            "+--------------------+--------------------+\n",
            "|the behaviour of ...|[behaviour, human...|\n",
            "|fast reaction tec...|[protein, means, ...|\n",
            "|the role of the d...|[production, appe...|\n",
            "|this study uses a...|[compare, least, ...|\n",
            "|a statistical t0 ...|[starting, import...|\n",
            "|the increasing us...|[distribution, le...|\n",
            "|observation of th...|[behaviour, certa...|\n",
            "|this t0 investiga...|[appears, new, de...|\n",
            "|in a t0 of alcoho...|[development, fou...|\n",
            "|the authors repor...|[certain, second,...|\n",
            "+--------------------+--------------------+\n",
            "only showing top 10 rows\n",
            "\n"
          ]
        }
      ],
      "source": [
        "get_uniques=udf(lambda x: list(set(x)), ArrayType(StringType()))\n",
        "\n",
        "DataBase = Df.withColumn(\"words_clean\", get_uniques(Df.words_clean))\n",
        "DataBase.show(10)"
      ]
    },
    {
      "cell_type": "code",
      "execution_count": 51,
      "metadata": {
        "id": "B_Vp1rEj5Y_8"
      },
      "outputs": [],
      "source": [
        "from pyspark.sql.functions import collect_set\n",
        "from pyspark.sql.types import IntegerType"
      ]
    },
    {
      "cell_type": "code",
      "execution_count": 52,
      "metadata": {
        "id": "WMl4nPVP5ZGO"
      },
      "outputs": [],
      "source": [
        "slen = udf(lambda s: len(s), IntegerType())\n",
        "DB = DataBase.withColumn(\"word_count\", slen(DataBase.words_clean))"
      ]
    },
    {
      "cell_type": "code",
      "execution_count": 53,
      "metadata": {
        "colab": {
          "base_uri": "https://localhost:8080/"
        },
        "id": "xMuwqF_15ZJD",
        "outputId": "7bae095f-8938-4cf3-e457-4c6921516c44"
      },
      "outputs": [
        {
          "output_type": "stream",
          "name": "stdout",
          "text": [
            "+--------------------+--------------------+----------+\n",
            "|      processed_text|         words_clean|word_count|\n",
            "+--------------------+--------------------+----------+\n",
            "|the behaviour of ...|[behaviour, human...|        50|\n",
            "|fast reaction tec...|[protein, means, ...|        61|\n",
            "|the role of the d...|[production, appe...|        64|\n",
            "|this study uses a...|[compare, least, ...|        44|\n",
            "|a statistical t0 ...|[starting, import...|        62|\n",
            "|the increasing us...|[distribution, le...|        50|\n",
            "|observation of th...|[behaviour, certa...|        31|\n",
            "|this t0 investiga...|[appears, new, de...|        55|\n",
            "|in a t0 of alcoho...|[development, fou...|         8|\n",
            "|the authors repor...|[certain, second,...|        26|\n",
            "|the plantar cushi...|[instance, correl...|        51|\n",
            "|in solomon island...|[additional, prog...|        20|\n",
            "|during the wet se...|[basis, horses, u...|        59|\n",
            "|su is a unique ne...|[ill, least, unco...|        52|\n",
            "|data are presente...|[radiographs, tec...|        50|\n",
            "|the reconstituted...|[greater, presenc...|        53|\n",
            "|the cd t0 of the ...|[dadtcontaining, ...|        69|\n",
            "|the vitamin kdepe...|[detergents, stil...|        43|\n",
            "|two new methods a...|[protein, techniq...|        70|\n",
            "|in this introduct...|[basis, concept, ...|        27|\n",
            "+--------------------+--------------------+----------+\n",
            "only showing top 20 rows\n",
            "\n"
          ]
        }
      ],
      "source": [
        "DB.show()"
      ]
    },
    {
      "cell_type": "code",
      "execution_count": 54,
      "metadata": {
        "id": "BlhG9sq0d_dn"
      },
      "outputs": [],
      "source": [
        "import pyspark.sql.functions as F"
      ]
    },
    {
      "cell_type": "code",
      "execution_count": 55,
      "metadata": {
        "id": "QexCfCwrc0JZ"
      },
      "outputs": [],
      "source": [
        "DB.createOrReplaceTempView(\"df_view\")\n",
        "\n",
        "MeDal = spark.sql(\"SELECT processed_text, words_clean AS items, word_count FROM df_view\")"
      ]
    },
    {
      "cell_type": "code",
      "execution_count": 56,
      "metadata": {
        "colab": {
          "base_uri": "https://localhost:8080/"
        },
        "id": "NZSnzbbmeh7_",
        "outputId": "faed0c3b-912d-40c0-9074-e9fe8a062760"
      },
      "outputs": [
        {
          "output_type": "stream",
          "name": "stdout",
          "text": [
            "+--------------------+--------------------+----------+\n",
            "|      processed_text|               items|word_count|\n",
            "+--------------------+--------------------+----------+\n",
            "|the behaviour of ...|[behaviour, human...|        50|\n",
            "|fast reaction tec...|[protein, means, ...|        61|\n",
            "|the role of the d...|[production, appe...|        64|\n",
            "|this study uses a...|[compare, least, ...|        44|\n",
            "|a statistical t0 ...|[starting, import...|        62|\n",
            "|the increasing us...|[distribution, le...|        50|\n",
            "|observation of th...|[behaviour, certa...|        31|\n",
            "|this t0 investiga...|[appears, new, de...|        55|\n",
            "|in a t0 of alcoho...|[development, fou...|         8|\n",
            "|the authors repor...|[certain, second,...|        26|\n",
            "|the plantar cushi...|[instance, correl...|        51|\n",
            "|in solomon island...|[additional, prog...|        20|\n",
            "|during the wet se...|[basis, horses, u...|        59|\n",
            "|su is a unique ne...|[ill, least, unco...|        52|\n",
            "|data are presente...|[radiographs, tec...|        50|\n",
            "|the reconstituted...|[greater, presenc...|        53|\n",
            "|the cd t0 of the ...|[dadtcontaining, ...|        69|\n",
            "|the vitamin kdepe...|[detergents, stil...|        43|\n",
            "|two new methods a...|[protein, techniq...|        70|\n",
            "|in this introduct...|[basis, concept, ...|        27|\n",
            "+--------------------+--------------------+----------+\n",
            "only showing top 20 rows\n",
            "\n"
          ]
        }
      ],
      "source": [
        "MeDal.show()"
      ]
    },
    {
      "cell_type": "code",
      "execution_count": 57,
      "metadata": {
        "colab": {
          "base_uri": "https://localhost:8080/"
        },
        "id": "JOsOEz8vplj0",
        "outputId": "845179fe-f118-48ef-8434-61206ec1806d"
      },
      "outputs": [
        {
          "output_type": "stream",
          "name": "stdout",
          "text": [
            "root\n",
            " |-- processed_text: string (nullable = true)\n",
            " |-- items: array (nullable = true)\n",
            " |    |-- element: string (containsNull = true)\n",
            " |-- word_count: integer (nullable = true)\n",
            "\n"
          ]
        }
      ],
      "source": [
        "MeDal.printSchema()"
      ]
    },
    {
      "cell_type": "code",
      "source": [
        "# We will convert our preprocessed dataframe into an rdd\n",
        "# with the following structure (key, value)\n",
        "\n",
        "input_rdd = MeDal.rdd.map(lambda x: (1, list(set(x[1]))))\n",
        "\n",
        "# This is our input rdd\n",
        "input_rdd.take(1)"
      ],
      "metadata": {
        "colab": {
          "base_uri": "https://localhost:8080/"
        },
        "id": "DEXH2tGyYrsH",
        "outputId": "f862225b-1036-4d7c-b6a9-40bf7bc60ed6"
      },
      "execution_count": 58,
      "outputs": [
        {
          "output_type": "execute_result",
          "data": {
            "text/plain": [
              "[(1,\n",
              "  ['behaviour',\n",
              "   'human',\n",
              "   'new',\n",
              "   'applying',\n",
              "   'inhibitors',\n",
              "   'recovery',\n",
              "   'case',\n",
              "   'solely',\n",
              "   'group',\n",
              "   'effects',\n",
              "   'linear',\n",
              "   'placental',\n",
              "   'acting',\n",
              "   'diamine',\n",
              "   'theories',\n",
              "   'kidney',\n",
              "   'sodium',\n",
              "   'inhibition',\n",
              "   'thorough',\n",
              "   't0',\n",
              "   'used',\n",
              "   'compounds',\n",
              "   'carbonyl',\n",
              "   'described',\n",
              "   'schiffbase',\n",
              "   'several',\n",
              "   'particularly',\n",
              "   'reagents',\n",
              "   'pig',\n",
              "   'vtvo',\n",
              "   'timedependent',\n",
              "   'plots',\n",
              "   'addition',\n",
              "   'theory',\n",
              "   'adequately',\n",
              "   'accounted',\n",
              "   'time',\n",
              "   'inhibiting',\n",
              "   'formation',\n",
              "   'usual',\n",
              "   'aminoguanidine',\n",
              "   'pyruvate',\n",
              "   'oxidase',\n",
              "   'phenylhydrazine',\n",
              "   'suggested',\n",
              "   'urea',\n",
              "   'log',\n",
              "   'activity',\n",
              "   'activesite',\n",
              "   'predict'])]"
            ]
          },
          "metadata": {},
          "execution_count": 58
        }
      ]
    },
    {
      "cell_type": "code",
      "execution_count": 59,
      "metadata": {
        "id": "Y5hBLISbJfMl"
      },
      "outputs": [],
      "source": [
        "THRESHOLD_PERCENTAGE = 0.1\n",
        "n_of_baskets = input_rdd.countByKey()[1]\n",
        "\n",
        "THRESHOLD = math.ceil(n_of_baskets * THRESHOLD_PERCENTAGE)"
      ]
    },
    {
      "cell_type": "code",
      "source": [
        "print(THRESHOLD)"
      ],
      "metadata": {
        "colab": {
          "base_uri": "https://localhost:8080/"
        },
        "id": "QFZGmzyXQWro",
        "outputId": "aad25df2-be3c-4cec-91da-9c6d05aa0ec3"
      },
      "execution_count": 60,
      "outputs": [
        {
          "output_type": "stream",
          "name": "stdout",
          "text": [
            "29498\n"
          ]
        }
      ]
    },
    {
      "cell_type": "code",
      "execution_count": 61,
      "metadata": {
        "colab": {
          "base_uri": "https://localhost:8080/"
        },
        "id": "TJZ_O6Xhjz4B",
        "outputId": "6aad85af-1af7-4d33-e11a-e14683967c0a"
      },
      "outputs": [
        {
          "output_type": "execute_result",
          "data": {
            "text/plain": [
              "[('t0', 294977),\n",
              " ('used', 38166),\n",
              " ('two', 30838),\n",
              " ('also', 30148),\n",
              " ('study', 42329),\n",
              " ('using', 40581),\n",
              " ('patients', 58487),\n",
              " ('results', 45547),\n",
              " ('data', 29668),\n",
              " ('may', 31004),\n",
              " ('present', 38754),\n",
              " ('aim', 46949)]"
            ]
          },
          "metadata": {},
          "execution_count": 61
        }
      ],
      "source": [
        "# Extract all singletons\n",
        "singleton_itemsets_rdd = input_rdd \\\n",
        "                          .flatMap(lambda x: x[1]) \\\n",
        "                          .map(lambda x: (x,1))\n",
        "\n",
        "singleton_itemsets_w_frequencies_rdd = singleton_itemsets_rdd \\\n",
        "                                        .reduceByKey(lambda x,y: x + y)\n",
        "\n",
        "# Filter singletons with a frequency higher than the THRESHOLD\n",
        "frequent_singleton_itemsets_rdd = singleton_itemsets_w_frequencies_rdd \\\n",
        "                                    .filter(lambda x: x[1] > THRESHOLD)\n",
        "\n",
        "frequent_singleton_itemsets_rdd.take(20)"
      ]
    },
    {
      "cell_type": "code",
      "source": [
        "# We can then compute frequent pairs \n",
        "# Thanks to the monotonicity property we won't generate false negatives\n",
        "\n",
        "# Extract all frequent singleton without frequency\n",
        "frequent_singleton_itemsets_wout_freq_rdd = frequent_singleton_itemsets_rdd \\\n",
        "                                              .map(lambda x: (1, x[0]))\n",
        "\n",
        "# Generate all candidate pairs \n",
        "candidate_pairs_rdd = frequent_singleton_itemsets_wout_freq_rdd \\\n",
        "                      .join(frequent_singleton_itemsets_wout_freq_rdd) \\\n",
        "                      .filter(lambda x: len(set(x[1])) == len(x[1])) \\\n",
        "                      .map(lambda x: (tuple(sorted(x[1])), 1)) \\\n",
        "                      .reduceByKey(lambda x,y: x)\n",
        "\n",
        "# Generate a list of candidate pairs \n",
        "candidate_pairs_list = candidate_pairs_rdd.map(lambda x: x[0]).collect()\n",
        "broadcasted_candidate_pairs_list = sc.broadcast(candidate_pairs_list)\n",
        "\n",
        "# Compute all possible pairs on our whole dataset\n",
        "input_w_unique_key_rdd = input_rdd \\\n",
        "                        .map(lambda x: x[1]) \\\n",
        "                        .zipWithUniqueId() \\\n",
        "                        .flatMap(lambda x: [(x[1], word) for word in x[0]])\n",
        "\n",
        "pair_itemsets_rdd = input_w_unique_key_rdd \\\n",
        "                  .join(input_w_unique_key_rdd)\n",
        "\n",
        "# Filter only pairs that are in the candidate frequent pairs list and compute their frequency\n",
        "frequent_pairs_itemsets_rdd = pair_itemsets_rdd \\\n",
        "                                .filter(lambda x: x[1] in broadcasted_candidate_pairs_list.value) \\\n",
        "                                .map(lambda x: (x[1],1)) \\\n",
        "                                .reduceByKey(lambda x,y: x + y) \\\n",
        "                                .filter(lambda x: x[1] > THRESHOLD)\n",
        "\n",
        "frequent_pairs_itemsets_rdd.take(5)"
      ],
      "metadata": {
        "colab": {
          "base_uri": "https://localhost:8080/"
        },
        "id": "6TiqLyosUKY3",
        "outputId": "9d46a4d8-f567-4dd4-baa9-0817205250e8"
      },
      "execution_count": 62,
      "outputs": [
        {
          "output_type": "execute_result",
          "data": {
            "text/plain": [
              "[(('study', 't0'), 42329),\n",
              " (('also', 't0'), 30148),\n",
              " (('data', 't0'), 29668),\n",
              " (('aim', 't0'), 46949),\n",
              " (('present', 't0'), 38754)]"
            ]
          },
          "metadata": {},
          "execution_count": 62
        }
      ]
    },
    {
      "cell_type": "code",
      "execution_count": null,
      "metadata": {
        "colab": {
          "base_uri": "https://localhost:8080/"
        },
        "id": "qQUaIll7jz4C",
        "outputId": "5435df0c-3b34-4241-f206-15b5772e9be3"
      },
      "outputs": [
        {
          "data": {
            "text/plain": [
              "[]"
            ]
          },
          "execution_count": 64,
          "metadata": {},
          "output_type": "execute_result"
        }
      ],
      "source": [
        "frequent_pairs_itemsets_wout_freq_rdd = frequent_pairs_itemsets_rdd.map(lambda x: (1, x[0]))\n",
        "\n",
        "# Generate all candidate triplets \n",
        "candidate_triplets_rdd = frequent_pairs_itemsets_wout_freq_rdd \\\n",
        "                      .join(frequent_pairs_itemsets_wout_freq_rdd) \\\n",
        "                      .map(lambda x: (1, sum(x[1], ()))) \\\n",
        "                      .map(lambda x: (1, tuple(set(x[1]))) ) \\\n",
        "                      .filter(lambda x: len(x[1]) == 3) \\\n",
        "                      .map(lambda x: (tuple(sorted(x[1])), 1)) \\\n",
        "                      .reduceByKey(lambda x,y: x)\n",
        "\n",
        "# Generate a list of candidate triplets \n",
        "candidate_triplets_list = candidate_triplets_rdd.map(lambda x: x[0]).collect()\n",
        "broadcasted_candidate_triplets_list= sc.broadcast(candidate_triplets_list)\n",
        "\n",
        "# Compute all triplets on our whole dataset\n",
        "triplets_itemsets_rdd = input_w_unique_key_rdd \\\n",
        "                        .map(lambda x: (x[0], (x[1], ))) \\\n",
        "                        .join(pair_itemsets_rdd)  \\\n",
        "                        .map(lambda x: (1, sum(x[1], ())))\n",
        "\n",
        "# Filter only triplets that are in the candidate frequent triples list and compute their frequency\n",
        "frequent_triplets_itemsets_rdd = triplets_itemsets_rdd \\\n",
        "                                .filter(lambda x: x[1] in broadcasted_candidate_triplets_list.value) \\\n",
        "                                .map(lambda x: (x[1],1)) \\\n",
        "                                .reduceByKey(lambda x,y: x + y) \\\n",
        "                                .filter(lambda x: x[1] > THRESHOLD)\n",
        "\n",
        "frequent_triplets_itemsets_rdd.take(5)"
      ]
    }
  ]
}