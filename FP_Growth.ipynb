{
  "nbformat": 4,
  "nbformat_minor": 0,
  "metadata": {
    "colab": {
      "provenance": [],
      "authorship_tag": "ABX9TyP5aHFylS56qlXf0JpX+3TT",
      "include_colab_link": true
    },
    "kernelspec": {
      "name": "python3",
      "display_name": "Python 3"
    },
    "language_info": {
      "name": "python"
    }
  },
  "cells": [
    {
      "cell_type": "markdown",
      "metadata": {
        "id": "view-in-github",
        "colab_type": "text"
      },
      "source": [
        "<a href=\"https://colab.research.google.com/github/HindJamal97/Algorithm-for-Massive-Data/blob/main/FP_Growth.ipynb\" target=\"_parent\"><img src=\"https://colab.research.google.com/assets/colab-badge.svg\" alt=\"Open In Colab\"/></a>"
      ]
    },
    {
      "cell_type": "code",
      "execution_count": null,
      "metadata": {
        "id": "zQFDZC1Yqs2u"
      },
      "outputs": [],
      "source": [
        "#FIRST PART. \n",
        "#Install kaggle and upload + unzip our dataset. "
      ]
    },
    {
      "cell_type": "code",
      "execution_count": null,
      "metadata": {
        "id": "kZYcVwriqs2u"
      },
      "outputs": [],
      "source": [
        "!pip install -q kaggle"
      ]
    },
    {
      "cell_type": "code",
      "execution_count": null,
      "metadata": {
        "id": "jQx54dQsqs2u"
      },
      "outputs": [],
      "source": [
        "#After installing kaggle, we need to upload the kaggle.json file with the API token given from out Kaggle account. "
      ]
    },
    {
      "cell_type": "code",
      "execution_count": null,
      "metadata": {
        "colab": {
          "base_uri": "https://localhost:8080/",
          "height": 90
        },
        "id": "IYKaGVz8qs2u",
        "outputId": "c734f2cb-24de-45a7-b8f1-01efbc232c3a"
      },
      "outputs": [
        {
          "output_type": "display_data",
          "data": {
            "text/plain": [
              "<IPython.core.display.HTML object>"
            ],
            "text/html": [
              "\n",
              "     <input type=\"file\" id=\"files-160a8566-72a2-4659-a012-b758083639c3\" name=\"files[]\" multiple disabled\n",
              "        style=\"border:none\" />\n",
              "     <output id=\"result-160a8566-72a2-4659-a012-b758083639c3\">\n",
              "      Upload widget is only available when the cell has been executed in the\n",
              "      current browser session. Please rerun this cell to enable.\n",
              "      </output>\n",
              "      <script>// Copyright 2017 Google LLC\n",
              "//\n",
              "// Licensed under the Apache License, Version 2.0 (the \"License\");\n",
              "// you may not use this file except in compliance with the License.\n",
              "// You may obtain a copy of the License at\n",
              "//\n",
              "//      http://www.apache.org/licenses/LICENSE-2.0\n",
              "//\n",
              "// Unless required by applicable law or agreed to in writing, software\n",
              "// distributed under the License is distributed on an \"AS IS\" BASIS,\n",
              "// WITHOUT WARRANTIES OR CONDITIONS OF ANY KIND, either express or implied.\n",
              "// See the License for the specific language governing permissions and\n",
              "// limitations under the License.\n",
              "\n",
              "/**\n",
              " * @fileoverview Helpers for google.colab Python module.\n",
              " */\n",
              "(function(scope) {\n",
              "function span(text, styleAttributes = {}) {\n",
              "  const element = document.createElement('span');\n",
              "  element.textContent = text;\n",
              "  for (const key of Object.keys(styleAttributes)) {\n",
              "    element.style[key] = styleAttributes[key];\n",
              "  }\n",
              "  return element;\n",
              "}\n",
              "\n",
              "// Max number of bytes which will be uploaded at a time.\n",
              "const MAX_PAYLOAD_SIZE = 100 * 1024;\n",
              "\n",
              "function _uploadFiles(inputId, outputId) {\n",
              "  const steps = uploadFilesStep(inputId, outputId);\n",
              "  const outputElement = document.getElementById(outputId);\n",
              "  // Cache steps on the outputElement to make it available for the next call\n",
              "  // to uploadFilesContinue from Python.\n",
              "  outputElement.steps = steps;\n",
              "\n",
              "  return _uploadFilesContinue(outputId);\n",
              "}\n",
              "\n",
              "// This is roughly an async generator (not supported in the browser yet),\n",
              "// where there are multiple asynchronous steps and the Python side is going\n",
              "// to poll for completion of each step.\n",
              "// This uses a Promise to block the python side on completion of each step,\n",
              "// then passes the result of the previous step as the input to the next step.\n",
              "function _uploadFilesContinue(outputId) {\n",
              "  const outputElement = document.getElementById(outputId);\n",
              "  const steps = outputElement.steps;\n",
              "\n",
              "  const next = steps.next(outputElement.lastPromiseValue);\n",
              "  return Promise.resolve(next.value.promise).then((value) => {\n",
              "    // Cache the last promise value to make it available to the next\n",
              "    // step of the generator.\n",
              "    outputElement.lastPromiseValue = value;\n",
              "    return next.value.response;\n",
              "  });\n",
              "}\n",
              "\n",
              "/**\n",
              " * Generator function which is called between each async step of the upload\n",
              " * process.\n",
              " * @param {string} inputId Element ID of the input file picker element.\n",
              " * @param {string} outputId Element ID of the output display.\n",
              " * @return {!Iterable<!Object>} Iterable of next steps.\n",
              " */\n",
              "function* uploadFilesStep(inputId, outputId) {\n",
              "  const inputElement = document.getElementById(inputId);\n",
              "  inputElement.disabled = false;\n",
              "\n",
              "  const outputElement = document.getElementById(outputId);\n",
              "  outputElement.innerHTML = '';\n",
              "\n",
              "  const pickedPromise = new Promise((resolve) => {\n",
              "    inputElement.addEventListener('change', (e) => {\n",
              "      resolve(e.target.files);\n",
              "    });\n",
              "  });\n",
              "\n",
              "  const cancel = document.createElement('button');\n",
              "  inputElement.parentElement.appendChild(cancel);\n",
              "  cancel.textContent = 'Cancel upload';\n",
              "  const cancelPromise = new Promise((resolve) => {\n",
              "    cancel.onclick = () => {\n",
              "      resolve(null);\n",
              "    };\n",
              "  });\n",
              "\n",
              "  // Wait for the user to pick the files.\n",
              "  const files = yield {\n",
              "    promise: Promise.race([pickedPromise, cancelPromise]),\n",
              "    response: {\n",
              "      action: 'starting',\n",
              "    }\n",
              "  };\n",
              "\n",
              "  cancel.remove();\n",
              "\n",
              "  // Disable the input element since further picks are not allowed.\n",
              "  inputElement.disabled = true;\n",
              "\n",
              "  if (!files) {\n",
              "    return {\n",
              "      response: {\n",
              "        action: 'complete',\n",
              "      }\n",
              "    };\n",
              "  }\n",
              "\n",
              "  for (const file of files) {\n",
              "    const li = document.createElement('li');\n",
              "    li.append(span(file.name, {fontWeight: 'bold'}));\n",
              "    li.append(span(\n",
              "        `(${file.type || 'n/a'}) - ${file.size} bytes, ` +\n",
              "        `last modified: ${\n",
              "            file.lastModifiedDate ? file.lastModifiedDate.toLocaleDateString() :\n",
              "                                    'n/a'} - `));\n",
              "    const percent = span('0% done');\n",
              "    li.appendChild(percent);\n",
              "\n",
              "    outputElement.appendChild(li);\n",
              "\n",
              "    const fileDataPromise = new Promise((resolve) => {\n",
              "      const reader = new FileReader();\n",
              "      reader.onload = (e) => {\n",
              "        resolve(e.target.result);\n",
              "      };\n",
              "      reader.readAsArrayBuffer(file);\n",
              "    });\n",
              "    // Wait for the data to be ready.\n",
              "    let fileData = yield {\n",
              "      promise: fileDataPromise,\n",
              "      response: {\n",
              "        action: 'continue',\n",
              "      }\n",
              "    };\n",
              "\n",
              "    // Use a chunked sending to avoid message size limits. See b/62115660.\n",
              "    let position = 0;\n",
              "    do {\n",
              "      const length = Math.min(fileData.byteLength - position, MAX_PAYLOAD_SIZE);\n",
              "      const chunk = new Uint8Array(fileData, position, length);\n",
              "      position += length;\n",
              "\n",
              "      const base64 = btoa(String.fromCharCode.apply(null, chunk));\n",
              "      yield {\n",
              "        response: {\n",
              "          action: 'append',\n",
              "          file: file.name,\n",
              "          data: base64,\n",
              "        },\n",
              "      };\n",
              "\n",
              "      let percentDone = fileData.byteLength === 0 ?\n",
              "          100 :\n",
              "          Math.round((position / fileData.byteLength) * 100);\n",
              "      percent.textContent = `${percentDone}% done`;\n",
              "\n",
              "    } while (position < fileData.byteLength);\n",
              "  }\n",
              "\n",
              "  // All done.\n",
              "  yield {\n",
              "    response: {\n",
              "      action: 'complete',\n",
              "    }\n",
              "  };\n",
              "}\n",
              "\n",
              "scope.google = scope.google || {};\n",
              "scope.google.colab = scope.google.colab || {};\n",
              "scope.google.colab._files = {\n",
              "  _uploadFiles,\n",
              "  _uploadFilesContinue,\n",
              "};\n",
              "})(self);\n",
              "</script> "
            ]
          },
          "metadata": {}
        },
        {
          "output_type": "stream",
          "name": "stdout",
          "text": [
            "Saving kaggle.json to kaggle.json\n"
          ]
        },
        {
          "output_type": "execute_result",
          "data": {
            "text/plain": [
              "{'kaggle.json': b'{\"username\":\"hindjamal\",\"key\":\"5b2794cdd1f8c072feba270d5a765fa6\"}'}"
            ]
          },
          "metadata": {},
          "execution_count": 4
        }
      ],
      "source": [
        "from google.colab import files\n",
        "files.upload() "
      ]
    },
    {
      "cell_type": "code",
      "execution_count": null,
      "metadata": {
        "id": "2WaPNIJHqs2v"
      },
      "outputs": [],
      "source": [
        "#Now we need to create a Kaggle folder, copy the kaggle.json to the folder created and finally we need to grant an approppriate permission for the json file to act. "
      ]
    },
    {
      "cell_type": "code",
      "execution_count": null,
      "metadata": {
        "id": "U5BmKdKmqs2v"
      },
      "outputs": [],
      "source": [
        "! mkdir ~/.kaggle\n",
        "! cp kaggle.json ~/.kaggle/\n",
        "! chmod 600 ~/.kaggle/kaggle.json"
      ]
    },
    {
      "cell_type": "code",
      "execution_count": null,
      "metadata": {
        "id": "JJSfsygmqs2v"
      },
      "outputs": [],
      "source": [
        "#To list all the available datasets we have in Kaggle we use the following command"
      ]
    },
    {
      "cell_type": "code",
      "execution_count": null,
      "metadata": {
        "colab": {
          "base_uri": "https://localhost:8080/"
        },
        "id": "WX2X79G3qs2v",
        "outputId": "af84ac96-475d-4db6-e85c-b650259f6d0b"
      },
      "outputs": [
        {
          "output_type": "stream",
          "name": "stdout",
          "text": [
            "ref                                                                   title                                                size  lastUpdated          downloadCount  voteCount  usabilityRating  \n",
            "--------------------------------------------------------------------  --------------------------------------------------  -----  -------------------  -------------  ---------  ---------------  \n",
            "arnabchaki/data-science-salaries-2023                                 Data Science Salaries 2023 💸                         25KB  2023-04-13 09:55:16          30036        828  1.0              \n",
            "tawfikelmetwally/automobile-dataset                                   Car information dataset                               6KB  2023-05-28 18:26:48           2986         83  0.9411765        \n",
            "fatihb/coffee-quality-data-cqi                                        Coffee Quality Data (CQI May-2023)                   22KB  2023-05-12 13:06:39           5314        110  1.0              \n",
            "mohithsairamreddy/salary-data                                         Salary_Data                                          17KB  2023-05-18 14:05:19           5165        102  0.88235295       \n",
            "mauryansshivam/netflix-ott-revenue-and-subscribers-csv-file           Netflix OTT Revenue and Subscribers (CSV File)        2KB  2023-05-13 17:40:23           2630         61  1.0              \n",
            "omarsobhy14/mcdonalds-revenue                                         🍟💰From Flipping Burgers to Billions: McDonald's      565B  2023-06-01 23:22:49            633         30  1.0              \n",
            "drahulsingh/list-of-best-selling-ps4-games                            List of best-selling PlayStation 4 video games        2KB  2023-06-11 17:36:59            517         22  1.0              \n",
            "zsinghrahulk/rice-pest-and-diseases                                   Rice - Pest and Diseases                            312KB  2023-06-01 08:57:29            601         28  1.0              \n",
            "iammustafatz/diabetes-prediction-dataset                              Diabetes prediction dataset                         734KB  2023-04-08 06:11:45          15708        231  1.0              \n",
            "vstacknocopyright/fruit-and-vegetable-prices                          Fruit and Vegetable Prices                            1KB  2023-06-02 06:17:43           1016         32  0.7647059        \n",
            "bilalwaseer/microsoft-stocks-from-1986-to-2023                        Microsoft Stocks from 1986 to 2023                  120KB  2023-05-16 10:07:28            994         30  1.0              \n",
            "darshanprabhu09/stock-prices-for                                      Stock prices of Amazon , Microsoft , Google, Apple   85KB  2023-05-16 15:17:16           2080         46  1.0              \n",
            "rajkumarpandey02/2023-world-population-by-country                      World Population by Country                         38KB  2023-06-01 06:10:41           1848         36  1.0              \n",
            "danishjmeo/karachi-housing-prices-2023                                Karachi_Housing_Prices_2023                           1MB  2023-06-01 07:08:13            518         28  0.9411765        \n",
            "adityaramachandran27/world-air-quality-index-by-city-and-coordinates  World Air Quality Index by City and Coordinates     372KB  2023-05-07 07:29:26           2040         44  1.0              \n",
            "dansbecker/melbourne-housing-snapshot                                 Melbourne Housing Snapshot                          451KB  2018-06-05 12:52:24         117762       1281  0.7058824        \n",
            "pushpakhinglaspure/oscar-dataset                                      Oscar Academy Award-winning films 1927-2022         161KB  2023-05-21 18:14:44            877         32  1.0              \n",
            "aryansingh0909/weekly-patent-application-granted                      Patent Application Granted Dataset                    6MB  2023-06-01 19:04:40            375         25  1.0              \n",
            "krishnaraj30/salary-prediction-data-simple-linear-regression          Salary Prediction Data - Simple linear regression    734B  2023-06-05 01:05:41            471         23  1.0              \n",
            "utkarshx27/heart-disease-diagnosis-dataset                            Heart Disease Prediction Dataset                      3KB  2023-05-26 09:33:13           1373         36  1.0              \n"
          ]
        }
      ],
      "source": [
        "! kaggle datasets list"
      ]
    },
    {
      "cell_type": "code",
      "execution_count": null,
      "metadata": {
        "id": "oXPjVckKqs2v"
      },
      "outputs": [],
      "source": [
        "#Finally, for our aim, we need to upload our dataset, and given that the url is the following one, we can download it as follows: "
      ]
    },
    {
      "cell_type": "code",
      "execution_count": null,
      "metadata": {
        "colab": {
          "base_uri": "https://localhost:8080/"
        },
        "id": "7EH1kGmSqs2v",
        "outputId": "aa0608f0-0a26-4068-8f9a-223fef890080"
      },
      "outputs": [
        {
          "output_type": "stream",
          "name": "stdout",
          "text": [
            "Downloading medal-emnlp.zip to /content\n",
            "100% 6.82G/6.82G [00:55<00:00, 159MB/s]\n",
            "100% 6.82G/6.82G [00:55<00:00, 133MB/s]\n"
          ]
        }
      ],
      "source": [
        "!kaggle datasets download -d  xhlulu/medal-emnlp"
      ]
    },
    {
      "cell_type": "code",
      "execution_count": null,
      "metadata": {
        "id": "OVYOfx92qs2w"
      },
      "outputs": [],
      "source": [
        "from zipfile import ZipFile\n"
      ]
    },
    {
      "cell_type": "code",
      "execution_count": null,
      "metadata": {
        "id": "k6LpyaAyqs2w",
        "colab": {
          "base_uri": "https://localhost:8080/"
        },
        "outputId": "52fcb07f-3983-4760-a273-a8abc27c7c4b"
      },
      "outputs": [
        {
          "output_type": "stream",
          "name": "stdout",
          "text": [
            "Done\n"
          ]
        }
      ],
      "source": [
        "file_name = \"medal-emnlp.zip\"\n",
        "\n",
        "with ZipFile(file_name, \"r\") as zip:\n",
        "  zip.extractall()\n",
        "  print(\"Done\")"
      ]
    },
    {
      "cell_type": "code",
      "execution_count": null,
      "metadata": {
        "id": "CcXMZrFHqs2w"
      },
      "outputs": [],
      "source": [
        "#SECOND PART. \n",
        "#Install Spark and construct a software that can be used to find frequent itemset (RDD). "
      ]
    },
    {
      "cell_type": "code",
      "execution_count": null,
      "metadata": {
        "id": "im3jydJiqs2w"
      },
      "outputs": [],
      "source": [
        "# install Java8\n",
        "!apt-get install openjdk-8-jdk-headless -qq > /dev/null\n",
        "# download spark3.3.2\n",
        "!wget -q https://dlcdn.apache.org/spark/spark-3.3.2/spark-3.3.2-bin-hadoop3.tgz\n",
        "# unzip it\n",
        "!tar xf spark-3.3.2-bin-hadoop3.tgz"
      ]
    },
    {
      "cell_type": "code",
      "execution_count": null,
      "metadata": {
        "id": "p3wbhZfQqs2w",
        "colab": {
          "base_uri": "https://localhost:8080/"
        },
        "outputId": "420e017e-34b6-4430-8980-bf54576d19c5"
      },
      "outputs": [
        {
          "output_type": "stream",
          "name": "stdout",
          "text": [
            "Looking in indexes: https://pypi.org/simple, https://us-python.pkg.dev/colab-wheels/public/simple/\n",
            "Requirement already satisfied: py4j in /usr/local/lib/python3.10/dist-packages (0.10.9.7)\n"
          ]
        }
      ],
      "source": [
        "!pip install py4j"
      ]
    },
    {
      "cell_type": "code",
      "execution_count": null,
      "metadata": {
        "id": "OpTiZuleqs2w",
        "colab": {
          "base_uri": "https://localhost:8080/"
        },
        "outputId": "d6ff68e9-32cd-45c2-8b06-e249b4aae527"
      },
      "outputs": [
        {
          "output_type": "stream",
          "name": "stdout",
          "text": [
            "openjdk version \"11.0.19\" 2023-04-18\n",
            "OpenJDK Runtime Environment (build 11.0.19+7-post-Ubuntu-0ubuntu120.04.1)\n",
            "OpenJDK 64-Bit Server VM (build 11.0.19+7-post-Ubuntu-0ubuntu120.04.1, mixed mode, sharing)\n"
          ]
        }
      ],
      "source": [
        "!java -version"
      ]
    },
    {
      "cell_type": "code",
      "execution_count": null,
      "metadata": {
        "id": "fjIpcFE0qs2w"
      },
      "outputs": [],
      "source": [
        "import os\n",
        "os.environ[\"JAVA_HOME\"] = \"/usr/lib/jvm/java-8-openjdk-amd64\"\n",
        "os.environ[\"SPARK_HOME\"] = '/content/spark-3.3.2-bin-hadoop3'"
      ]
    },
    {
      "cell_type": "code",
      "execution_count": null,
      "metadata": {
        "id": "CmSUVYJyqs2w",
        "colab": {
          "base_uri": "https://localhost:8080/",
          "height": 36
        },
        "outputId": "a34c3dc1-319c-41e5-bc3e-53b9c1abb0bc"
      },
      "outputs": [
        {
          "output_type": "execute_result",
          "data": {
            "text/plain": [
              "'/content/spark-3.3.2-bin-hadoop3'"
            ],
            "application/vnd.google.colaboratory.intrinsic+json": {
              "type": "string"
            }
          },
          "metadata": {},
          "execution_count": 18
        }
      ],
      "source": [
        "# Install library for finding Spark\n",
        "!pip install -q findspark\n",
        "# Import the libary\n",
        "import findspark\n",
        "# Initiate findspark\n",
        "findspark.init()\n",
        "# Check the location for Spark\n",
        "findspark.find()"
      ]
    },
    {
      "cell_type": "code",
      "execution_count": null,
      "metadata": {
        "id": "1obhh2z-qs2w",
        "colab": {
          "base_uri": "https://localhost:8080/"
        },
        "outputId": "b15b2231-971f-4a0c-c472-3b007db1f8e1"
      },
      "outputs": [
        {
          "output_type": "stream",
          "name": "stdout",
          "text": [
            "Looking in indexes: https://pypi.org/simple, https://us-python.pkg.dev/colab-wheels/public/simple/\n",
            "Collecting pyspark\n",
            "  Downloading pyspark-3.4.0.tar.gz (310.8 MB)\n",
            "\u001b[2K     \u001b[90m━━━━━━━━━━━━━━━━━━━━━━━━━━━━━━━━━━━━━━━\u001b[0m \u001b[32m310.8/310.8 MB\u001b[0m \u001b[31m3.1 MB/s\u001b[0m eta \u001b[36m0:00:00\u001b[0m\n",
            "\u001b[?25h  Preparing metadata (setup.py) ... \u001b[?25l\u001b[?25hdone\n",
            "Requirement already satisfied: py4j==0.10.9.7 in /usr/local/lib/python3.10/dist-packages (from pyspark) (0.10.9.7)\n",
            "Building wheels for collected packages: pyspark\n",
            "  Building wheel for pyspark (setup.py) ... \u001b[?25l\u001b[?25hdone\n",
            "  Created wheel for pyspark: filename=pyspark-3.4.0-py2.py3-none-any.whl size=311317130 sha256=b9793a2f43be573e4b73457ca2fcc1ff5250d1fdfc2c8fa81690e62b656b10cc\n",
            "  Stored in directory: /root/.cache/pip/wheels/7b/1b/4b/3363a1d04368e7ff0d408e57ff57966fcdf00583774e761327\n",
            "Successfully built pyspark\n",
            "Installing collected packages: pyspark\n",
            "Successfully installed pyspark-3.4.0\n"
          ]
        }
      ],
      "source": [
        "!pip install pyspark\n",
        "import pyspark"
      ]
    },
    {
      "cell_type": "code",
      "execution_count": null,
      "metadata": {
        "id": "gFs93T5Gqs2x"
      },
      "outputs": [],
      "source": [
        "from pyspark import SparkConf, SparkContext\n",
        "from pyspark.sql import SparkSession\n",
        "from pyspark.sql import SQLContext   "
      ]
    },
    {
      "cell_type": "code",
      "source": [
        "spark = SparkSession.builder.enableHiveSupport().getOrCreate()"
      ],
      "metadata": {
        "id": "xJ_zkLZmcB18"
      },
      "execution_count": null,
      "outputs": []
    },
    {
      "cell_type": "code",
      "execution_count": null,
      "metadata": {
        "id": "VhG9RBnWgjz6"
      },
      "outputs": [],
      "source": [
        "spark.conf.set(\"spark.sql.execution.arrow.pyspark.enabled\", \"true\")"
      ]
    },
    {
      "cell_type": "code",
      "execution_count": null,
      "metadata": {
        "id": "SFPIwGcGgn_g"
      },
      "outputs": [],
      "source": [
        "sc = spark.sparkContext"
      ]
    },
    {
      "cell_type": "code",
      "execution_count": null,
      "metadata": {
        "id": "YDsfNrBW9O5a"
      },
      "outputs": [],
      "source": [
        "#Upload the file"
      ]
    },
    {
      "cell_type": "code",
      "execution_count": null,
      "metadata": {
        "id": "gLiwJf84qs2x"
      },
      "outputs": [],
      "source": [
        "dataset_path = '/content/full_data.csv'"
      ]
    },
    {
      "cell_type": "code",
      "execution_count": null,
      "metadata": {
        "id": "IeHHRTlPqs2x",
        "colab": {
          "base_uri": "https://localhost:8080/"
        },
        "outputId": "59590e8c-3bbe-49e1-92b1-832c0007fb15"
      },
      "outputs": [
        {
          "output_type": "stream",
          "name": "stdout",
          "text": [
            "root\n",
            " |-- TEXT: string (nullable = true)\n",
            " |-- LOCATION: string (nullable = true)\n",
            " |-- LABEL: string (nullable = true)\n",
            "\n"
          ]
        }
      ],
      "source": [
        "df  = spark.read.format('csv') \\\n",
        "                .option('header', True) \\\n",
        "                .option('multiline', True) \\\n",
        "                .option('quote', '\"') \\\n",
        "                .option('escape', '\"') \\\n",
        "                .load(dataset_path)\n",
        "df.printSchema()"
      ]
    },
    {
      "cell_type": "code",
      "execution_count": null,
      "metadata": {
        "id": "XT5zLRICqs2x",
        "colab": {
          "base_uri": "https://localhost:8080/"
        },
        "outputId": "d3e092bd-a6ab-40d3-a71b-512c58e7091f"
      },
      "outputs": [
        {
          "output_type": "stream",
          "name": "stdout",
          "text": [
            "+--------------------+--------------------+--------------------+\n",
            "|                TEXT|            LOCATION|               LABEL|\n",
            "+--------------------+--------------------+--------------------+\n",
            "|alphabisabolol ha...|                  56|           substrate|\n",
            "|a report is given...|24|49|68|113|137|172|carcinosarcoma|re...|\n",
            "|the virostatic co...|                  55|           substrate|\n",
            "|rmi rmi and rmi a...|   25|82|127|182|222|compounds|compoun...|\n",
            "|a doubleblind stu...|22|26|28|77|90|14...|oxazepam|placebo|...|\n",
            "|stroma from eithe...|         6|82|84|107|red cells|serum|a...|\n",
            "|the effect of the...|                4|13|major|pentose pho...|\n",
            "|in one experiment...|        32|44|76|135|feeding|feeding|a...|\n",
            "|the presence of a...|7|15|63|137|199|2...|active|study|acti...|\n",
            "|the reaction of g...|     113|203|209|250|stable|assay|bind...|\n",
            "|choline acetyltra...|                  44|             caudate|\n",
            "|increasing concen...|                  81|        displacement|\n",
            "|the properties of...|         5|35|98|257|groups|functional...|\n",
            "|primary amines re...|          95|164|183|arginine|arginine...|\n",
            "|a purification pr...|     9|42|70|100|206|dihydrofolate|spe...|\n",
            "|dihydrofolate red...|71|106|118|130|15...|gel filtration|el...|\n",
            "|ionization effect...|               8|129|transition state|...|\n",
            "|kinetic analyses ...|100|155|161|254|2...|effective|inhibit...|\n",
            "|the nearultraviol...|                 166|        heterologous|\n",
            "|the circular pola...|                 248|polysaccharide an...|\n",
            "+--------------------+--------------------+--------------------+\n",
            "only showing top 20 rows\n",
            "\n"
          ]
        }
      ],
      "source": [
        "df.show()"
      ]
    },
    {
      "cell_type": "code",
      "execution_count": null,
      "metadata": {
        "id": "zUX8kdRvqs2x",
        "colab": {
          "base_uri": "https://localhost:8080/"
        },
        "outputId": "0c055cf6-6ad1-4e34-a114-a136e788a9ac"
      },
      "outputs": [
        {
          "output_type": "execute_result",
          "data": {
            "text/plain": [
              "[Row(TEXT='alphabisabolol has a primary antipeptic action depending on dosage which is not caused by an alteration of the phvalue the proteolytic activity of pepsin is reduced by percent through addition of bisabolol in the ratio of the antipeptic action of bisabolol only occurs in case of direct contact in case of a previous contact with the ATP the inhibiting effect is lost', LOCATION='56', LABEL='substrate'),\n",
              " Row(TEXT='a report is given on the recent discovery of outstanding immunological properties in ba ncyanoethyleneurea having a low molecular mass m experiments in ds CS bearing wistar rats have shown that ba at a dosage of only about percent ld mg kg and negligible lethality percent results in a REC rate of percent without hyperglycemia and in one test of percent with hyperglycemia under otherwise unchanged conditions the REF substance ifosfamide if a further development of cyclophosphamide applied without hyperglycemia in its most efficient dosage of percent ld mg kg brought about a recovery rate of percent at a lethality of percent contrary to ba min hyperglycemia caused no further improvement of the REC rate however this comparison is characterized by the fact that both substances exhibit two quite different complementary mechanisms of action leucocyte counts made T3 application of the said cancerostatics and dosages have shown a pronounced stimulation with ba and with ifosfamide the known suppression in the posttherapeutic interval usually found with standard cancerostatics in combination with the cited PI test for ba blood pictures then allow conclusions on the immunity status since if can be taken as one of the most efficient cancerostaticsthere is no other chemotherapeutic known up to now that has a more significant effect on the ds carcinosarcoma in rats these findings are of special importance finally the total amount of leucocytes and lymphocytes as well as their time behaviour was determined from the blood picture of tumourfree rats after iv application of ba the thus obtained numerical values clearly show that further research work on the prophylactic use of this substance seems to be necessary and very promising', LOCATION='24|49|68|113|137|172', LABEL='carcinosarcoma|recovery|reference|recovery|after|plaque'),\n",
              " Row(TEXT='the virostatic compound nndiethyloxotetradecylimidazolidinylethylpiperazinecarboxamidehydrochloride was analyzed as to its effect on the induction of tryptophanpyrrolase and tyrosineaminotransferase in rat liver the basic activity of the enzymes was not influenced by the substance either in normal or in adrenalectomized animals the induction of the enzymes by cortisone increased in the presence of the compound whereas the ATP induction remained unchanged the induction of tyrosineaminotransferase by dexamethasonephosphate in tissue culture is inhibited if the dose of compound is higher than mugml', LOCATION='55', LABEL='substrate')]"
            ]
          },
          "metadata": {},
          "execution_count": 28
        }
      ],
      "source": [
        "df.head(3)"
      ]
    },
    {
      "cell_type": "code",
      "execution_count": null,
      "metadata": {
        "id": "_5wTrgGuqs2x",
        "colab": {
          "base_uri": "https://localhost:8080/"
        },
        "outputId": "560d4c3c-63c6-4d82-e8a8-9540cf23ef2d"
      },
      "outputs": [
        {
          "output_type": "stream",
          "name": "stdout",
          "text": [
            "DataFrame Dimensions : (14393619, 3)\n",
            "DataFrame Rows count : 14393619\n",
            "DataFrame Columns count : 3\n"
          ]
        }
      ],
      "source": [
        "# Get row count\n",
        "rows = df.count()\n",
        "\n",
        "# Get columns count\n",
        "cols = len(df.columns)\n",
        "\n",
        "print(f\"DataFrame Dimensions : {(rows,cols)}\")\n",
        "print(f\"DataFrame Rows count : {rows}\")\n",
        "print(f\"DataFrame Columns count : {cols}\")\n",
        "     "
      ]
    },
    {
      "cell_type": "code",
      "source": [
        "from pyspark.sql.functions import desc"
      ],
      "metadata": {
        "id": "fTfcHwT8B1EP"
      },
      "execution_count": null,
      "outputs": []
    },
    {
      "cell_type": "code",
      "source": [
        "df.groupBy(\"LABEL\").count().orderBy(desc(\"count\")).show(10)"
      ],
      "metadata": {
        "colab": {
          "base_uri": "https://localhost:8080/"
        },
        "id": "NJwYzbMvF9y9",
        "outputId": "43e178eb-5805-4faa-f91f-0f5a6be1519c"
      },
      "execution_count": null,
      "outputs": [
        {
          "output_type": "stream",
          "name": "stdout",
          "text": [
            "+-----------+------+\n",
            "|      LABEL| count|\n",
            "+-----------+------+\n",
            "|      study|294977|\n",
            "|      after|114472|\n",
            "|    factors| 71336|\n",
            "|development| 66812|\n",
            "|     cancer| 61340|\n",
            "|      model| 58257|\n",
            "|     levels| 50882|\n",
            "|   function| 50024|\n",
            "|   specific| 44586|\n",
            "|   approach| 43411|\n",
            "+-----------+------+\n",
            "only showing top 10 rows\n",
            "\n"
          ]
        }
      ]
    },
    {
      "cell_type": "code",
      "source": [
        "Study_Label = df.filter( (df.LABEL == \"study\"))"
      ],
      "metadata": {
        "id": "2NrLkWXnGNG5"
      },
      "execution_count": null,
      "outputs": []
    },
    {
      "cell_type": "code",
      "source": [
        "Study_Label.show(10)"
      ],
      "metadata": {
        "id": "6PVnOW37GNJH",
        "colab": {
          "base_uri": "https://localhost:8080/"
        },
        "outputId": "9a813a6a-14d7-440e-bc19-4ca01c8d08d3"
      },
      "execution_count": null,
      "outputs": [
        {
          "output_type": "stream",
          "name": "stdout",
          "text": [
            "+--------------------+--------+-----+\n",
            "|                TEXT|LOCATION|LABEL|\n",
            "+--------------------+--------+-----+\n",
            "|the behaviour of ...|      52|study|\n",
            "|fast reaction tec...|       6|study|\n",
            "|the role of the d...|      75|study|\n",
            "|this study uses a...|      37|study|\n",
            "|a statistical T0 ...|       2|study|\n",
            "|the increasing us...|      78|study|\n",
            "|observation of th...|      33|study|\n",
            "|this T0 investiga...|       1|study|\n",
            "|in a T0 of alcoho...|       2|study|\n",
            "|the authors repor...|      31|study|\n",
            "+--------------------+--------+-----+\n",
            "only showing top 10 rows\n",
            "\n"
          ]
        }
      ]
    },
    {
      "cell_type": "code",
      "source": [
        "Study_Label.groupBy(\"TEXT\").count().orderBy(desc(\"count\")).show(10)"
      ],
      "metadata": {
        "id": "6VBqp9KjGNLx",
        "colab": {
          "base_uri": "https://localhost:8080/"
        },
        "outputId": "0e6fed55-ac58-405a-a51c-2078723dc12d"
      },
      "execution_count": null,
      "outputs": [
        {
          "output_type": "stream",
          "name": "stdout",
          "text": [
            "+--------------------+-----+\n",
            "|                TEXT|count|\n",
            "+--------------------+-----+\n",
            "|    retrospective T0|   82|\n",
            "|  a retrospective T0|   77|\n",
            "|retrospective coh...|   56|\n",
            "|   crosssectional T0|   50|\n",
            "|prospective cohor...|   44|\n",
            "|      prospective T0|   21|\n",
            "|a retrospective c...|   15|\n",
            "|retrospective cli...|   15|\n",
            "|    a prospective T0|   14|\n",
            "|      casecontrol T0|   13|\n",
            "+--------------------+-----+\n",
            "only showing top 10 rows\n",
            "\n"
          ]
        }
      ]
    },
    {
      "cell_type": "code",
      "execution_count": null,
      "metadata": {
        "id": "70EijEYsqs2y"
      },
      "outputs": [],
      "source": [
        "DF = Study_Label.select('TEXT')"
      ]
    },
    {
      "cell_type": "code",
      "execution_count": null,
      "metadata": {
        "id": "1ToeN_klqs2y",
        "colab": {
          "base_uri": "https://localhost:8080/"
        },
        "outputId": "e920e266-b859-40ef-bae8-91f7fefd57cf"
      },
      "outputs": [
        {
          "output_type": "stream",
          "name": "stdout",
          "text": [
            "+--------------------+\n",
            "|                TEXT|\n",
            "+--------------------+\n",
            "|the behaviour of ...|\n",
            "|fast reaction tec...|\n",
            "|the role of the d...|\n",
            "|this study uses a...|\n",
            "|a statistical T0 ...|\n",
            "|the increasing us...|\n",
            "|observation of th...|\n",
            "|this T0 investiga...|\n",
            "|in a T0 of alcoho...|\n",
            "|the authors repor...|\n",
            "|the plantar cushi...|\n",
            "|in solomon island...|\n",
            "|during the wet se...|\n",
            "|su is a unique ne...|\n",
            "|data are presente...|\n",
            "|the reconstituted...|\n",
            "|the cd T0 of the ...|\n",
            "|the vitamin kdepe...|\n",
            "|two new methods a...|\n",
            "|in this introduct...|\n",
            "+--------------------+\n",
            "only showing top 20 rows\n",
            "\n"
          ]
        }
      ],
      "source": [
        "DF.show()"
      ]
    },
    {
      "cell_type": "code",
      "execution_count": null,
      "metadata": {
        "id": "hMuje_3xqs2y"
      },
      "outputs": [],
      "source": [
        "#Pre-processing of the data that we have!!"
      ]
    },
    {
      "cell_type": "code",
      "execution_count": null,
      "metadata": {
        "id": "xxFc2ntAqs2y",
        "colab": {
          "base_uri": "https://localhost:8080/"
        },
        "outputId": "90050b9c-b890-485f-e76f-7fc17b74f312"
      },
      "outputs": [
        {
          "output_type": "stream",
          "name": "stdout",
          "text": [
            "Looking in indexes: https://pypi.org/simple, https://us-python.pkg.dev/colab-wheels/public/simple/\n",
            "Collecting sparknlp\n",
            "  Downloading sparknlp-1.0.0-py3-none-any.whl (1.4 kB)\n",
            "Collecting spark-nlp (from sparknlp)\n",
            "  Downloading spark_nlp-4.4.4-py2.py3-none-any.whl (489 kB)\n",
            "\u001b[2K     \u001b[90m━━━━━━━━━━━━━━━━━━━━━━━━━━━━━━━━━━━━━━━\u001b[0m \u001b[32m489.8/489.8 kB\u001b[0m \u001b[31m5.3 MB/s\u001b[0m eta \u001b[36m0:00:00\u001b[0m\n",
            "\u001b[?25hRequirement already satisfied: numpy in /usr/local/lib/python3.10/dist-packages (from sparknlp) (1.22.4)\n",
            "Installing collected packages: spark-nlp, sparknlp\n",
            "Successfully installed spark-nlp-4.4.4 sparknlp-1.0.0\n"
          ]
        }
      ],
      "source": [
        "!pip install sparknlp"
      ]
    },
    {
      "cell_type": "code",
      "execution_count": null,
      "metadata": {
        "id": "g9VwVbnJqs2y"
      },
      "outputs": [],
      "source": [
        "import sparknlp\n",
        "import math\n",
        "from sparknlp.base import *\n",
        "from sparknlp.annotator import *\n",
        "from sparknlp.common import *\n",
        "from sparknlp.pretrained import PretrainedPipeline\n",
        "from pyspark.ml import Pipeline\n",
        "import pyspark.sql.types as T\n",
        "from typing import List"
      ]
    },
    {
      "cell_type": "code",
      "execution_count": null,
      "metadata": {
        "id": "-e0sHikxqs2y"
      },
      "outputs": [],
      "source": [
        "import pandas as pd\n",
        "import numpy as np\n",
        "import matplotlib.pyplot as plt\n",
        "import itertools\n",
        "import csv\n",
        "import time\n",
        "from tqdm import tqdm"
      ]
    },
    {
      "cell_type": "code",
      "execution_count": null,
      "metadata": {
        "id": "96J2tgdoqs2y"
      },
      "outputs": [],
      "source": [
        "from pyspark.sql.functions import lower, col, udf"
      ]
    },
    {
      "cell_type": "code",
      "execution_count": null,
      "metadata": {
        "id": "uW0JtSG0qs2y"
      },
      "outputs": [],
      "source": [
        "DF_lowercase = DF.withColumn(\"processed_text\", lower(col(\"text\")))"
      ]
    },
    {
      "cell_type": "code",
      "execution_count": null,
      "metadata": {
        "colab": {
          "base_uri": "https://localhost:8080/"
        },
        "id": "Uvyd5Ypoqs2y",
        "outputId": "b34b92b1-d341-42b7-db0e-5c8157318797"
      },
      "outputs": [
        {
          "output_type": "stream",
          "name": "stdout",
          "text": [
            "+--------------------+--------------------+\n",
            "|                TEXT|      processed_text|\n",
            "+--------------------+--------------------+\n",
            "|the behaviour of ...|the behaviour of ...|\n",
            "|fast reaction tec...|fast reaction tec...|\n",
            "|the role of the d...|the role of the d...|\n",
            "|this study uses a...|this study uses a...|\n",
            "|a statistical T0 ...|a statistical t0 ...|\n",
            "|the increasing us...|the increasing us...|\n",
            "|observation of th...|observation of th...|\n",
            "|this T0 investiga...|this t0 investiga...|\n",
            "|in a T0 of alcoho...|in a t0 of alcoho...|\n",
            "|the authors repor...|the authors repor...|\n",
            "|the plantar cushi...|the plantar cushi...|\n",
            "|in solomon island...|in solomon island...|\n",
            "|during the wet se...|during the wet se...|\n",
            "|su is a unique ne...|su is a unique ne...|\n",
            "|data are presente...|data are presente...|\n",
            "|the reconstituted...|the reconstituted...|\n",
            "|the cd T0 of the ...|the cd t0 of the ...|\n",
            "|the vitamin kdepe...|the vitamin kdepe...|\n",
            "|two new methods a...|two new methods a...|\n",
            "|in this introduct...|in this introduct...|\n",
            "+--------------------+--------------------+\n",
            "only showing top 20 rows\n",
            "\n"
          ]
        }
      ],
      "source": [
        "DF_lowercase.show()"
      ]
    },
    {
      "cell_type": "code",
      "execution_count": null,
      "metadata": {
        "id": "fwod5S3Bqs2y"
      },
      "outputs": [],
      "source": [
        "from pyspark.sql.functions import regexp_replace, trim, col, lower\n"
      ]
    },
    {
      "cell_type": "code",
      "execution_count": null,
      "metadata": {
        "id": "aEL1JIIeqs2y"
      },
      "outputs": [],
      "source": [
        "def removePunctuation(column):\n",
        "   return lower(trim(regexp_replace(column,'\\p{Punct}',''))).alias('sentence')"
      ]
    },
    {
      "cell_type": "code",
      "execution_count": null,
      "metadata": {
        "colab": {
          "base_uri": "https://localhost:8080/"
        },
        "id": "n59Kad2Qqs2z",
        "outputId": "1e47588b-e237-46e5-8a2e-9ddd3b5b8335"
      },
      "outputs": [
        {
          "output_type": "stream",
          "name": "stdout",
          "text": [
            "+--------------------+\n",
            "|      processed_text|\n",
            "+--------------------+\n",
            "|the behaviour of ...|\n",
            "|fast reaction tec...|\n",
            "|the role of the d...|\n",
            "|this study uses a...|\n",
            "|a statistical t0 ...|\n",
            "+--------------------+\n",
            "only showing top 5 rows\n",
            "\n"
          ]
        }
      ],
      "source": [
        "RemoveP = DF_lowercase.select(removePunctuation(col('processed_text')).alias(\"processed_text\"))\n",
        "RemoveP.show(5)"
      ]
    },
    {
      "cell_type": "code",
      "execution_count": null,
      "metadata": {
        "id": "fCqlvaWlqs2z"
      },
      "outputs": [],
      "source": [
        "from pyspark.ml.feature import Tokenizer, StopWordsRemover\n",
        "from pyspark.sql.functions import trim,split,explode,col"
      ]
    },
    {
      "cell_type": "code",
      "execution_count": null,
      "metadata": {
        "colab": {
          "base_uri": "https://localhost:8080/"
        },
        "id": "tOGBCOKwqs2z",
        "outputId": "9a2b94fb-295e-49b4-b8d5-e8569989aa8f"
      },
      "outputs": [
        {
          "output_type": "stream",
          "name": "stdout",
          "text": [
            "+--------------------+--------------------+\n",
            "|      processed_text|         words_token|\n",
            "+--------------------+--------------------+\n",
            "|the behaviour of ...|[the, behaviour, ...|\n",
            "|fast reaction tec...|[fast, reaction, ...|\n",
            "|the role of the d...|[the, role, of, t...|\n",
            "|this study uses a...|[this, study, use...|\n",
            "|a statistical t0 ...|[a, statistical, ...|\n",
            "|the increasing us...|[the, increasing,...|\n",
            "|observation of th...|[observation, of,...|\n",
            "|this t0 investiga...|[this, t0, invest...|\n",
            "|in a t0 of alcoho...|[in, a, t0, of, a...|\n",
            "|the authors repor...|[the, authors, re...|\n",
            "|the plantar cushi...|[the, plantar, cu...|\n",
            "|in solomon island...|[in, solomon, isl...|\n",
            "|during the wet se...|[during, the, wet...|\n",
            "|su is a unique ne...|[su, is, a, uniqu...|\n",
            "|data are presente...|[data, are, prese...|\n",
            "|the reconstituted...|[the, reconstitut...|\n",
            "|the cd t0 of the ...|[the, cd, t0, of,...|\n",
            "|the vitamin kdepe...|[the, vitamin, kd...|\n",
            "|two new methods a...|[two, new, method...|\n",
            "|in this introduct...|[in, this, introd...|\n",
            "+--------------------+--------------------+\n",
            "only showing top 20 rows\n",
            "\n"
          ]
        }
      ],
      "source": [
        "tokenizer = Tokenizer(inputCol='processed_text', outputCol='words_token')\n",
        "Data = RemoveP.withColumn(\"processed_text\", trim(col(\"processed_text\")))\n",
        "DATA = tokenizer.transform(Data)\n",
        "DATA.show(20)"
      ]
    },
    {
      "cell_type": "code",
      "execution_count": null,
      "metadata": {
        "id": "_4oFWP6uqs2z"
      },
      "outputs": [],
      "source": [
        "from pyspark.ml.feature import StopWordsRemover"
      ]
    },
    {
      "cell_type": "code",
      "execution_count": null,
      "metadata": {
        "colab": {
          "base_uri": "https://localhost:8080/"
        },
        "id": "5UYLGb6Eqs2z",
        "outputId": "a8a3c9a3-7807-4251-cad4-d9deaa6cbc12"
      },
      "outputs": [
        {
          "output_type": "stream",
          "name": "stdout",
          "text": [
            "+----------------------------------------------------------------------------------------------------------------------------------------------------------------------------------------------------------------------------------------------------------------------------------------------------------------------------------------------------------------------------------------------------------------------------------------------------------------------------------------------------------------------------------------------------------------------------------------------------------------------------------------------------------------------------------------------------------------------------------------------------------------------------------------------------------------------------------------------------------------------------------------------------------------------------------------------------------------------------------------------------------------------------------------------+-----------------------------------------------------------------------------------------------------------------------------------------------------------------------------------------------------------------------------------------------------------------------------------------------------------------------------------------------------------------------------------------------------------------------------------------------------------------------------------------------------------------------------------------------------------------------------------------------------------------------------------------------------------------------------------------------------------------------------------------------------------------------------------------------------------------------------------------------------------------------------+\n",
            "|processed_text                                                                                                                                                                                                                                                                                                                                                                                                                                                                                                                                                                                                                                                                                                                                                                                                                                                                                                                                                                                                                                |words_clean                                                                                                                                                                                                                                                                                                                                                                                                                                                                                                                                                                                                                                                                                                                                                                                                                                                                  |\n",
            "+----------------------------------------------------------------------------------------------------------------------------------------------------------------------------------------------------------------------------------------------------------------------------------------------------------------------------------------------------------------------------------------------------------------------------------------------------------------------------------------------------------------------------------------------------------------------------------------------------------------------------------------------------------------------------------------------------------------------------------------------------------------------------------------------------------------------------------------------------------------------------------------------------------------------------------------------------------------------------------------------------------------------------------------------+-----------------------------------------------------------------------------------------------------------------------------------------------------------------------------------------------------------------------------------------------------------------------------------------------------------------------------------------------------------------------------------------------------------------------------------------------------------------------------------------------------------------------------------------------------------------------------------------------------------------------------------------------------------------------------------------------------------------------------------------------------------------------------------------------------------------------------------------------------------------------------+\n",
            "|the behaviour of several carbonyl group reagents and urea as timedependent inhibitors of both pig kidney and human placental diamine oxidase is described plots of log vtvo against time were not linear with these reagents as the usual theories predict this was particularly the case with aminoguanidine and phenylhydrazine and a thorough t0 of the effects of these compounds on the human placental diamine oxidase is described by applying a new theory for timedependent inhibition the inhibition of diamine oxidase by aminoguanidine and phenylhydrazine is adequately accounted for the timedependent recovery of activity on addition of sodium pyruvate suggested that the compounds used are acting solely as carbonyl group reagents inhibiting by schiffbase formation at the activesite carbonyl group                                                                                                                                                                                                                  |[behaviour, several, carbonyl, group, reagents, urea, timedependent, inhibitors, pig, kidney, human, placental, diamine, oxidase, described, plots, log, vtvo, time, linear, reagents, usual, theories, predict, particularly, case, aminoguanidine, phenylhydrazine, thorough, t0, effects, compounds, human, placental, diamine, oxidase, described, applying, new, theory, timedependent, inhibition, inhibition, diamine, oxidase, aminoguanidine, phenylhydrazine, adequately, accounted, timedependent, recovery, activity, addition, sodium, pyruvate, suggested, compounds, used, acting, solely, carbonyl, group, reagents, inhibiting, schiffbase, formation, activesite, carbonyl, group]                                                                                                                                                                         |\n",
            "|fast reaction techniques were used to t0 the kinetics of protein fluorescence intensity changes that are associated with the reactions of unadenylylated escherichia coli glutamine synthetase lglutamate ammonia ligase adpforming ec with its substrates it was established that the synthesis of glutamine occurs by a stepwise mechanism during the catalytic process two fluorometrically distinct intermediates were observed both forward and reverse rate constants which lead to the formation and consumption of these intermediates were evaluated the catalytic rate constant kc which was calculated from these rate constants agrees well with the values of kc which were determined by direct measurement of the overall biosynthetic activities by means of stoppedflow technique or the steadystate assay method                                                                                                                                                                                                            |[fast, reaction, techniques, used, t0, kinetics, protein, fluorescence, intensity, changes, associated, reactions, unadenylylated, escherichia, coli, glutamine, synthetase, lglutamate, ammonia, ligase, adpforming, ec, substrates, established, synthesis, glutamine, occurs, stepwise, mechanism, catalytic, process, two, fluorometrically, distinct, intermediates, observed, forward, reverse, rate, constants, lead, formation, consumption, intermediates, evaluated, catalytic, rate, constant, kc, calculated, rate, constants, agrees, well, values, kc, determined, direct, measurement, overall, biosynthetic, activities, means, stoppedflow, technique, steadystate, assay, method]                                                                                                                                                                          |\n",
            "|the role of the different cytochromes p in the metabolism of the anaesthetic agent fluroxene and the mechanism of production of toxic effects seen after pretreatment of the animals with pehnobarbital prior to anaesthesia have been investigated male rats were anaesthetized with fluroxene or with trifluroethyl ethyl ether or with ethyl vinyl ether in an attempt to ascertain the in vivo toxic effects of the three anaesthetic agents the resultant hepatic histology is reported a t0 of the binding and metabolism of fluroxene by isolated rat hepatic microsomes was also made we conclude that it is elevated levels of cytochrome p which potentiate the toxicity of fluroxene anaesthesia in phenobarbital treated animals and that cytochrome p does not bind or metabolize fluroxene the potential toxicity of the fluroxene molecule is considered to reside in the trifluoroethyl moiety while the vinyl group of fluroxene appears to play a role in the observed liver damage                                         |[role, different, cytochromes, p, metabolism, anaesthetic, agent, fluroxene, mechanism, production, toxic, effects, seen, pretreatment, animals, pehnobarbital, prior, anaesthesia, investigated, male, rats, anaesthetized, fluroxene, trifluroethyl, ethyl, ether, ethyl, vinyl, ether, attempt, ascertain, vivo, toxic, effects, three, anaesthetic, agents, resultant, hepatic, histology, reported, t0, binding, metabolism, fluroxene, isolated, rat, hepatic, microsomes, also, made, conclude, elevated, levels, cytochrome, p, potentiate, toxicity, fluroxene, anaesthesia, phenobarbital, treated, animals, cytochrome, p, bind, metabolize, fluroxene, potential, toxicity, fluroxene, molecule, considered, reside, trifluoroethyl, moiety, vinyl, group, fluroxene, appears, play, role, observed, liver, damage]                                              |\n",
            "|this study uses a task delegation questionnaire to compare physician extender practices in seven primary careoriented sites with a physician attitude survey made in one additional site using no physician extenders was included as a control the t0 involves both major types of physician extenders physician assistants and nurse practitioners in ambulatory practices with at least one year of experience in using such personnel with minor exceptions actual task delegation patterns conform with the attitudes of physicians as to which tasks could and should be delegated to physician extenders                                                                                                                                                                                                                                                                                                                                                                                                                               |[study, uses, task, delegation, questionnaire, compare, physician, extender, practices, seven, primary, careoriented, sites, physician, attitude, survey, made, one, additional, site, using, physician, extenders, included, control, t0, involves, major, types, physician, extenders, physician, assistants, nurse, practitioners, ambulatory, practices, least, one, year, experience, using, personnel, minor, exceptions, actual, task, delegation, patterns, conform, attitudes, physicians, tasks, delegated, physician, extenders]                                                                                                                                                                                                                                                                                                                                  |\n",
            "|a statistical t0 bearing upon othe fall of blood pressure concomitant with the setting of peridural anaesthesia was carried out upon an homogeneous series of patients over belonging to groups iii and iv of the a s a classification for interventions seating below the ixth metamere from this study it seems to follow that for starting maximum arterial tensions over mmhg pressure falls are virtually constant in absolute value the most important variations in pressure falls are to be found in abdominal surgery the lowest figure in blood pressure which accompanies the achievement of surgical analgesia takes place about the th minute whatever the type of surgery can be no significant link can be evidence between the importance of the fall in blood pressure and the consumption of the mixture required for surgical analgesia                                                                                                                                                                                    |[statistical, t0, bearing, upon, othe, fall, blood, pressure, concomitant, setting, peridural, anaesthesia, carried, upon, homogeneous, series, patients, belonging, groups, iii, iv, classification, interventions, seating, ixth, metamere, study, seems, follow, starting, maximum, arterial, tensions, mmhg, pressure, falls, virtually, constant, absolute, value, important, variations, pressure, falls, found, abdominal, surgery, lowest, figure, blood, pressure, accompanies, achievement, surgical, analgesia, takes, place, th, minute, whatever, type, surgery, significant, link, evidence, importance, fall, blood, pressure, consumption, mixture, required, surgical, analgesia]                                                                                                                                                                           |\n",
            "|the increasing use of medications during pregnancy and labour leads to the question of their true effectiveness and the absence of harmful effects for both mother and foetus study of the action of medications given to the pregnant woman requires clinical trials with precise methodology including as an essential stage the definition of an experimental protocol random distribution of the subjects to the various groups and statistical analysis of the results based upon objective criteria are essential no t0 of the action of a medication as far as mother and foetus should be undertaken without prior parmacological and pharmacokinetic trials                                                                                                                                                                                                                                                                                                                                                                          |[increasing, use, medications, pregnancy, labour, leads, question, true, effectiveness, absence, harmful, effects, mother, foetus, study, action, medications, given, pregnant, woman, requires, clinical, trials, precise, methodology, including, essential, stage, definition, experimental, protocol, random, distribution, subjects, various, groups, statistical, analysis, results, based, upon, objective, criteria, essential, t0, action, medication, far, mother, foetus, undertaken, without, prior, parmacological, pharmacokinetic, trials]                                                                                                                                                                                                                                                                                                                    |\n",
            "|observation of the behaviour of platelets in hypotonic media affords an approach to the evaluation of their fragility it should be possible to apply such a test to various fields such as the t0 of rheological properties of platelets the investigation of certain pathological cases and eventual alterations during storage the curve obtained reflects a continuous distribution of platelet osmotic fragility                                                                                                                                                                                                                                                                                                                                                                                                                                                                                                                                                                                                                          |[observation, behaviour, platelets, hypotonic, media, affords, approach, evaluation, fragility, possible, apply, test, various, fields, t0, rheological, properties, platelets, investigation, certain, pathological, cases, eventual, alterations, storage, curve, obtained, reflects, continuous, distribution, platelet, osmotic, fragility]                                                                                                                                                                                                                                                                                                                                                                                                                                                                                                                              |\n",
            "|this t0 investigates the effect of flunitrazepam a new benzodiazepine on the sleep of insomniac patients under chronic treatment polygraphic recordings have shown that this drug decreases not only the activity of the wakefulness system but also the activity of the synchronizing system of slowwave sleep the subjective feeling of improved and sounder sleep seems to be related to a decrease of wakefulness pressure as well as to a decrease of body motoricity but not with the modification of sleep stages themselves flunitrazepam appears to possess some regulatory properties on rem sleep since this stage is enhanced in patients with an initial low amount of rem sleep and decreased in those having a higher initial rem sleep flunitrazepam possesses potent and useful hypnogenic properties in man but does not induce physiological sleep                                                                                                                                                                         |[t0, investigates, effect, flunitrazepam, new, benzodiazepine, sleep, insomniac, patients, chronic, treatment, polygraphic, recordings, shown, drug, decreases, activity, wakefulness, system, also, activity, synchronizing, system, slowwave, sleep, subjective, feeling, improved, sounder, sleep, seems, related, decrease, wakefulness, pressure, well, decrease, body, motoricity, modification, sleep, stages, flunitrazepam, appears, possess, regulatory, properties, rem, sleep, since, stage, enhanced, patients, initial, low, amount, rem, sleep, decreased, higher, initial, rem, sleep, flunitrazepam, possesses, potent, useful, hypnogenic, properties, man, induce, physiological, sleep]                                                                                                                                                                  |\n",
            "|in a t0 of alcoholics a positive relationship between the development of anomy and the development of alcoholism was found                                                                                                                                                                                                                                                                                                                                                                                                                                                                                                                                                                                                                                                                                                                                                                                                                                                                                                                    |[t0, alcoholics, positive, relationship, development, anomy, development, alcoholism, found]                                                                                                                                                                                                                                                                                                                                                                                                                                                                                                                                                                                                                                                                                                                                                                                 |\n",
            "|the authors report two cases of periarteritis nodosa associated with carcinoma the first case was a man with an anaplastic bronchial carcinoma the second was a woman with a rectal adenocarcinoma t0 of the association of certain collagen diseases with carcinoma was made to emphasize the great rareness of this association                                                                                                                                                                                                                                                                                                                                                                                                                                                                                                                                                                                                                                                                                                             |[authors, report, two, cases, periarteritis, nodosa, associated, carcinoma, first, case, man, anaplastic, bronchial, carcinoma, second, woman, rectal, adenocarcinoma, t0, association, certain, collagen, diseases, carcinoma, made, emphasize, great, rareness, association]                                                                                                                                                                                                                                                                                                                                                                                                                                                                                                                                                                                               |\n",
            "|the plantar cushion reflex in cats was examined as a model system in a mammal for the t0 of the effects of repeated stimulation on neural transmission effects of various frequencies and intensities of stimulation were similar to those seen in other reflex systems for instance for a fixed number of stimuli habituation of the plantar cushion reflex was more marked at hz than at hz and with x threshold stimulation than with x threshold stimulation sensitization occurred at intermediate intensities and frequencies of stimulation dorsal root potentials were studied changes in dorsal root potentials during iterated stimulation did not correlate with the changes in the plantar cushion reflex these changes in the plantar cushion reflex were also unrelated to variations in afferent transmission peripheral to the spinal cord sensitization and habituation in the plantar cushion reflex occurred during iterated stimulation were produced centrally and were unrelated to mechanisms of presynaptic inhibition|[plantar, cushion, reflex, cats, examined, model, system, mammal, t0, effects, repeated, stimulation, neural, transmission, effects, various, frequencies, intensities, stimulation, similar, seen, reflex, systems, instance, fixed, number, stimuli, habituation, plantar, cushion, reflex, marked, hz, hz, x, threshold, stimulation, x, threshold, stimulation, sensitization, occurred, intermediate, intensities, frequencies, stimulation, dorsal, root, potentials, studied, changes, dorsal, root, potentials, iterated, stimulation, correlate, changes, plantar, cushion, reflex, changes, plantar, cushion, reflex, also, unrelated, variations, afferent, transmission, peripheral, spinal, cord, sensitization, habituation, plantar, cushion, reflex, occurred, iterated, stimulation, produced, centrally, unrelated, mechanisms, presynaptic, inhibition]   |\n",
            "|in solomon islands filariasis is caused by the nocturnally perodic form of wuchereria bancrofti and is transmitted by the same vectors of malaria this t0 explores the control of this disease as an additional effect of the malaria eradication programme                                                                                                                                                                                                                                                                                                                                                                                                                                                                                                                                                                                                                                                                                                                                                                                   |[solomon, islands, filariasis, caused, nocturnally, perodic, form, wuchereria, bancrofti, transmitted, vectors, malaria, t0, explores, control, disease, additional, effect, malaria, eradication, programme]                                                                                                                                                                                                                                                                                                                                                                                                                                                                                                                                                                                                                                                                |\n",
            "|during the wet seasons of and possibly sentinel horses became infected by venezuelan encephalitis ve virus in a temporally and geographically progressive manner inland from an enzootic marsh focus of virus on the pacific couast of southeastern guatemala during the wet seasons of and ve virus was detected by sentinel horses and a sentinel hamster in in a small woods km north of the marsh but virus was undetectable there during the dry seasons of and and the wet season of culex melanoconion mosquitoes were found in this woods and at the marsh during august these observations are compatible with movement of ve virus from the marsh habitat during some wet seasons however virus activity in this region adjacent to the marsh was quantitatively unpredictable on a yearly basis and occurred in only very focal habitats during to mechanisms of ve virus movement from the marsh are currently unknown but bats are under t0 as a likely possibility                                                              |[wet, seasons, possibly, sentinel, horses, became, infected, venezuelan, encephalitis, ve, virus, temporally, geographically, progressive, manner, inland, enzootic, marsh, focus, virus, pacific, couast, southeastern, guatemala, wet, seasons, ve, virus, detected, sentinel, horses, sentinel, hamster, small, woods, km, north, marsh, virus, undetectable, dry, seasons, wet, season, culex, melanoconion, mosquitoes, found, woods, marsh, august, observations, compatible, movement, ve, virus, marsh, habitat, wet, seasons, however, virus, activity, region, adjacent, marsh, quantitatively, unpredictable, yearly, basis, occurred, focal, habitats, mechanisms, ve, virus, movement, marsh, currently, unknown, bats, t0, likely, possibility]                                                                                                                |\n",
            "|su is a unique new hybrid molecule the animal profile being characteristic of neuroleptic activity although the trial was uncontrolled there appears to be no doubt that su exerts antipsychotic activity between mg and mg daily in severely ill schizophrenic patients seven of the ten subjects required at least transient antiparkinson medication two patients demonstrated premature ventricular contractions one patient had infrequent pvcs at baseline which increased in frequency with rising dosage the other patient developed frequent premature ventricular contractions only after active and medication was initiated and was subsequently withdrawn from the t0                                                                                                                                                                                                                                                                                                                                                            |[su, unique, new, hybrid, molecule, animal, profile, characteristic, neuroleptic, activity, although, trial, uncontrolled, appears, doubt, su, exerts, antipsychotic, activity, mg, mg, daily, severely, ill, schizophrenic, patients, seven, ten, subjects, required, least, transient, antiparkinson, medication, two, patients, demonstrated, premature, ventricular, contractions, one, patient, infrequent, pvcs, baseline, increased, frequency, rising, dosage, patient, developed, frequent, premature, ventricular, contractions, active, medication, initiated, subsequently, withdrawn, t0]                                                                                                                                                                                                                                                                       |\n",
            "|data are presented which indicate that specially selected art students can be trained to evaluate radiographs as to the presence or absence of significant pathology with an accuracy equivalent to that of experienced staff radiologists the methods employed in this training programnamely stressing perceptual recognition of normal and abnormal findingsmay be beneficial in the early months of training of diagnostic radiology residents to hasten achievement of an acceptable perceptual performance test films used in this t0 as an evaluation technique may also be useful to assess residents progress                                                                                                                                                                                                                                                                                                                                                                                                                        |[data, presented, indicate, specially, selected, art, students, trained, evaluate, radiographs, presence, absence, significant, pathology, accuracy, equivalent, experienced, staff, radiologists, methods, employed, training, programnamely, stressing, perceptual, recognition, normal, abnormal, findingsmay, beneficial, early, months, training, diagnostic, radiology, residents, hasten, achievement, acceptable, perceptual, performance, test, films, used, t0, evaluation, technique, may, also, useful, assess, residents, progress]                                                                                                                                                                                                                                                                                                                             |\n",
            "|the reconstituted liver microsomal hydroxylation system was used to t0 the formation of a metabolitecytochrome p complex absorbing maximally at nm with benzphetamine and nhydroxyamphetamine as substrates complex formation required the presence of nadph substrate nadphcytochrome c reductase lipid and cytochrome p indicating that metabolism of the substrate is essential in the presence of fixed amounts of lipid and nadphcytochrome c reductase the rate of complex formation with cytochrome p isolated from phenobarbitaltreated rats was much greater than that observed with cytochrome p from methylcholanthrenetreated rats or rabbits these results are consistent with recent studies indicating that different forms of cytochrome p with distinct spectral catalytic and immunological properties exist in liver microsomes                                                                                                                                                                                            |[reconstituted, liver, microsomal, hydroxylation, system, used, t0, formation, metabolitecytochrome, p, complex, absorbing, maximally, nm, benzphetamine, nhydroxyamphetamine, substrates, complex, formation, required, presence, nadph, substrate, nadphcytochrome, c, reductase, lipid, cytochrome, p, indicating, metabolism, substrate, essential, presence, fixed, amounts, lipid, nadphcytochrome, c, reductase, rate, complex, formation, cytochrome, p, isolated, phenobarbitaltreated, rats, much, greater, observed, cytochrome, p, methylcholanthrenetreated, rats, rabbits, results, consistent, recent, studies, indicating, different, forms, cytochrome, p, distinct, spectral, catalytic, immunological, properties, exist, liver, microsomes]                                                                                                              |\n",
            "|the cd t0 of the dnapolylhistidine complex at high degree of protonation revealed that complex formation is already observable at m nacl the influence of salt together with m urea suggests that in addition to electrostatic interactions probably hydrogen bonding may favour specific complexes affinity of protonated histidines to atrich regions is strongly supported by the complexes formed with dadtcontaining polymers the psitype structure occurs with polydadtpolydadt while polydapolydt is restricted to form a similar psistate on interaction with highly protonated polylhistidine differences in the helix winding properties due to variation in the sequence is suggested as a possible factor in the formation of the psitype complexes the mechanism of interaction including hydrogen bonding of histidine sidechains with an at pair at high degree of protonation and with gcregions at lower degree of protonation in the polypeptide structure is discussed                                                     |[cd, t0, dnapolylhistidine, complex, high, degree, protonation, revealed, complex, formation, already, observable, m, nacl, influence, salt, together, m, urea, suggests, addition, electrostatic, interactions, probably, hydrogen, bonding, may, favour, specific, complexes, affinity, protonated, histidines, atrich, regions, strongly, supported, complexes, formed, dadtcontaining, polymers, psitype, structure, occurs, polydadtpolydadt, polydapolydt, restricted, form, similar, psistate, interaction, highly, protonated, polylhistidine, differences, helix, winding, properties, due, variation, sequence, suggested, possible, factor, formation, psitype, complexes, mechanism, interaction, including, hydrogen, bonding, histidine, sidechains, pair, high, degree, protonation, gcregions, lower, degree, protonation, polypeptide, structure, discussed]|\n",
            "|the vitamin kdependent carboxylating system has been solubilized by lubrol px or triton x treatment of vitamin kdeficient rat liver microsomes as obtained from vitamin kdeficient rat liver this soluble preparation is dependent upon the in vitro addition of vitamin k for carboxylating activity the enzyme system is complex and is dependent upon nadh and dithiothreitol for maximum activity while detergents used to solubilize the enzyme complex do markedly inhibit the activity of the system the solubilized system is still highly responsive to vitamin k addition and can be used for further t0 of the carboxylating enzyme system the requirement for dithiothreitol and the inhibition by phydroxymercuribenzoate indicate the involvement of an sh enzyme in the carboxylating system                                                                                                                                                                                                                                   |[vitamin, kdependent, carboxylating, system, solubilized, lubrol, px, triton, x, treatment, vitamin, kdeficient, rat, liver, microsomes, obtained, vitamin, kdeficient, rat, liver, soluble, preparation, dependent, upon, vitro, addition, vitamin, k, carboxylating, activity, enzyme, system, complex, dependent, upon, nadh, dithiothreitol, maximum, activity, detergents, used, solubilize, enzyme, complex, markedly, inhibit, activity, system, solubilized, system, still, highly, responsive, vitamin, k, addition, used, t0, carboxylating, enzyme, system, requirement, dithiothreitol, inhibition, phydroxymercuribenzoate, indicate, involvement, sh, enzyme, carboxylating, system]                                                                                                                                                                           |\n",
            "|two new methods are described for the t0 of hepatic hydroxymethylglutaryl coenzyme a hmg coa reductase endoplasmic reticulum was rapidly prepared by diluting a g supernatant with buffer containing mm calcium chloride the yield of protein and the specific activity of hmg coa reductase in the pellet subsequently obtained by low speed centrifugation were nearly identical to those in the microsomal pellet prepared by ultracentrifugation this technique may be particularly useful in studies of the rapid in vitro modulation of the enzyme mevalonolactone was extracted into benzene from the hmg coa reductase assay mixture with an efficiency of there was less than extraction of hmg coa acetoacetate or betahydroxybutyrate the extracted mevalonolactone was at least pure as judged by thinlayer chromatography with four different solvent systems these improved methods should significantly aid studies of the physiological importance of hmg coa reductase                                                       |[two, new, methods, described, t0, hepatic, hydroxymethylglutaryl, coenzyme, hmg, coa, reductase, endoplasmic, reticulum, rapidly, prepared, diluting, g, supernatant, buffer, containing, mm, calcium, chloride, yield, protein, specific, activity, hmg, coa, reductase, pellet, subsequently, obtained, low, speed, centrifugation, nearly, identical, microsomal, pellet, prepared, ultracentrifugation, technique, may, particularly, useful, studies, rapid, vitro, modulation, enzyme, mevalonolactone, extracted, benzene, hmg, coa, reductase, assay, mixture, efficiency, less, extraction, hmg, coa, acetoacetate, betahydroxybutyrate, extracted, mevalonolactone, least, pure, judged, thinlayer, chromatography, four, different, solvent, systems, improved, methods, significantly, aid, studies, physiological, importance, hmg, coa, reductase]            |\n",
            "|in this introductory t0 our actual knowledge on the tendons is resumed and it is pointed out that on the basis of this knowledge no explanation is given as regards the pathomechanism of the spontaneous tendon ruptures the authors concept on the tendons as motor units is discussed the examinations are dealt with by which the authors intend to revise the conventional static tendon model                                                                                                                                                                                                                                                                                                                                                                                                                                                                                                                                                                                                                                           |[introductory, t0, actual, knowledge, tendons, resumed, pointed, basis, knowledge, explanation, given, regards, pathomechanism, spontaneous, tendon, ruptures, authors, concept, tendons, motor, units, discussed, examinations, dealt, authors, intend, revise, conventional, static, tendon, model]                                                                                                                                                                                                                                                                                                                                                                                                                                                                                                                                                                        |\n",
            "+----------------------------------------------------------------------------------------------------------------------------------------------------------------------------------------------------------------------------------------------------------------------------------------------------------------------------------------------------------------------------------------------------------------------------------------------------------------------------------------------------------------------------------------------------------------------------------------------------------------------------------------------------------------------------------------------------------------------------------------------------------------------------------------------------------------------------------------------------------------------------------------------------------------------------------------------------------------------------------------------------------------------------------------------+-----------------------------------------------------------------------------------------------------------------------------------------------------------------------------------------------------------------------------------------------------------------------------------------------------------------------------------------------------------------------------------------------------------------------------------------------------------------------------------------------------------------------------------------------------------------------------------------------------------------------------------------------------------------------------------------------------------------------------------------------------------------------------------------------------------------------------------------------------------------------------+\n",
            "only showing top 20 rows\n",
            "\n"
          ]
        }
      ],
      "source": [
        "remover = StopWordsRemover(inputCol='words_token', outputCol='words_clean')\n",
        "Df = remover.transform(DATA).select(\"processed_text\",'words_clean')\n",
        "Df.show(truncate=False)"
      ]
    },
    {
      "cell_type": "code",
      "execution_count": null,
      "metadata": {
        "id": "WS9Cs0tlqs2z"
      },
      "outputs": [],
      "source": [
        "#The following code is trying to eliminate some duplicated words that we have in each sentence. "
      ]
    },
    {
      "cell_type": "code",
      "execution_count": null,
      "metadata": {
        "id": "AtVO46mQqs2z"
      },
      "outputs": [],
      "source": [
        "from pyspark.sql.functions import udf\n",
        "from pyspark.sql.types import ArrayType,StringType    "
      ]
    },
    {
      "cell_type": "code",
      "execution_count": null,
      "metadata": {
        "colab": {
          "base_uri": "https://localhost:8080/"
        },
        "id": "z7CH-i9Eqs2z",
        "outputId": "d1b6adfe-4a90-4623-8f88-f8f769372ab3"
      },
      "outputs": [
        {
          "output_type": "stream",
          "name": "stdout",
          "text": [
            "+--------------------+--------------------+\n",
            "|      processed_text|         words_clean|\n",
            "+--------------------+--------------------+\n",
            "|the behaviour of ...|[behaviour, human...|\n",
            "|fast reaction tec...|[protein, means, ...|\n",
            "|the role of the d...|[production, appe...|\n",
            "|this study uses a...|[compare, least, ...|\n",
            "|a statistical t0 ...|[starting, import...|\n",
            "|the increasing us...|[distribution, le...|\n",
            "|observation of th...|[behaviour, certa...|\n",
            "|this t0 investiga...|[appears, new, de...|\n",
            "|in a t0 of alcoho...|[development, fou...|\n",
            "|the authors repor...|[certain, second,...|\n",
            "+--------------------+--------------------+\n",
            "only showing top 10 rows\n",
            "\n"
          ]
        }
      ],
      "source": [
        "get_uniques=udf(lambda x: list(set(x)), ArrayType(StringType()))\n",
        "\n",
        "DataBase = Df.withColumn(\"words_clean\", get_uniques(Df.words_clean))\n",
        "DataBase.show(10)"
      ]
    },
    {
      "cell_type": "code",
      "execution_count": null,
      "metadata": {
        "id": "B_Vp1rEj5Y_8"
      },
      "outputs": [],
      "source": [
        "from pyspark.sql.functions import collect_set\n",
        "from pyspark.sql.types import IntegerType"
      ]
    },
    {
      "cell_type": "code",
      "execution_count": null,
      "metadata": {
        "id": "WMl4nPVP5ZGO"
      },
      "outputs": [],
      "source": [
        "slen = udf(lambda s: len(s), IntegerType())\n",
        "DB = DataBase.withColumn(\"word_count\", slen(DataBase.words_clean))"
      ]
    },
    {
      "cell_type": "code",
      "execution_count": null,
      "metadata": {
        "colab": {
          "base_uri": "https://localhost:8080/"
        },
        "id": "xMuwqF_15ZJD",
        "outputId": "f0759271-554a-42ae-b8bf-80538763d7cf"
      },
      "outputs": [
        {
          "output_type": "stream",
          "name": "stdout",
          "text": [
            "+--------------------+--------------------+----------+\n",
            "|      processed_text|         words_clean|word_count|\n",
            "+--------------------+--------------------+----------+\n",
            "|the behaviour of ...|[behaviour, human...|        50|\n",
            "|fast reaction tec...|[protein, means, ...|        61|\n",
            "|the role of the d...|[production, appe...|        64|\n",
            "|this study uses a...|[compare, least, ...|        44|\n",
            "|a statistical t0 ...|[starting, import...|        62|\n",
            "|the increasing us...|[distribution, le...|        50|\n",
            "|observation of th...|[behaviour, certa...|        31|\n",
            "|this t0 investiga...|[appears, new, de...|        55|\n",
            "|in a t0 of alcoho...|[development, fou...|         8|\n",
            "|the authors repor...|[certain, second,...|        26|\n",
            "|the plantar cushi...|[instance, correl...|        51|\n",
            "|in solomon island...|[additional, prog...|        20|\n",
            "|during the wet se...|[basis, horses, u...|        59|\n",
            "|su is a unique ne...|[ill, least, unco...|        52|\n",
            "|data are presente...|[radiographs, tec...|        50|\n",
            "|the reconstituted...|[greater, presenc...|        53|\n",
            "|the cd t0 of the ...|[dadtcontaining, ...|        69|\n",
            "|the vitamin kdepe...|[detergents, stil...|        43|\n",
            "|two new methods a...|[protein, techniq...|        70|\n",
            "|in this introduct...|[basis, concept, ...|        27|\n",
            "+--------------------+--------------------+----------+\n",
            "only showing top 20 rows\n",
            "\n"
          ]
        }
      ],
      "source": [
        "DB.show()"
      ]
    },
    {
      "cell_type": "code",
      "execution_count": null,
      "metadata": {
        "id": "nqEKmkJjqs20"
      },
      "outputs": [],
      "source": [
        "import pyspark.sql.functions as F"
      ]
    },
    {
      "cell_type": "code",
      "execution_count": null,
      "metadata": {
        "id": "aXEiZXOQqs20"
      },
      "outputs": [],
      "source": [
        "DB.createOrReplaceTempView(\"df_view\")\n",
        "\n",
        "MeDal = spark.sql(\"SELECT processed_text, words_clean AS items, word_count FROM df_view\")"
      ]
    },
    {
      "cell_type": "code",
      "execution_count": null,
      "metadata": {
        "colab": {
          "base_uri": "https://localhost:8080/"
        },
        "id": "9nBYypr7qs20",
        "outputId": "83070667-8951-4d07-fc66-77f6e3b3380c"
      },
      "outputs": [
        {
          "output_type": "stream",
          "name": "stdout",
          "text": [
            "root\n",
            " |-- processed_text: string (nullable = true)\n",
            " |-- items: array (nullable = true)\n",
            " |    |-- element: string (containsNull = true)\n",
            " |-- word_count: integer (nullable = true)\n",
            "\n"
          ]
        }
      ],
      "source": [
        "MeDal.printSchema()"
      ]
    },
    {
      "cell_type": "code",
      "source": [
        "#FPGrowth"
      ],
      "metadata": {
        "id": "UjaqO2KDASSL"
      },
      "execution_count": null,
      "outputs": []
    },
    {
      "cell_type": "code",
      "execution_count": null,
      "metadata": {
        "id": "RTnmWN4UaClY"
      },
      "outputs": [],
      "source": [
        "from pyspark.ml.fpm import FPGrowth"
      ]
    },
    {
      "cell_type": "code",
      "source": [
        "#Frequent Pattern Growth – FP Growth is a method of mining frequent itemsets using support, lift, and confidence.\n",
        "fpGrowth = FPGrowth(itemsCol=\"items\", minSupport=0.1, minConfidence=0.1)\n",
        "model = fpGrowth.fit(MeDal)"
      ],
      "metadata": {
        "id": "jlpSsVUv_gTr"
      },
      "execution_count": null,
      "outputs": []
    },
    {
      "cell_type": "code",
      "source": [
        "# Display frequent itemsets.\n",
        "mostPopularItemInABasket = model.freqItemsets\n",
        "mostPopularItemInABasket.createOrReplaceTempView(\"mostPopularItemInABasket\")\n",
        "mostPopularItemInABasket.show()"
      ],
      "metadata": {
        "colab": {
          "base_uri": "https://localhost:8080/"
        },
        "id": "xFgAHo5y_gbu",
        "outputId": "d0378632-6b24-4a7d-a5ab-8d7f139edfae"
      },
      "execution_count": null,
      "outputs": [
        {
          "output_type": "stream",
          "name": "stdout",
          "text": [
            "+--------------+-----+\n",
            "|         items| freq|\n",
            "+--------------+-----+\n",
            "|         [may]|31004|\n",
            "|     [may, t0]|31004|\n",
            "|        [data]|29668|\n",
            "|    [data, t0]|29668|\n",
            "|         [aim]|46949|\n",
            "|     [aim, t0]|46949|\n",
            "|       [using]|40581|\n",
            "|   [using, t0]|40581|\n",
            "|       [study]|42329|\n",
            "|   [study, t0]|42329|\n",
            "|        [used]|38166|\n",
            "|    [used, t0]|38166|\n",
            "|    [patients]|58487|\n",
            "|[patients, t0]|58487|\n",
            "|        [also]|30148|\n",
            "|    [also, t0]|30148|\n",
            "|         [two]|30838|\n",
            "|     [two, t0]|30838|\n",
            "|     [results]|45547|\n",
            "| [results, t0]|45547|\n",
            "+--------------+-----+\n",
            "only showing top 20 rows\n",
            "\n"
          ]
        }
      ]
    },
    {
      "cell_type": "code",
      "source": [
        "from pyspark.sql import SparkSession"
      ],
      "metadata": {
        "id": "h3gkHVYlBSWv"
      },
      "execution_count": null,
      "outputs": []
    },
    {
      "cell_type": "code",
      "source": [
        "query = \"\"\"select items, freq\n",
        "           from mostPopularItemInABasket\n",
        "           order by freq desc\n",
        "           limit 20\"\"\"\n",
        "spark.sql(query).show()"
      ],
      "metadata": {
        "colab": {
          "base_uri": "https://localhost:8080/"
        },
        "id": "QGsiAgCVB2_A",
        "outputId": "f7a7b79a-9967-47fd-9a93-95dd8e11ac16"
      },
      "execution_count": null,
      "outputs": [
        {
          "output_type": "stream",
          "name": "stdout",
          "text": [
            "+--------------+------+\n",
            "|         items|  freq|\n",
            "+--------------+------+\n",
            "|          [t0]|294977|\n",
            "|    [patients]| 58487|\n",
            "|[patients, t0]| 58487|\n",
            "|         [aim]| 46949|\n",
            "|     [aim, t0]| 46949|\n",
            "|     [results]| 45547|\n",
            "| [results, t0]| 45547|\n",
            "|       [study]| 42329|\n",
            "|   [study, t0]| 42329|\n",
            "|       [using]| 40581|\n",
            "|   [using, t0]| 40581|\n",
            "|     [present]| 38754|\n",
            "| [present, t0]| 38754|\n",
            "|        [used]| 38166|\n",
            "|    [used, t0]| 38166|\n",
            "|         [may]| 31004|\n",
            "|     [may, t0]| 31004|\n",
            "|         [two]| 30838|\n",
            "|     [two, t0]| 30838|\n",
            "|        [also]| 30148|\n",
            "+--------------+------+\n",
            "\n"
          ]
        }
      ]
    },
    {
      "cell_type": "code",
      "execution_count": null,
      "metadata": {
        "colab": {
          "base_uri": "https://localhost:8080/"
        },
        "id": "kUViw_0YFqMB",
        "outputId": "5a494619-dc4f-4fd8-abf5-1e5fa2609fe9"
      },
      "outputs": [
        {
          "output_type": "stream",
          "name": "stdout",
          "text": [
            "+--------------+-----+\n",
            "|         items| freq|\n",
            "+--------------+-----+\n",
            "|[patients, t0]|58487|\n",
            "|     [aim, t0]|46949|\n",
            "| [results, t0]|45547|\n",
            "|   [study, t0]|42329|\n",
            "|   [using, t0]|40581|\n",
            "| [present, t0]|38754|\n",
            "|    [used, t0]|38166|\n",
            "|     [may, t0]|31004|\n",
            "|     [two, t0]|30838|\n",
            "|    [also, t0]|30148|\n",
            "|    [data, t0]|29668|\n",
            "+--------------+-----+\n",
            "\n"
          ]
        }
      ],
      "source": [
        "query = \"\"\"select items, freq\n",
        "           from mostPopularItemInABasket\n",
        "           where size(items) > 1\n",
        "           order by freq desc\n",
        "           limit 20\"\"\"\n",
        "spark.sql(query).show()"
      ]
    },
    {
      "cell_type": "code",
      "source": [
        "query = \"\"\"select items, freq\n",
        "           from mostPopularItemInABasket\n",
        "           where size(items) > 2\n",
        "           order by freq desc\n",
        "           limit 20\"\"\"\n",
        "spark.sql(query).show()"
      ],
      "metadata": {
        "colab": {
          "base_uri": "https://localhost:8080/"
        },
        "id": "XMfYGosEB9Gj",
        "outputId": "f803871f-01a2-458e-fa1a-68cba95b363d"
      },
      "execution_count": null,
      "outputs": [
        {
          "output_type": "stream",
          "name": "stdout",
          "text": [
            "+-----+----+\n",
            "|items|freq|\n",
            "+-----+----+\n",
            "+-----+----+\n",
            "\n"
          ]
        }
      ]
    },
    {
      "cell_type": "code",
      "source": [
        "# Display generated association rules.\n",
        "associationRules = model.associationRules\n",
        "associationRules.createOrReplaceTempView(\"associationRules\")\n",
        "associationRules.show()"
      ],
      "metadata": {
        "colab": {
          "base_uri": "https://localhost:8080/"
        },
        "id": "39xLV99iBjbq",
        "outputId": "e4aa6a37-fbec-4b71-ee96-b3e4349c1356"
      },
      "execution_count": null,
      "outputs": [
        {
          "output_type": "stream",
          "name": "stdout",
          "text": [
            "+----------+----------+-------------------+----+-------------------+\n",
            "|antecedent|consequent|         confidence|lift|            support|\n",
            "+----------+----------+-------------------+----+-------------------+\n",
            "|   [using]|      [t0]|                1.0| 1.0|0.13757343792905888|\n",
            "|    [used]|      [t0]|                1.0| 1.0|0.12938635893645944|\n",
            "|     [may]|      [t0]|                1.0| 1.0|0.10510649982880022|\n",
            "|     [two]|      [t0]|                1.0| 1.0|0.10454374408852216|\n",
            "|    [data]|      [t0]|                1.0| 1.0|0.10057733314800815|\n",
            "|   [study]|      [t0]|                1.0| 1.0|0.14349932367608323|\n",
            "| [present]|      [t0]|                1.0| 1.0| 0.1313797346911793|\n",
            "|      [t0]|     [may]|0.10510649982880022| 1.0|0.10510649982880022|\n",
            "|      [t0]|    [data]|0.10057733314800815| 1.0|0.10057733314800815|\n",
            "|      [t0]|     [aim]|0.15916156174888213| 1.0|0.15916156174888213|\n",
            "|      [t0]|   [using]|0.13757343792905888| 1.0|0.13757343792905888|\n",
            "|      [t0]|   [study]|0.14349932367608323| 1.0|0.14349932367608323|\n",
            "|      [t0]|    [used]|0.12938635893645944| 1.0|0.12938635893645944|\n",
            "|      [t0]|[patients]|0.19827647579302793| 1.0|0.19827647579302793|\n",
            "|      [t0]|    [also]|0.10220457866206518| 1.0|0.10220457866206518|\n",
            "|      [t0]|     [two]|0.10454374408852216| 1.0|0.10454374408852216|\n",
            "|      [t0]| [results]| 0.1544086488099072| 1.0| 0.1544086488099072|\n",
            "|      [t0]| [present]| 0.1313797346911793| 1.0| 0.1313797346911793|\n",
            "|    [also]|      [t0]|                1.0| 1.0|0.10220457866206518|\n",
            "|[patients]|      [t0]|                1.0| 1.0|0.19827647579302793|\n",
            "+----------+----------+-------------------+----+-------------------+\n",
            "only showing top 20 rows\n",
            "\n"
          ]
        }
      ]
    },
    {
      "cell_type": "code",
      "execution_count": null,
      "metadata": {
        "colab": {
          "base_uri": "https://localhost:8080/"
        },
        "id": "HKEWjEfoMtuW",
        "outputId": "5a480219-05f2-4a15-9a66-15e465cb2751"
      },
      "outputs": [
        {
          "output_type": "execute_result",
          "data": {
            "text/plain": [
              "22"
            ]
          },
          "metadata": {},
          "execution_count": 69
        }
      ],
      "source": [
        "associationRules.count()"
      ]
    },
    {
      "cell_type": "code",
      "execution_count": null,
      "metadata": {
        "id": "uHvqEu6WOKP1"
      },
      "outputs": [],
      "source": [
        "assoc_rules = associationRules.toPandas()"
      ]
    },
    {
      "cell_type": "code",
      "execution_count": null,
      "metadata": {
        "colab": {
          "base_uri": "https://localhost:8080/"
        },
        "id": "Rz9fFDglUJ9y",
        "outputId": "0562cd4e-5c27-4a9d-d064-ebf7746911b4"
      },
      "outputs": [
        {
          "output_type": "execute_result",
          "data": {
            "text/plain": [
              "count    22.000000\n",
              "mean      0.566642\n",
              "std       0.444047\n",
              "min       0.100577\n",
              "25%       0.132928\n",
              "50%       0.599138\n",
              "75%       1.000000\n",
              "max       1.000000\n",
              "Name: confidence, dtype: float64"
            ]
          },
          "metadata": {},
          "execution_count": 71
        }
      ],
      "source": [
        "assoc_rules.confidence.describe()"
      ]
    },
    {
      "cell_type": "code",
      "execution_count": null,
      "metadata": {
        "colab": {
          "base_uri": "https://localhost:8080/"
        },
        "id": "LQNXQETdUYHu",
        "outputId": "83885cf1-8735-45e5-9c64-147d5264d7cc"
      },
      "outputs": [
        {
          "output_type": "execute_result",
          "data": {
            "text/plain": [
              "count    22.000000\n",
              "mean      0.133283\n",
              "std       0.029499\n",
              "min       0.100577\n",
              "25%       0.104684\n",
              "50%       0.131380\n",
              "75%       0.151681\n",
              "max       0.198276\n",
              "Name: support, dtype: float64"
            ]
          },
          "metadata": {},
          "execution_count": 72
        }
      ],
      "source": [
        "assoc_rules.support.describe()"
      ]
    },
    {
      "cell_type": "code",
      "execution_count": null,
      "metadata": {
        "id": "Fv3uaax3GTCm",
        "colab": {
          "base_uri": "https://localhost:8080/"
        },
        "outputId": "b0302403-7a7b-48b9-925e-994de64c6159"
      },
      "outputs": [
        {
          "output_type": "stream",
          "name": "stdout",
          "text": [
            "+---------------+-----------------+-------------------+\n",
            "|antecedent (if)|consequent (then)|         confidence|\n",
            "+---------------+-----------------+-------------------+\n",
            "|        [using]|             [t0]|                1.0|\n",
            "|         [used]|             [t0]|                1.0|\n",
            "|          [may]|             [t0]|                1.0|\n",
            "|          [two]|             [t0]|                1.0|\n",
            "|         [data]|             [t0]|                1.0|\n",
            "|        [study]|             [t0]|                1.0|\n",
            "|      [present]|             [t0]|                1.0|\n",
            "|         [also]|             [t0]|                1.0|\n",
            "|     [patients]|             [t0]|                1.0|\n",
            "|      [results]|             [t0]|                1.0|\n",
            "|          [aim]|             [t0]|                1.0|\n",
            "|           [t0]|       [patients]|0.19827647579302793|\n",
            "|           [t0]|            [aim]|0.15916156174888213|\n",
            "|           [t0]|        [results]| 0.1544086488099072|\n",
            "|           [t0]|          [study]|0.14349932367608323|\n",
            "|           [t0]|          [using]|0.13757343792905888|\n",
            "|           [t0]|        [present]| 0.1313797346911793|\n",
            "|           [t0]|           [used]|0.12938635893645944|\n",
            "|           [t0]|            [may]|0.10510649982880022|\n",
            "|           [t0]|            [two]|0.10454374408852216|\n",
            "+---------------+-----------------+-------------------+\n",
            "\n"
          ]
        }
      ],
      "source": [
        "query = \"\"\"select antecedent as `antecedent (if)`, consequent as `consequent (then)`, confidence\n",
        "           from associationRules\n",
        "           order by confidence desc\n",
        "           limit 20\"\"\"\n",
        "\n",
        "res = spark.sql(query)\n",
        "res.show()"
      ]
    },
    {
      "cell_type": "code",
      "execution_count": null,
      "metadata": {
        "id": "fz05xoGdHbuk",
        "colab": {
          "base_uri": "https://localhost:8080/"
        },
        "outputId": "82b11ea7-5386-4f46-d417-2f056395b1d3"
      },
      "outputs": [
        {
          "output_type": "stream",
          "name": "stdout",
          "text": [
            "+--------------------+--------------------+----------+--------------------+\n",
            "|      processed_text|               items|word_count|          prediction|\n",
            "+--------------------+--------------------+----------+--------------------+\n",
            "|the behaviour of ...|[behaviour, human...|        50|[may, data, aim, ...|\n",
            "|fast reaction tec...|[protein, means, ...|        61|[may, data, aim, ...|\n",
            "|the role of the d...|[production, appe...|        64|[may, data, aim, ...|\n",
            "|this study uses a...|[compare, least, ...|        44|[may, data, aim, ...|\n",
            "|a statistical t0 ...|[starting, import...|        62|[may, data, aim, ...|\n",
            "|the increasing us...|[distribution, le...|        50|[may, data, aim, ...|\n",
            "|observation of th...|[behaviour, certa...|        31|[may, data, aim, ...|\n",
            "|this t0 investiga...|[appears, new, de...|        55|[may, data, aim, ...|\n",
            "|in a t0 of alcoho...|[development, fou...|         8|[may, data, aim, ...|\n",
            "|the authors repor...|[certain, second,...|        26|[may, data, aim, ...|\n",
            "|the plantar cushi...|[instance, correl...|        51|[may, data, aim, ...|\n",
            "|in solomon island...|[additional, prog...|        20|[may, data, aim, ...|\n",
            "|during the wet se...|[basis, horses, u...|        59|[may, data, aim, ...|\n",
            "|su is a unique ne...|[ill, least, unco...|        52|[may, data, aim, ...|\n",
            "|data are presente...|[radiographs, tec...|        50|[aim, using, stud...|\n",
            "|the reconstituted...|[greater, presenc...|        53|[may, data, aim, ...|\n",
            "|the cd t0 of the ...|[dadtcontaining, ...|        69|[data, aim, using...|\n",
            "|the vitamin kdepe...|[detergents, stil...|        43|[may, data, aim, ...|\n",
            "|two new methods a...|[protein, techniq...|        70|[data, aim, using...|\n",
            "|in this introduct...|[basis, concept, ...|        27|[may, data, aim, ...|\n",
            "|contribution to t...|[metacercariae, p...|        49|[may, data, aim, ...|\n",
            "|in order to t0 so...|[emergency, poiso...|        60|[may, data, aim, ...|\n",
            "|phosphoglycerate ...|[rapid, appears, ...|        58|[may, data, aim, ...|\n",
            "|the authors t0 th...|[pronounced, stil...|        40|[may, data, aim, ...|\n",
            "|published work sh...|[exposed, conceiv...|        59|[data, aim, using...|\n",
            "|the preoperative ...|[atropine, operat...|        27|[data, aim, using...|\n",
            "|in all earlier st...|[human, reconfirm...|        29|[may, data, aim, ...|\n",
            "|a t0 of the influ...|[significant, ora...|        20|[may, data, aim, ...|\n",
            "|the synthesis of ...|[sufficiently, sy...|        32|[may, data, aim, ...|\n",
            "|one hundred and e...|[aureus, investig...|        51|[may, data, aim, ...|\n",
            "|this is a very pr...|[important, pge, ...|        39|[may, data, aim, ...|\n",
            "|the variability i...|[investigations, ...|        69|[may, data, aim, ...|\n",
            "|women in midpregn...|[technique, provi...|        86|[may, data, aim, ...|\n",
            "|inorder to gain a...|[fibrosis, protei...|        54|[may, data, aim, ...|\n",
            "|the authors condu...|[opposite, second...|        26|[may, data, aim, ...|\n",
            "|to t0 the interac...|[result, using, m...|        76|[may, aim, study,...|\n",
            "|the aa emphasizin...|[homogenize, spec...|        41|[may, data, using...|\n",
            "|twenty outpatient...|[least, outpatien...|        55|[may, data, aim, ...|\n",
            "|patient character...|[behavioural, ant...|        72|[may, data, aim, ...|\n",
            "|a t0 of the acidb...|[alkolosis, signi...|        38|[may, aim, using,...|\n",
            "|the antimicrobial...|[result, bacillus...|        63|[may, data, aim, ...|\n",
            "|the intracellular...|[molecules, dimet...|        34|[may, data, aim, ...|\n",
            "|the paper briefly...|[protein, chemica...|        33|[may, aim, using,...|\n",
            "|neuroendocrine fu...|[found, types, ab...|        39|[data, aim, using...|\n",
            "|t0 on lmalic acid...|[producing, x, pr...|        66|[may, data, aim, ...|\n",
            "|the surgical and ...|[sterillization, ...|        61|[data, aim, study...|\n",
            "|smallangle neutro...|[protein, smallan...|        31|[may, data, aim, ...|\n",
            "|the purpose of th...|[regulation, incr...|        87|[may, data, aim, ...|\n",
            "|in order to expla...|[cardiopathy, lon...|        46|[may, data, aim, ...|\n",
            "|variations in ser...|[reliable, neopla...|        30|[may, data, aim, ...|\n",
            "|the roll tube cul...|[anaerobes, techn...|        53|[may, data, aim, ...|\n",
            "|a multfaceted inp...|[programme, overc...|        21|[may, data, aim, ...|\n",
            "|a doubleblind pla...|[welltolerated, a...|        43|[may, data, aim, ...|\n",
            "|the purpose of th...|[measured, level,...|        59|[may, data, aim, ...|\n",
            "|the present t0 de...|[longsleep, ethan...|        25|[may, data, aim, ...|\n",
            "|the results of a ...|[carbonic, found,...|        40|[may, data, aim, ...|\n",
            "|clinical enzymolo...|[specimens, blood...|        28|[may, data, aim, ...|\n",
            "|a nonblind clinic...|[social, obtained...|        50|[may, data, aim, ...|\n",
            "|a biochemical t0 ...|[parameters, huma...|        25|[may, data, aim, ...|\n",
            "|the separation of...|[using, rapid, ch...|        36|[may, data, aim, ...|\n",
            "|during a fiveyear...|[eight, peritonit...|        50|[may, data, aim, ...|\n",
            "|we measured indiv...|[eight, measured,...|        66|[may, data, aim, ...|\n",
            "|the kinetic t0 of...|[iron, concentrat...|        67|[may, data, aim, ...|\n",
            "|since cogan descr...|[publications, ca...|        31|[may, data, aim, ...|\n",
            "|a t0 of the neari...|[step, least, sig...|        63|[may, data, aim, ...|\n",
            "|a t0 of partial c...|[lung, bronchopne...|        38|[may, data, aim, ...|\n",
            "|the t0 included t...|[bicarbonate, bet...|        38|[may, data, aim, ...|\n",
            "|a kinetic t0 of i...|[yielded, respect...|        34|[may, aim, using,...|\n",
            "|this t0 demonstra...|[interpreted, tec...|        65|[may, data, aim, ...|\n",
            "|lipid emulsions b...|[interpreted, lab...|        60|[data, aim, using...|\n",
            "|the t0 is concern...|[bicarbonate, cor...|        42|[may, data, aim, ...|\n",
            "|the dated treatme...|[primarily, sea, ...|        56|[may, data, aim, ...|\n",
            "|we used radiolabe...|[lymph, flow, rad...|        34|[may, data, aim, ...|\n",
            "|these studies qua...|[result, manifest...|        66|[data, aim, using...|\n",
            "|the present t0 ex...|[magnitudes, grea...|        41|[may, data, aim, ...|\n",
            "|the authors descr...|[technique, descr...|        27|[may, data, aim, ...|\n",
            "|curriculum develo...|[development, req...|        79|[data, aim, using...|\n",
            "|the large hystere...|[ionic, titration...|        53|[may, data, aim, ...|\n",
            "|a t0 of the haemo...|[significant, th,...|        32|[data, aim, using...|\n",
            "|in an attempt to ...|[result, measured...|        23|[may, data, aim, ...|\n",
            "|this t0 examines ...|[contraceptive, u...|        46|[may, data, aim, ...|\n",
            "|a t0 was conducte...|[significant, stu...|        28|[may, data, aim, ...|\n",
            "|investigated whet...|[result, means, m...|        64|[may, data, aim, ...|\n",
            "|the antihypertens...|[new, second, sig...|        50|[may, data, aim, ...|\n",
            "|the effectiveness...|[hamilton, greate...|        54|[may, data, aim, ...|\n",
            "|consistent with p...|[moshers, activit...|        49|[may, data, aim, ...|\n",
            "|a t0 was conducte...|[organism, found,...|        37|[may, data, aim, ...|\n",
            "|the authors t0 th...|[syndrome, prescr...|        38|[may, data, aim, ...|\n",
            "|a t0 of preschool...|[result, function...|        64|[aim, study, used...|\n",
            "|tropanes bearing ...|[sc, found, r, pr...|        52|[may, data, aim, ...|\n",
            "|fatty acid synthe...|[protein, exhibit...|        77|[may, data, aim, ...|\n",
            "|a nonconditional ...|[interpreted, sup...|        43|[may, data, aim, ...|\n",
            "|localization of t...|[elecrographic, b...|        45|[may, data, aim, ...|\n",
            "|the spread of ade...|[specimens, north...|        29|[may, data, aim, ...|\n",
            "|an ethidium homod...|[fluorometric, mo...|        65|[may, data, aim, ...|\n",
            "|norms of microbio...|[deaths, better, ...|        70|[may, data, aim, ...|\n",
            "|of consecutive pa...|[rapid, attending...|        25|[may, data, aim, ...|\n",
            "|a total of normal...|[gene, rhesus, pr...|        49|[may, data, aim, ...|\n",
            "|in order to deter...|[circumstances, b...|        70|[data, aim, using...|\n",
            "|two possible expl...|[course, response...|       112|[may, aim, using,...|\n",
            "|bleomycin m has b...|[protein, x, anap...|        74|[may, data, aim, ...|\n",
            "|chloroquine quani...|[development, imp...|        47|[may, data, aim, ...|\n",
            "|midazolam is a sh...|[water, compare, ...|        64|[may, data, aim, ...|\n",
            "|dispersed rat par...|[ii, loss, alphaa...|        59|[may, data, aim, ...|\n",
            "|a t0 is presented...|[gene, united, co...|        34|[may, data, aim, ...|\n",
            "|seventeen patient...|[flora, frequency...|        54|[may, data, aim, ...|\n",
            "|a t0 was made of ...|[cold, vibrios, g...|        59|[may, data, aim, ...|\n",
            "|these buccolinguo...|[still, dopathera...|        54|[may, data, aim, ...|\n",
            "|during laparoscop...|[pneumoperitoneum...|        56|[may, data, aim, ...|\n",
            "|progressive chang...|[parameters, effe...|        35|[may, data, aim, ...|\n",
            "|radially oriented...|[lysis, resemble,...|        35|[may, data, aim, ...|\n",
            "|we have made a de...|[marcies, course,...|        43|[may, data, aim, ...|\n",
            "|fortytwo va hospi...|[participated, lo...|        38|[may, data, aim, ...|\n",
            "|this clinical t0 ...|[course, human, a...|        31|[may, data, aim, ...|\n",
            "|the definite diag...|[reliable, import...|        47|[data, aim, using...|\n",
            "|the effect of a b...|[flow, measured, ...|        55|[may, data, aim, ...|\n",
            "|fortyseven adults...|[projected, eight...|        74|[may, data, aim, ...|\n",
            "|the hemolymph fro...|[presence, blood,...|        31|[may, data, aim, ...|\n",
            "|in a prospective ...|[deaths, metaboli...|        20|[may, data, aim, ...|\n",
            "|the present t0 de...|[crossreactivity,...|        18|[may, data, aim, ...|\n",
            "|a t0 of patients ...|[found, phosphata...|        47|[may, data, aim, ...|\n",
            "|this t0 was done ...|[spermatozoa, spe...|        25|[data, aim, using...|\n",
            "|a previous t0 ind...|[technique, contr...|        68|[data, aim, using...|\n",
            "|fifty seven regis...|[supported, level...|        44|[may, data, aim, ...|\n",
            "|morphometric tech...|[compare, density...|        26|[may, data, aim, ...|\n",
            "|a bacteriological...|[concentration, u...|        43|[may, data, aim, ...|\n",
            "|the supravital me...|[sprouting, techn...|        54|[data, aim, using...|\n",
            "|the authors t0 st...|[means, relation,...|        42|[may, data, aim, ...|\n",
            "|the authors sugge...|[radiographs, bil...|        56|[may, aim, study,...|\n",
            "|a study was made ...|[flora, greater, ...|        39|[may, data, aim, ...|\n",
            "|members of three ...|[result, unicellu...|        62|[may, data, aim, ...|\n",
            "|the bdellovibrios...|[shaft, eight, pe...|        53|[may, data, aim, ...|\n",
            "|the types of extr...|[syndrome, types,...|        80|[data, aim, using...|\n",
            "|the report presen...|[second, units, m...|        84|[may, aim, using,...|\n",
            "|the medical econo...|[household, impro...|       109|[aim, using, stud...|\n",
            "|a t0 of adult psy...|[prescribed, leas...|        65|[may, data, aim, ...|\n",
            "|a threedimensiona...|[means, technique...|        66|[may, aim, using,...|\n",
            "|the correlation b...|[using, arrhythmi...|        56|[may, data, aim, ...|\n",
            "|under the conditi...|[farm, second, mm...|        95|[data, aim, using...|\n",
            "|synovial fluid an...|[fluid, protein, ...|        58|[may, data, aim, ...|\n",
            "|the radical anion...|[producing, found...|        59|[may, data, aim, ...|\n",
            "|we reviewed the r...|[radiographs, bas...|        68|[may, data, aim, ...|\n",
            "|the anatomical an...|[basis, valvular,...|        49|[may, data, aim, ...|\n",
            "|vectarion has a p...|[level, significa...|        55|[may, data, using...|\n",
            "|the purpose of th...|[clear, technique...|        65|[may, data, aim, ...|\n",
            "|electron microsco...|[pectin, found, a...|        33|[may, data, aim, ...|\n",
            "|in an effort to c...|[producing, effor...|        37|[may, data, aim, ...|\n",
            "|by reference to c...|[rupture, concent...|        36|[may, data, aim, ...|\n",
            "|on the basis of p...|[basis, ill, bett...|        63|[may, data, aim, ...|\n",
            "|an experimental t...|[measured, import...|        64|[data, aim, using...|\n",
            "|the kinetics and ...|[step, ionic, ion...|        40|[data, aim, using...|\n",
            "|the study on the ...|[using, important...|        44|[may, data, aim, ...|\n",
            "|regeneration of b...|[irradiated, stri...|        41|[may, data, aim, ...|\n",
            "|deficient leucocy...|[pronounced, addi...|        46|[may, data, aim, ...|\n",
            "|a t0 of the mecha...|[redox, alteratio...|        39|[may, aim, using,...|\n",
            "|the effect of a p...|[glycoproteins, g...|        53|[may, aim, using,...|\n",
            "|the main lines in...|[main, situations...|        25|[may, aim, using,...|\n",
            "|the clinician nee...|[contraceptive, u...|        50|[may, data, aim, ...|\n",
            "|the student respo...|[step, course, re...|        80|[may, data, aim, ...|\n",
            "|capacitively coup...|[capacitively, hz...|        44|[may, data, aim, ...|\n",
            "|although the term...|[ill, suspected, ...|        65|[may, data, aim, ...|\n",
            "|the aim of the t0...|[dust, winds, rec...|        59|[may, data, using...|\n",
            "|the rhesus monkey...|[rhesus, floccule...|        45|[may, data, aim, ...|\n",
            "|the increase in t...|[inducing, level,...|        65|[data, aim, using...|\n",
            "|an interim report...|[ineffective, new...|        57|[may, data, aim, ...|\n",
            "|a preliminary in ...|[edtac, organic, ...|        55|[may, data, aim, ...|\n",
            "|a clinical t0 was...|[untreated, fluid...|        74|[data, aim, using...|\n",
            "|the author tried ...|[towel, measured,...|        54|[may, data, aim, ...|\n",
            "|histological t0 o...|[development, sig...|        26|[may, data, aim, ...|\n",
            "|a multicentre ope...|[laboratory, impo...|        45|[may, aim, using,...|\n",
            "|an open t0 was ca...|[significant, fou...|        58|[may, data, aim, ...|\n",
            "|mitral commissuro...|[deaths, longer, ...|        40|[may, data, aim, ...|\n",
            "|positive urine an...|[assays, obtained...|        33|[may, data, aim, ...|\n",
            "|the nature of the...|[ltriiodothyronin...|        85|[may, data, aim, ...|\n",
            "|with the absence ...|[colpoda, provide...|        50|[may, data, aim, ...|\n",
            "|a comparative t0 ...|[oxygenconsumptio...|        16|[may, data, aim, ...|\n",
            "|in this t0 we hav...|[detected, action...|        31|[may, data, aim, ...|\n",
            "|a complement fixa...|[spermatozoa, pri...|        78|[data, aim, study...|\n",
            "|a series of exper...|[technique, new, ...|        55|[may, data, aim, ...|\n",
            "|a t0 conducted on...|[level, junior, f...|        33|[may, data, aim, ...|\n",
            "|the present t0 re...|[result, basis, p...|        59|[may, data, aim, ...|\n",
            "|a t0 of case reco...|[still, synthetic...|        50|[may, data, aim, ...|\n",
            "|measles vaccinati...|[level, yearold, ...|        61|[may, data, aim, ...|\n",
            "|the present t0 in...|[significant, mid...|        44|[may, data, aim, ...|\n",
            "|a prospective t0 ...|[asymptomatic, pr...|        42|[may, data, aim, ...|\n",
            "|infections due to...|[production, dete...|        54|[may, data, aim, ...|\n",
            "|this t0 confirms ...|[production, migr...|        20|[may, data, aim, ...|\n",
            "|intraamygdaloid u...|[starting, loss, ...|        57|[data, aim, using...|\n",
            "|as revealed antih...|[titres, course, ...|        36|[may, data, aim, ...|\n",
            "|cholangitis is a ...|[biliary, univers...|        44|[may, data, aim, ...|\n",
            "|by the serologica...|[determinant, het...|        57|[may, aim, using,...|\n",
            "|living bloodstrea...|[technique, glyco...|        41|[may, data, aim, ...|\n",
            "|verdohemoglobin a...|[readily, found, ...|        28|[may, data, aim, ...|\n",
            "|the slow h oscill...|[artery, originat...|        79|[data, aim, using...|\n",
            "|detecting pulmona...|[lung, detecting,...|        38|[may, data, aim, ...|\n",
            "|in the t0 of acti...|[functions, impor...|        17|[may, data, aim, ...|\n",
            "|the migration of ...|[migration, perit...|        36|[may, data, aim, ...|\n",
            "|investigations on...|[investigations, ...|        43|[data, aim, using...|\n",
            "|a field survey ba...|[frequency, found...|        50|[may, aim, using,...|\n",
            "|the application o...|[step, developmen...|        42|[may, data, aim, ...|\n",
            "+--------------------+--------------------+----------+--------------------+\n",
            "only showing top 200 rows\n",
            "\n"
          ]
        }
      ],
      "source": [
        "associations = model.transform(MeDal)\n",
        "associations.show(n=200)"
      ]
    }
  ]
}